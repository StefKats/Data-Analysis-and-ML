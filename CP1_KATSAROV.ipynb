{
 "cells": [
  {
   "cell_type": "markdown",
   "metadata": {},
   "source": [
    "# Checkpoint 1: Neural networks and deep learning\n",
    "---\n",
    "*Responsible:* Guillermo Hamity (<ghamity@ed.ac.uk>)\n",
    "\n",
    "In this checkpoint exercise, we will use neural networks to predict the **type** of weather *given* the available ground observations. You will be using observation data from **June 2019** across all UK Met Office weather stations.\n",
    "\n",
    "### Notes on the Dataset\n",
    "* You will be using weather observation data from the UK Met Office Datapoint service\n",
    "* Ground observations are made hourly at weather stations across the length of the UK \n",
    "* The data sample covers data from June 2019\n",
    "* Data collections for each day starts at 6.30pm. All observation data is listed in one day blocks\n",
    "* The time value column refers to the number of minutes after midnight \n",
    "* `Null` values for some features are expected (e.g. Wind Gust)\n",
    "* Data import and preparation is already provided \n",
    "\n",
    "\n",
    "This week, I am not providing example notebooks like `lecture2.ipynb` and `data-science-tools.ipynb` for Unit 2, though these may still be useful to you. Instead, I am **providing the imports for all of the modules and classes that you should need.** Think of these as LEGO blocks; you have the ones you need but may look up how to \"assemble\" them.\n",
    "\n",
    "### Notes on assessment\n",
    "* Try and calculate the answers to the exercises provided. If you are unable to complete the question, describe which approach you _would_ have taken to solve the problem\n",
    "* Code must be understandable and reproducible. Before grading the notebook kernel **may** be restarted and re-run, so make sure that your code can run from start to finish without any (unintentional) errors\n",
    "* If you are unsure on how to proceed please **ask one of the TAs** during the workshop\n",
    "- Notebooks should be submitted by **10am on Friday 9 October 2021** \n",
    "- This CP exercise sheet is divided into **6 sections**, corresponding to parts of the lecture, giving a maximum of **10 marks** in total:\n",
    "\n",
    "| <p align='left'> Title                         | <p align='left'> Exercise nos. | <p align='left'> Number of marks |\n",
    "| ------------------------------------- | ----- | --- |\n",
    "| <p align='left'> 1. Conceptual questions               | <p align='left'>  1–5  | <p align='left'> 3 |\n",
    "| <p align='left'> 2. Data preprocessing and RandomForest                | <p align='left'>  6–9  | <p align='left'> 2. |\n",
    "| <p align='left'> 3. Neural networks in `scikit-learn`  | <p align='left'>  10–11 | <p align='left'> 1.5 | \n",
    "| <p align='left'> 4. Neural networks in `Keras`         | <p align='left'> 12–13 | <p align='left'> 2 |\n",
    "| <p align='left'> 5. Regularisation                     | <p align='left'> 14–15 | <p align='left'> 1.5 |\n",
    "| <p align='left'> **Total** | | <p align='left'> **10** |\n",
    "\n",
    "- The total number of marks allocated for this CP is 10,\n",
    "    - 1 additional mark can be given (maximimally up to 10 marks in total) for \"bonus\" exercise on hyperparameter optimisation. If you are pressed for time, focus on the first five sections; those are the core ones.\n",
    "    - Half marks may be deducted for code legibility (i.e. very difficult to tell what you are doing), or for badly formated plots (i.e. no legends, axis labels etc.). The TAs will use their discression for this so comment code when applicable and keep relevant information in your plots.\n",
    "\n",
    "_Note:_ You can suppress double-printing of plots from the `plot` module by either _(a)_ adding a semicolon after the function call (_i.e._ `plot.<method>(...);`), or _(b)_ by capturing the return `pyplot.Figure` object as a variable (_i.e._ `fig = plot.<method>(...)`)."
   ]
  },
  {
   "cell_type": "markdown",
   "metadata": {},
   "source": [
    "## Preamble"
   ]
  },
  {
   "cell_type": "code",
   "execution_count": 1,
   "metadata": {},
   "outputs": [],
   "source": [
    "# Standard import(s)\n",
    "import numpy as np\n",
    "import pandas as pd\n",
    "import random as rn\n",
    "import sklearn\n",
    "import tensorflow as tf\n",
    "import matplotlib.pyplot as plt\n",
    "import seaborn as sns\n",
    "import os\n",
    "from sklearn.inspection import PartialDependenceDisplay\n",
    "from sklearn import metrics\n",
    "%matplotlib inline\n",
    "\n",
    "# Suppress unnecessary ConvergenceWarnings and DeprecationWarnings\n",
    "import warnings\n",
    "from sklearn.exceptions import ConvergenceWarning\n",
    "warnings.filterwarnings(action='ignore', category=ConvergenceWarning)\n",
    "warnings.filterwarnings(action='ignore', category=DeprecationWarning)\n",
    "\n",
    "# Set a random seed variable to make workbook reproducible\n",
    "seed=5\n",
    "np.random.seed(seed)\n",
    "rn.seed(seed)\n",
    "os.environ['PYTHONHASHSEED']=str(seed)\n",
    "tf.compat.v1.set_random_seed(seed)\n",
    "\n",
    "# Switch off multi-threading for TensorFlow\n",
    "from tensorflow.python.keras import backend as K\n",
    "config = tf.compat.v1.ConfigProto(intra_op_parallelism_threads=1,\n",
    "                                  inter_op_parallelism_threads=1)\n",
    "sess = tf.compat.v1.Session(graph=tf.compat.v1.get_default_graph(), config=config)\n",
    "K.set_session(sess)"
   ]
  },
  {
   "cell_type": "code",
   "execution_count": 2,
   "metadata": {},
   "outputs": [
    {
     "data": {
      "text/html": [
       "<div>\n",
       "<style scoped>\n",
       "    .dataframe tbody tr th:only-of-type {\n",
       "        vertical-align: middle;\n",
       "    }\n",
       "\n",
       "    .dataframe tbody tr th {\n",
       "        vertical-align: top;\n",
       "    }\n",
       "\n",
       "    .dataframe thead th {\n",
       "        text-align: right;\n",
       "    }\n",
       "</style>\n",
       "<table border=\"1\" class=\"dataframe\">\n",
       "  <thead>\n",
       "    <tr style=\"text-align: right;\">\n",
       "      <th></th>\n",
       "      <th>StationID</th>\n",
       "      <th>StationName</th>\n",
       "      <th>Elevation</th>\n",
       "      <th>Latitude</th>\n",
       "      <th>Longitude</th>\n",
       "      <th>Date</th>\n",
       "      <th>Time</th>\n",
       "      <th>Gust</th>\n",
       "      <th>Temperature</th>\n",
       "      <th>Visibility</th>\n",
       "      <th>WindDirection</th>\n",
       "      <th>WindSpeed</th>\n",
       "      <th>Pressure</th>\n",
       "      <th>PressureTrend</th>\n",
       "      <th>DewPoint</th>\n",
       "      <th>Humidity</th>\n",
       "      <th>Type</th>\n",
       "    </tr>\n",
       "  </thead>\n",
       "  <tbody>\n",
       "    <tr>\n",
       "      <th>0</th>\n",
       "      <td>3002</td>\n",
       "      <td>BALTASOUND</td>\n",
       "      <td>15.0</td>\n",
       "      <td>60.749</td>\n",
       "      <td>-0.854</td>\n",
       "      <td>2018-05-31</td>\n",
       "      <td>1020</td>\n",
       "      <td>NaN</td>\n",
       "      <td>16.1</td>\n",
       "      <td>30000.0</td>\n",
       "      <td>E</td>\n",
       "      <td>8.0</td>\n",
       "      <td>1019.0</td>\n",
       "      <td>F</td>\n",
       "      <td>11.6</td>\n",
       "      <td>74.5</td>\n",
       "      <td>0</td>\n",
       "    </tr>\n",
       "    <tr>\n",
       "      <th>1</th>\n",
       "      <td>3002</td>\n",
       "      <td>BALTASOUND</td>\n",
       "      <td>15.0</td>\n",
       "      <td>60.749</td>\n",
       "      <td>-0.854</td>\n",
       "      <td>2018-05-31</td>\n",
       "      <td>1080</td>\n",
       "      <td>NaN</td>\n",
       "      <td>14.9</td>\n",
       "      <td>22000.0</td>\n",
       "      <td>E</td>\n",
       "      <td>8.0</td>\n",
       "      <td>1019.0</td>\n",
       "      <td>F</td>\n",
       "      <td>11.8</td>\n",
       "      <td>81.5</td>\n",
       "      <td>0</td>\n",
       "    </tr>\n",
       "    <tr>\n",
       "      <th>2</th>\n",
       "      <td>3002</td>\n",
       "      <td>BALTASOUND</td>\n",
       "      <td>15.0</td>\n",
       "      <td>60.749</td>\n",
       "      <td>-0.854</td>\n",
       "      <td>2018-05-31</td>\n",
       "      <td>1140</td>\n",
       "      <td>NaN</td>\n",
       "      <td>14.0</td>\n",
       "      <td>14000.0</td>\n",
       "      <td>E</td>\n",
       "      <td>6.0</td>\n",
       "      <td>1018.0</td>\n",
       "      <td>F</td>\n",
       "      <td>11.6</td>\n",
       "      <td>85.4</td>\n",
       "      <td>0</td>\n",
       "    </tr>\n",
       "    <tr>\n",
       "      <th>3</th>\n",
       "      <td>3002</td>\n",
       "      <td>BALTASOUND</td>\n",
       "      <td>15.0</td>\n",
       "      <td>60.749</td>\n",
       "      <td>-0.854</td>\n",
       "      <td>2018-05-31</td>\n",
       "      <td>1200</td>\n",
       "      <td>NaN</td>\n",
       "      <td>12.9</td>\n",
       "      <td>12000.0</td>\n",
       "      <td>ENE</td>\n",
       "      <td>2.0</td>\n",
       "      <td>1019.0</td>\n",
       "      <td>R</td>\n",
       "      <td>11.0</td>\n",
       "      <td>88.1</td>\n",
       "      <td>0</td>\n",
       "    </tr>\n",
       "    <tr>\n",
       "      <th>4</th>\n",
       "      <td>3002</td>\n",
       "      <td>BALTASOUND</td>\n",
       "      <td>15.0</td>\n",
       "      <td>60.749</td>\n",
       "      <td>-0.854</td>\n",
       "      <td>2018-05-31</td>\n",
       "      <td>1260</td>\n",
       "      <td>NaN</td>\n",
       "      <td>12.0</td>\n",
       "      <td>9000.0</td>\n",
       "      <td>E</td>\n",
       "      <td>2.0</td>\n",
       "      <td>1019.0</td>\n",
       "      <td>R</td>\n",
       "      <td>10.9</td>\n",
       "      <td>92.9</td>\n",
       "      <td>1</td>\n",
       "    </tr>\n",
       "  </tbody>\n",
       "</table>\n",
       "</div>"
      ],
      "text/plain": [
       "   StationID StationName  Elevation  Latitude  Longitude        Date  Time  \\\n",
       "0       3002  BALTASOUND       15.0    60.749     -0.854  2018-05-31  1020   \n",
       "1       3002  BALTASOUND       15.0    60.749     -0.854  2018-05-31  1080   \n",
       "2       3002  BALTASOUND       15.0    60.749     -0.854  2018-05-31  1140   \n",
       "3       3002  BALTASOUND       15.0    60.749     -0.854  2018-05-31  1200   \n",
       "4       3002  BALTASOUND       15.0    60.749     -0.854  2018-05-31  1260   \n",
       "\n",
       "   Gust  Temperature  Visibility WindDirection  WindSpeed  Pressure  \\\n",
       "0   NaN         16.1     30000.0             E        8.0    1019.0   \n",
       "1   NaN         14.9     22000.0             E        8.0    1019.0   \n",
       "2   NaN         14.0     14000.0             E        6.0    1018.0   \n",
       "3   NaN         12.9     12000.0           ENE        2.0    1019.0   \n",
       "4   NaN         12.0      9000.0             E        2.0    1019.0   \n",
       "\n",
       "  PressureTrend  DewPoint  Humidity  Type  \n",
       "0             F      11.6      74.5     0  \n",
       "1             F      11.8      81.5     0  \n",
       "2             F      11.6      85.4     0  \n",
       "3             R      11.0      88.1     0  \n",
       "4             R      10.9      92.9     1  "
      ]
     },
     "execution_count": 2,
     "metadata": {},
     "output_type": "execute_result"
    }
   ],
   "source": [
    "# Load in the prepared weather data\n",
    "obs = pd.read_csv('weather.csv')\n",
    "obs.head()"
   ]
  },
  {
   "cell_type": "code",
   "execution_count": 3,
   "metadata": {},
   "outputs": [
    {
     "data": {
      "text/plain": [
       "(106553, 17)"
      ]
     },
     "execution_count": 3,
     "metadata": {},
     "output_type": "execute_result"
    }
   ],
   "source": [
    "obs.shape"
   ]
  },
  {
   "cell_type": "code",
   "execution_count": 4,
   "metadata": {},
   "outputs": [
    {
     "data": {
      "text/html": [
       "<div>\n",
       "<style scoped>\n",
       "    .dataframe tbody tr th:only-of-type {\n",
       "        vertical-align: middle;\n",
       "    }\n",
       "\n",
       "    .dataframe tbody tr th {\n",
       "        vertical-align: top;\n",
       "    }\n",
       "\n",
       "    .dataframe thead th {\n",
       "        text-align: right;\n",
       "    }\n",
       "</style>\n",
       "<table border=\"1\" class=\"dataframe\">\n",
       "  <thead>\n",
       "    <tr style=\"text-align: right;\">\n",
       "      <th></th>\n",
       "      <th>StationID</th>\n",
       "      <th>Elevation</th>\n",
       "      <th>Latitude</th>\n",
       "      <th>Longitude</th>\n",
       "      <th>Time</th>\n",
       "      <th>Gust</th>\n",
       "      <th>Temperature</th>\n",
       "      <th>Visibility</th>\n",
       "      <th>WindSpeed</th>\n",
       "      <th>Pressure</th>\n",
       "      <th>DewPoint</th>\n",
       "      <th>Humidity</th>\n",
       "      <th>Type</th>\n",
       "    </tr>\n",
       "  </thead>\n",
       "  <tbody>\n",
       "    <tr>\n",
       "      <th>count</th>\n",
       "      <td>106553.000000</td>\n",
       "      <td>106553.000000</td>\n",
       "      <td>106553.000000</td>\n",
       "      <td>106553.000000</td>\n",
       "      <td>106553.000000</td>\n",
       "      <td>7703.000000</td>\n",
       "      <td>106442.000000</td>\n",
       "      <td>92662.000000</td>\n",
       "      <td>102060.000000</td>\n",
       "      <td>99530.000000</td>\n",
       "      <td>106402.000000</td>\n",
       "      <td>106397.000000</td>\n",
       "      <td>106553.00000</td>\n",
       "    </tr>\n",
       "    <tr>\n",
       "      <th>mean</th>\n",
       "      <td>6147.845636</td>\n",
       "      <td>114.466594</td>\n",
       "      <td>53.673022</td>\n",
       "      <td>-2.829034</td>\n",
       "      <td>702.914418</td>\n",
       "      <td>33.043749</td>\n",
       "      <td>14.958912</td>\n",
       "      <td>25698.164404</td>\n",
       "      <td>8.999510</td>\n",
       "      <td>1018.748337</td>\n",
       "      <td>10.348008</td>\n",
       "      <td>76.185240</td>\n",
       "      <td>0.99603</td>\n",
       "    </tr>\n",
       "    <tr>\n",
       "      <th>std</th>\n",
       "      <td>15821.503845</td>\n",
       "      <td>171.669120</td>\n",
       "      <td>2.466079</td>\n",
       "      <td>2.269594</td>\n",
       "      <td>412.057262</td>\n",
       "      <td>13.424855</td>\n",
       "      <td>4.294516</td>\n",
       "      <td>14263.873943</td>\n",
       "      <td>6.087882</td>\n",
       "      <td>6.327468</td>\n",
       "      <td>3.120565</td>\n",
       "      <td>17.208653</td>\n",
       "      <td>0.92971</td>\n",
       "    </tr>\n",
       "    <tr>\n",
       "      <th>min</th>\n",
       "      <td>3002.000000</td>\n",
       "      <td>2.000000</td>\n",
       "      <td>49.207900</td>\n",
       "      <td>-10.250000</td>\n",
       "      <td>0.000000</td>\n",
       "      <td>0.000000</td>\n",
       "      <td>-1.200000</td>\n",
       "      <td>20.000000</td>\n",
       "      <td>0.000000</td>\n",
       "      <td>976.000000</td>\n",
       "      <td>-28.200000</td>\n",
       "      <td>0.800000</td>\n",
       "      <td>0.00000</td>\n",
       "    </tr>\n",
       "    <tr>\n",
       "      <th>25%</th>\n",
       "      <td>3204.000000</td>\n",
       "      <td>20.000000</td>\n",
       "      <td>51.565000</td>\n",
       "      <td>-4.149000</td>\n",
       "      <td>360.000000</td>\n",
       "      <td>29.000000</td>\n",
       "      <td>12.000000</td>\n",
       "      <td>14000.000000</td>\n",
       "      <td>5.000000</td>\n",
       "      <td>1015.000000</td>\n",
       "      <td>8.400000</td>\n",
       "      <td>65.300000</td>\n",
       "      <td>0.00000</td>\n",
       "    </tr>\n",
       "    <tr>\n",
       "      <th>50%</th>\n",
       "      <td>3414.000000</td>\n",
       "      <td>65.000000</td>\n",
       "      <td>53.175000</td>\n",
       "      <td>-2.663000</td>\n",
       "      <td>720.000000</td>\n",
       "      <td>32.000000</td>\n",
       "      <td>14.500000</td>\n",
       "      <td>25000.000000</td>\n",
       "      <td>8.000000</td>\n",
       "      <td>1018.000000</td>\n",
       "      <td>10.500000</td>\n",
       "      <td>79.200000</td>\n",
       "      <td>1.00000</td>\n",
       "    </tr>\n",
       "    <tr>\n",
       "      <th>75%</th>\n",
       "      <td>3769.000000</td>\n",
       "      <td>132.000000</td>\n",
       "      <td>55.285000</td>\n",
       "      <td>-1.097000</td>\n",
       "      <td>1020.000000</td>\n",
       "      <td>39.000000</td>\n",
       "      <td>17.500000</td>\n",
       "      <td>35000.000000</td>\n",
       "      <td>11.000000</td>\n",
       "      <td>1024.000000</td>\n",
       "      <td>12.500000</td>\n",
       "      <td>90.000000</td>\n",
       "      <td>1.00000</td>\n",
       "    </tr>\n",
       "    <tr>\n",
       "      <th>max</th>\n",
       "      <td>99142.000000</td>\n",
       "      <td>1245.000000</td>\n",
       "      <td>60.749000</td>\n",
       "      <td>1.348000</td>\n",
       "      <td>1380.000000</td>\n",
       "      <td>105.000000</td>\n",
       "      <td>31.600000</td>\n",
       "      <td>75000.000000</td>\n",
       "      <td>81.000000</td>\n",
       "      <td>1036.000000</td>\n",
       "      <td>22.700000</td>\n",
       "      <td>100.000000</td>\n",
       "      <td>3.00000</td>\n",
       "    </tr>\n",
       "  </tbody>\n",
       "</table>\n",
       "</div>"
      ],
      "text/plain": [
       "           StationID      Elevation       Latitude      Longitude  \\\n",
       "count  106553.000000  106553.000000  106553.000000  106553.000000   \n",
       "mean     6147.845636     114.466594      53.673022      -2.829034   \n",
       "std     15821.503845     171.669120       2.466079       2.269594   \n",
       "min      3002.000000       2.000000      49.207900     -10.250000   \n",
       "25%      3204.000000      20.000000      51.565000      -4.149000   \n",
       "50%      3414.000000      65.000000      53.175000      -2.663000   \n",
       "75%      3769.000000     132.000000      55.285000      -1.097000   \n",
       "max     99142.000000    1245.000000      60.749000       1.348000   \n",
       "\n",
       "                Time         Gust    Temperature    Visibility      WindSpeed  \\\n",
       "count  106553.000000  7703.000000  106442.000000  92662.000000  102060.000000   \n",
       "mean      702.914418    33.043749      14.958912  25698.164404       8.999510   \n",
       "std       412.057262    13.424855       4.294516  14263.873943       6.087882   \n",
       "min         0.000000     0.000000      -1.200000     20.000000       0.000000   \n",
       "25%       360.000000    29.000000      12.000000  14000.000000       5.000000   \n",
       "50%       720.000000    32.000000      14.500000  25000.000000       8.000000   \n",
       "75%      1020.000000    39.000000      17.500000  35000.000000      11.000000   \n",
       "max      1380.000000   105.000000      31.600000  75000.000000      81.000000   \n",
       "\n",
       "           Pressure       DewPoint       Humidity          Type  \n",
       "count  99530.000000  106402.000000  106397.000000  106553.00000  \n",
       "mean    1018.748337      10.348008      76.185240       0.99603  \n",
       "std        6.327468       3.120565      17.208653       0.92971  \n",
       "min      976.000000     -28.200000       0.800000       0.00000  \n",
       "25%     1015.000000       8.400000      65.300000       0.00000  \n",
       "50%     1018.000000      10.500000      79.200000       1.00000  \n",
       "75%     1024.000000      12.500000      90.000000       1.00000  \n",
       "max     1036.000000      22.700000     100.000000       3.00000  "
      ]
     },
     "execution_count": 4,
     "metadata": {},
     "output_type": "execute_result"
    }
   ],
   "source": [
    "obs.describe()"
   ]
  },
  {
   "cell_type": "markdown",
   "metadata": {},
   "source": [
    "For this exercise we will use **8** input features (provided) and clean the data:"
   ]
  },
  {
   "cell_type": "code",
   "execution_count": 5,
   "metadata": {},
   "outputs": [],
   "source": [
    "# Define 8 input feature variables, 1 target variable data, and names of the 3 weather types\n",
    "features = ['Latitude', 'Elevation', 'Temperature', 'Visibility', 'WindSpeed', 'Pressure', 'Humidity', 'WindDirection']\n",
    "output   = ['Type']\n",
    "wtype    = ['Clear', 'Cloudy', 'Precip']"
   ]
  },
  {
   "cell_type": "markdown",
   "metadata": {},
   "source": [
    "Define derived dataset containing only the relevant columns and rows."
   ]
  },
  {
   "cell_type": "code",
   "execution_count": 6,
   "metadata": {},
   "outputs": [
    {
     "data": {
      "text/plain": [
       "(86313, 9)"
      ]
     },
     "execution_count": 6,
     "metadata": {},
     "output_type": "execute_result"
    }
   ],
   "source": [
    "# Reduce to feature and type columns\n",
    "dataset = obs[features + output]\n",
    "\n",
    "# Drop duplicates and null values \n",
    "dataset = dataset.drop_duplicates().dropna()\n",
    "\n",
    "# Drop unrecorded weather type\n",
    "dataset = dataset[dataset.Type != 3]\n",
    "\n",
    "# Check shape \n",
    "dataset.shape"
   ]
  },
  {
   "cell_type": "markdown",
   "metadata": {},
   "source": [
    "## 1. Conceptual questions (3 Marks)\n",
    "---\n",
    "This section covers **5** exercises on conceptual understanding of neural networks."
   ]
  },
  {
   "cell_type": "markdown",
   "metadata": {},
   "source": [
    "#### 1.1. Which are the most used activation functions and why do we (typically) need non-linear activation functions in neural networks? (0.5 mark)"
   ]
  },
  {
   "cell_type": "markdown",
   "metadata": {},
   "source": [
    "a) Most used activation functions:\n",
    "    <br>- Sigmoid\n",
    "    <br>- ReLU\n",
    "    <br>- tanh\n",
    "    <br>- Softmax\n",
    "    \n",
    "b) We use non-linear activation funcitons so that we can perform backpropagation that is necessary to learn a non-linear fit. The derivatives of linear functions are constant and means that we cannot go back in a multi-layer network to understand which weights can provide a better prediction. Hence we have no information on how the weights need to be updated to reduce the loss function and improve the fit."
   ]
  },
  {
   "cell_type": "markdown",
   "metadata": {},
   "source": [
    "#### 1.2. Why do we need deep neural networks and which are the main differences between deep and shallow learning? (0.5 Mark)"
   ]
  },
  {
   "cell_type": "markdown",
   "metadata": {},
   "source": [
    "Although a single layer NN can act like a universal approximator its performance does not scale well with the size of input data. Increasing the depth of NN layers to 2 or more (deep NN) allows performance to scale much better with the size of input data, which means equally good perfomance can be achieved with much less data.\n",
    "\n",
    "The main differences between deep and shallow learning are:\n",
    "\n",
    "- A shallow network requires training features to be manually chosen from the input data.\n",
    "\n",
    "- This means a shallow network cannot exploit high-dimensional data as manual feature selection would become unfeasable at high-dimensionality.\n",
    "\n",
    "- Once features are selected they can only be used in the form they are provided.\n",
    "\n",
    "\n",
    "- A deep network on the other hand is capable of learning relevant features on its own and in this way can perform autonomous feature selection. \n",
    "\n",
    "- This allows a deep network to exploit high-dimensional data as it can handle it better at the stage of feature selection.\n",
    "\n",
    "- Furthermore, through the connection of multiple layers deep networks can automatically combine selected features in complex ways to form useful abstractions of the input data that help with classification.\n"
   ]
  },
  {
   "cell_type": "markdown",
   "metadata": {},
   "source": [
    "#### 1.3. Discuss the Bias-variance trade-off and its relation to underfitting and overfitting of a model. Which are the caractheristics of an ideal model?  (0.5 mark)"
   ]
  },
  {
   "cell_type": "markdown",
   "metadata": {},
   "source": [
    "The principle of the Bias-variance trade-off is key to understanding the behaviour of predictive learning models once they are applied to unseen data.\n",
    "\n",
    "In the case of underfitting we have a model that is too simple to capture the complexity of the input dataset and therefore shows a poor performance on the training  data. This corresponds to a high bias.\n",
    "\n",
    "On the other hand, for the case of overfitting we have a model that is too complex for the input dataset and makes a fit to the noise in the training data which is not present in the validation or testing sets. This results in increasingly lower loss on the training set with number of epochs, while validation set loss initially falls but then starts to increase again as overfitting takes place. The growing difference in loss between the training and validation sets corresponds to the model having a high variance.\n",
    "\n",
    "An ideal model is characterised by a low bias and a low variance. This corresponds to a model which can achieve a very low and continually decreasing training loss with the validation loss following very closely behind. "
   ]
  },
  {
   "cell_type": "markdown",
   "metadata": {},
   "source": [
    "#### 1.4. Given a neural network with 4 input nodes, 2 layers with 5 nodes each, and 1 output node, what is the total number of free (trainable) parameters in the network? Does it matter which activation function(s) are used?  (0.5 mark)"
   ]
  },
  {
   "cell_type": "markdown",
   "metadata": {},
   "source": [
    "This network has 1 input layer, 2 hidden layers and 1 output layer. We will assume that the network is fully connected and uses a bias node at each layer except in the output layer, with the bias node only connected to the forward layer neurons. In this case each of the 4 input nodes + bias node are connected to each of the 5 nodes in hidden layer 1. Futhermore, each of the 5 nodes + bias node in hidden layer 1 are then individually connected to each of the 5 nodes in hidden layer 2. Finally, each of the 5 nodes + bias node from hidden layer 2 are individually connected to the single output node.\n",
    "\n",
    "This corresponds to 25 connections between input and hidden layer 1, 30 connections between hidden layers 1 and 2 and 6 connections between hidden layer 2 and the output node. Each connection in the network corresponds to a trainable parameter. Therefore, there are a total of 25+30+6=61 trainable parameters in this network.\n",
    "\n",
    "For the number of trainable parameters: It does not matter which activation function is used as activation functions only take in the previous layer of weighted node activations + the bias term values but do not alter the network connections which determine the number of trainable parameters.\n",
    "\n",
    "However, the choice of activation function matters as the activation function should be chosen to map to our desired output."
   ]
  },
  {
   "cell_type": "markdown",
   "metadata": {},
   "source": [
    "#### 1.5. What are appropriate choice for _(a)_ the number of output nodes and _(b)_ output activation function(s) for each of the following tasks, and why? (0.5 mark)"
   ]
  },
  {
   "cell_type": "markdown",
   "metadata": {},
   "source": [
    "1. Regression of the $x$, $y$, and $z$ coordinates of a single particle in an arbitrary coordinate system\n",
    "2. Regression of particle energy of a single particle\n",
    "3. Classification of two processes (signal vs. background)\n",
    "4. Classification among *N* classes (dog vs. cat vs. fish vs. ...)"
   ]
  },
  {
   "cell_type": "markdown",
   "metadata": {},
   "source": [
    "1. a) 3 output nodes for each coordinate axis.\n",
    "   <br>b) The linear activation function as it has a range of -infinity to +infinity to capture the full range of numbers for each coordinate value.\n",
    "   \n",
    "   \n",
    "2. a) 1 output node as only a single variable, energy, is being predicted.\n",
    "   <br>b) The ReLU activation function as it has a range of 0 to +infinity and can therefore only return a numerical value greater than 0, as particle energy cannot be negative.\n",
    "   \n",
    "   \n",
    "3. a) 1 output node that can be inferred as probability of predicting one of the classes (eg signal)\n",
    "   <br>b) The sigmoid activation function as it returns values between 0 and 1 and can therefore be inferred as how confident the model is of the instance being in the \"true\" class.\n",
    "   \n",
    "   Also the softmax function can be used with 2 nodes that give the probability of being signal and background respectively.\n",
    "   <br>\n",
    "4. a) N output nodes, 1 for each class.\n",
    "   <br>b) The softmax function as it returns values between 0 and 1 for each output node with all the values summing to 1. This allows the output node values to be interpreted as probabilities for each class."
   ]
  },
  {
   "cell_type": "markdown",
   "metadata": {},
   "source": [
    "**1.6. Given some data points and regression/classification problem, write the appropite cost function and compare your solution to that from sklearn (0.5 marks)** "
   ]
  },
  {
   "cell_type": "markdown",
   "metadata": {},
   "source": [
    "**Regression** \n",
    "\n",
    "A good **loss function** for regression is the **Mean Squared Error**. \n",
    "\n",
    "For $N$ samples with targets $Y$, our prediction $\\bar{Y}$ has an MSE of:\n",
    "\n",
    "\n",
    "$\\mathrm{MSE} = \\frac{\\sum[(\\bar{Y}-Y)^2]}{N}$"
   ]
  },
  {
   "cell_type": "code",
   "execution_count": 7,
   "metadata": {},
   "outputs": [],
   "source": [
    "## Regression Problem\n",
    "\n",
    "# 3 Targets for regression \n",
    "Y = np.array([0.,1.,0.5])\n",
    "# 3 Predicted values (at random)\n",
    "YPred = np.random.rand(3)"
   ]
  },
  {
   "cell_type": "code",
   "execution_count": 8,
   "metadata": {},
   "outputs": [],
   "source": [
    "#cost function (Mean Square Error):\n",
    "def mse(YPred,Y):\n",
    "    # Your solution here\n",
    "    error = (1/Y.size)*(np.sum((YPred-Y)**2))\n",
    "    return error"
   ]
  },
  {
   "cell_type": "code",
   "execution_count": 9,
   "metadata": {},
   "outputs": [
    {
     "name": "stdout",
     "output_type": "stream",
     "text": [
      "My MSE function is Correct\n"
     ]
    }
   ],
   "source": [
    "# Comparing our function to the sklearn MSE\n",
    "prediction = np.random.rand(Y.shape[0])\n",
    "print (\"My MSE function is {}\".format(\"Correct\" if mse(prediction,Y) == metrics.mean_squared_error(prediction,Y) else \"Wrong\"))"
   ]
  },
  {
   "cell_type": "markdown",
   "metadata": {},
   "source": [
    "**Classification**\n",
    "\n",
    "Log Loss from the lecture notes is appropiate for binary classification, where our prediction is a probaility of `label = 1`."
   ]
  },
  {
   "cell_type": "code",
   "execution_count": 10,
   "metadata": {},
   "outputs": [],
   "source": [
    "#10 Random class labels (0 or 1)\n",
    "Y = np.random.randint(0,2,10)\n",
    "# 10 Random Probabilities\n",
    "YPred = np.random.rand(10)"
   ]
  },
  {
   "cell_type": "code",
   "execution_count": 11,
   "metadata": {},
   "outputs": [],
   "source": [
    "def logloss(YPred,Y):\n",
    "    #your code here\n",
    "    log_loss = (-1/Y.size)*(np.sum((Y*np.log(YPred))+((1-Y)*(np.log(1-YPred)))))\n",
    "    return log_loss"
   ]
  },
  {
   "cell_type": "code",
   "execution_count": 12,
   "metadata": {},
   "outputs": [
    {
     "data": {
      "text/plain": [
       "True"
      ]
     },
     "execution_count": 12,
     "metadata": {},
     "output_type": "execute_result"
    }
   ],
   "source": [
    "# Check it matches the sklearn log_loss\n",
    "logloss(YPred,Y) == metrics.log_loss(Y.astype(int),YPred)"
   ]
  },
  {
   "cell_type": "markdown",
   "metadata": {},
   "source": [
    "## 2. Data preprocessing and RTs (2 mark)\n",
    "---\n",
    "This section covers **4** exercises on data preparation, feature standardisation, and dataset splitting."
   ]
  },
  {
   "cell_type": "code",
   "execution_count": 13,
   "metadata": {},
   "outputs": [],
   "source": [
    "# Relevant import(s) for this section\n",
    "from sklearn import tree\n",
    "from sklearn.tree import DecisionTreeClassifier, plot_tree\n",
    "from sklearn.tree import export_graphviz\n",
    "from sklearn.model_selection import train_test_split # Import train_test_split function\n",
    "from sklearn import metrics # Import scikit-learn metrics module for accuracy calculation\n",
    "from sklearn import preprocessing # Import preprocessing for String-Int conversion\n",
    "from sklearn.compose import ColumnTransformer\n",
    "from sklearn.preprocessing import OneHotEncoder, StandardScaler, MinMaxScaler\n",
    "from sklearn.model_selection import train_test_split"
   ]
  },
  {
   "cell_type": "markdown",
   "metadata": {},
   "source": [
    "---\n",
    "**_Comment on target format and one-hot encoding:_** By default, the target column (`Type`) contains one integer (0, 1, or 2) for each example, the integer specifying one of three possible types of weather. However, for doing multi-class classification (which this is), we want our neural network to have one output node per class (_i.e._ 3 output nodes in this case), such that the activation of each output node is interpreted as the likelihood for a given sample being of the type in question. Therefore, the target should also be a 3-element vector for each sample; this vector should be all zeros, except for a $1$ at the index corresponding to the type in question. This is called **one-hot encoding**, and a few examples are shown below:\n",
    "\n",
    "- type = 0 $\\to$ one-hot = $[1, 0, 0]$ for 3 classes\n",
    "- type = 1 $\\to$ one-hot = $[0, 1, 0]$ for 3 classes\n",
    "- type = 2 $\\to$ one-hot = $[0, 0, 1]$ for 3 classes\n",
    "\n",
    "This is the target towards which a neural network classifier is trained: That is, ideally, for an example of type 0, the network will output a large activation ($\\approx 1$) on the first output node (interpreted as a large likelihood for the first weather type), and very small activations ($\\ll 1$) on the two other output nodes (intepreted as small likelihoods for the two other weather types); and so on.\n",
    "\n",
    "The same type of one-hot encoding can be performed for any number of target classes $N_{c}$, which just results in $N_{c}$-element target vectors with a single non-zero entry each.\n",
    "\n",
    "To be user friendly, however, `scikit-learn` allows us to use integer targets for multi-class classification — it does the one-hot encoding for us \"under the hood.\" Similarly, `keras`, _can_ also allow us to use integer targets for multi-class classification, provided we use the appropropriate loss (`sparse_categorical_crossentropy`). Otherwise (if we use `categorical_crossentropy` loss), it expects one-hot encoded targets. Which approach you choose is up to you — but now you know what goes on.\n",
    "\n",
    "---"
   ]
  },
  {
   "cell_type": "markdown",
   "metadata": {},
   "source": [
    "#### 2.1. Prepare the feature and target arrays (0.5 mark)\n",
    "- Randomly sample **3,500** observations per weather type (**10,500** observations in total) from `dataset` into a new `pandas.DataFrame`; call it `sample`.\n",
    "- One-hot encode the **wind direction** variable (_i.e._ $N$ to $[1, 0, \\ldots, 0]$, $NNE$ to $[0, 1, \\ldots, 0]$, _etc._ ), to allow us to input it to the neural network. There are 16 unique directions so we need to transform 1 feature into 16 features.\n",
    "The exact order of the encoding (_i.e._ which direction corresponds to which index) doesn't matter. *Hint:*\n",
    "  - *Either:* Use the scikit-learn `ColumnTransformer` with the `OneHotEncoder` applied to the `WindDirection` column, and let the remainder of the features pass through un-transformed.\n",
    "  - *Or:* Use the `OneHotEncoder` class directly on the `WindDirection` column (use `sparse=False` in the `OneHotEncoder` constructor), and then concatenate with a `numpy.array` containing the remaining features.\n",
    "- Define `numpy.arrays` named `X` and `y` containing the training features (the 7 unmodified ones plus the one-hot encoded wind directions) and target, respectively.\n",
    "- Argue whether the shapes of `X` and `y` are as expected/as they should be.\n"
   ]
  },
  {
   "cell_type": "code",
   "execution_count": 14,
   "metadata": {},
   "outputs": [
    {
     "name": "stdout",
     "output_type": "stream",
     "text": [
      "[0, 1, 2, 3, 4, 5, 6, 7, 8, 9, 10, 11, 12, 13, 14, 15, 'Latitude', 'Elevation', 'Temperature', 'Visibility', 'WindSpeed', 'Pressure', 'Humidity']\n"
     ]
    }
   ],
   "source": [
    "#For convenience concatenate the wind direction and other features \n",
    "# in the order that you can use this feature name variable\n",
    "feature_names = list(range(16))+features[:-1]\n",
    "print(feature_names)"
   ]
  },
  {
   "cell_type": "code",
   "execution_count": 15,
   "metadata": {
    "scrolled": false
   },
   "outputs": [
    {
     "data": {
      "text/html": [
       "<div>\n",
       "<style scoped>\n",
       "    .dataframe tbody tr th:only-of-type {\n",
       "        vertical-align: middle;\n",
       "    }\n",
       "\n",
       "    .dataframe tbody tr th {\n",
       "        vertical-align: top;\n",
       "    }\n",
       "\n",
       "    .dataframe thead th {\n",
       "        text-align: right;\n",
       "    }\n",
       "</style>\n",
       "<table border=\"1\" class=\"dataframe\">\n",
       "  <thead>\n",
       "    <tr style=\"text-align: right;\">\n",
       "      <th></th>\n",
       "      <th>Latitude</th>\n",
       "      <th>Elevation</th>\n",
       "      <th>Temperature</th>\n",
       "      <th>Visibility</th>\n",
       "      <th>WindSpeed</th>\n",
       "      <th>Pressure</th>\n",
       "      <th>Humidity</th>\n",
       "      <th>WindDirection</th>\n",
       "      <th>Type</th>\n",
       "    </tr>\n",
       "  </thead>\n",
       "  <tbody>\n",
       "    <tr>\n",
       "      <th>30399</th>\n",
       "      <td>52.242</td>\n",
       "      <td>99.0</td>\n",
       "      <td>20.5</td>\n",
       "      <td>11000.0</td>\n",
       "      <td>3.0</td>\n",
       "      <td>1014.0</td>\n",
       "      <td>54.2</td>\n",
       "      <td>ESE</td>\n",
       "      <td>0</td>\n",
       "    </tr>\n",
       "    <tr>\n",
       "      <th>45306</th>\n",
       "      <td>51.479</td>\n",
       "      <td>25.0</td>\n",
       "      <td>13.0</td>\n",
       "      <td>45000.0</td>\n",
       "      <td>3.0</td>\n",
       "      <td>1020.0</td>\n",
       "      <td>68.0</td>\n",
       "      <td>NE</td>\n",
       "      <td>0</td>\n",
       "    </tr>\n",
       "    <tr>\n",
       "      <th>84305</th>\n",
       "      <td>51.279</td>\n",
       "      <td>72.0</td>\n",
       "      <td>21.2</td>\n",
       "      <td>30000.0</td>\n",
       "      <td>9.0</td>\n",
       "      <td>1025.0</td>\n",
       "      <td>38.1</td>\n",
       "      <td>NNW</td>\n",
       "      <td>0</td>\n",
       "    </tr>\n",
       "    <tr>\n",
       "      <th>87099</th>\n",
       "      <td>52.949</td>\n",
       "      <td>21.0</td>\n",
       "      <td>17.6</td>\n",
       "      <td>40000.0</td>\n",
       "      <td>6.0</td>\n",
       "      <td>1026.0</td>\n",
       "      <td>70.3</td>\n",
       "      <td>NNW</td>\n",
       "      <td>0</td>\n",
       "    </tr>\n",
       "    <tr>\n",
       "      <th>18725</th>\n",
       "      <td>54.501</td>\n",
       "      <td>255.0</td>\n",
       "      <td>7.3</td>\n",
       "      <td>30000.0</td>\n",
       "      <td>2.0</td>\n",
       "      <td>1019.0</td>\n",
       "      <td>88.2</td>\n",
       "      <td>WNW</td>\n",
       "      <td>0</td>\n",
       "    </tr>\n",
       "    <tr>\n",
       "      <th>...</th>\n",
       "      <td>...</td>\n",
       "      <td>...</td>\n",
       "      <td>...</td>\n",
       "      <td>...</td>\n",
       "      <td>...</td>\n",
       "      <td>...</td>\n",
       "      <td>...</td>\n",
       "      <td>...</td>\n",
       "      <td>...</td>\n",
       "    </tr>\n",
       "    <tr>\n",
       "      <th>54315</th>\n",
       "      <td>55.050</td>\n",
       "      <td>285.0</td>\n",
       "      <td>9.7</td>\n",
       "      <td>11000.0</td>\n",
       "      <td>9.0</td>\n",
       "      <td>1010.0</td>\n",
       "      <td>94.0</td>\n",
       "      <td>S</td>\n",
       "      <td>2</td>\n",
       "    </tr>\n",
       "    <tr>\n",
       "      <th>15718</th>\n",
       "      <td>53.175</td>\n",
       "      <td>68.0</td>\n",
       "      <td>11.1</td>\n",
       "      <td>14000.0</td>\n",
       "      <td>13.0</td>\n",
       "      <td>1019.0</td>\n",
       "      <td>89.7</td>\n",
       "      <td>NNE</td>\n",
       "      <td>2</td>\n",
       "    </tr>\n",
       "    <tr>\n",
       "      <th>7733</th>\n",
       "      <td>56.326</td>\n",
       "      <td>35.0</td>\n",
       "      <td>14.4</td>\n",
       "      <td>1200.0</td>\n",
       "      <td>1.0</td>\n",
       "      <td>1019.0</td>\n",
       "      <td>100.0</td>\n",
       "      <td>W</td>\n",
       "      <td>2</td>\n",
       "    </tr>\n",
       "    <tr>\n",
       "      <th>112</th>\n",
       "      <td>58.954</td>\n",
       "      <td>26.0</td>\n",
       "      <td>10.5</td>\n",
       "      <td>400.0</td>\n",
       "      <td>9.0</td>\n",
       "      <td>1017.0</td>\n",
       "      <td>100.0</td>\n",
       "      <td>ESE</td>\n",
       "      <td>2</td>\n",
       "    </tr>\n",
       "    <tr>\n",
       "      <th>53821</th>\n",
       "      <td>57.206</td>\n",
       "      <td>65.0</td>\n",
       "      <td>12.8</td>\n",
       "      <td>17000.0</td>\n",
       "      <td>15.0</td>\n",
       "      <td>1007.0</td>\n",
       "      <td>84.1</td>\n",
       "      <td>S</td>\n",
       "      <td>2</td>\n",
       "    </tr>\n",
       "  </tbody>\n",
       "</table>\n",
       "<p>10500 rows × 9 columns</p>\n",
       "</div>"
      ],
      "text/plain": [
       "       Latitude  Elevation  Temperature  Visibility  WindSpeed  Pressure  \\\n",
       "30399    52.242       99.0         20.5     11000.0        3.0    1014.0   \n",
       "45306    51.479       25.0         13.0     45000.0        3.0    1020.0   \n",
       "84305    51.279       72.0         21.2     30000.0        9.0    1025.0   \n",
       "87099    52.949       21.0         17.6     40000.0        6.0    1026.0   \n",
       "18725    54.501      255.0          7.3     30000.0        2.0    1019.0   \n",
       "...         ...        ...          ...         ...        ...       ...   \n",
       "54315    55.050      285.0          9.7     11000.0        9.0    1010.0   \n",
       "15718    53.175       68.0         11.1     14000.0       13.0    1019.0   \n",
       "7733     56.326       35.0         14.4      1200.0        1.0    1019.0   \n",
       "112      58.954       26.0         10.5       400.0        9.0    1017.0   \n",
       "53821    57.206       65.0         12.8     17000.0       15.0    1007.0   \n",
       "\n",
       "       Humidity WindDirection  Type  \n",
       "30399      54.2           ESE     0  \n",
       "45306      68.0            NE     0  \n",
       "84305      38.1           NNW     0  \n",
       "87099      70.3           NNW     0  \n",
       "18725      88.2           WNW     0  \n",
       "...         ...           ...   ...  \n",
       "54315      94.0             S     2  \n",
       "15718      89.7           NNE     2  \n",
       "7733      100.0             W     2  \n",
       "112       100.0           ESE     2  \n",
       "53821      84.1             S     2  \n",
       "\n",
       "[10500 rows x 9 columns]"
      ]
     },
     "execution_count": 15,
     "metadata": {},
     "output_type": "execute_result"
    }
   ],
   "source": [
    "sample = dataset.groupby(\"Type\").sample(3500,random_state=1)\n",
    "sample"
   ]
  },
  {
   "cell_type": "code",
   "execution_count": 16,
   "metadata": {},
   "outputs": [
    {
     "data": {
      "text/html": [
       "<div>\n",
       "<style scoped>\n",
       "    .dataframe tbody tr th:only-of-type {\n",
       "        vertical-align: middle;\n",
       "    }\n",
       "\n",
       "    .dataframe tbody tr th {\n",
       "        vertical-align: top;\n",
       "    }\n",
       "\n",
       "    .dataframe thead th {\n",
       "        text-align: right;\n",
       "    }\n",
       "</style>\n",
       "<table border=\"1\" class=\"dataframe\">\n",
       "  <thead>\n",
       "    <tr style=\"text-align: right;\">\n",
       "      <th></th>\n",
       "      <th>0</th>\n",
       "      <th>1</th>\n",
       "      <th>2</th>\n",
       "      <th>3</th>\n",
       "      <th>4</th>\n",
       "      <th>5</th>\n",
       "      <th>6</th>\n",
       "      <th>7</th>\n",
       "      <th>8</th>\n",
       "      <th>9</th>\n",
       "      <th>...</th>\n",
       "      <th>14</th>\n",
       "      <th>15</th>\n",
       "      <th>Latitude</th>\n",
       "      <th>Elevation</th>\n",
       "      <th>Temperature</th>\n",
       "      <th>Visibility</th>\n",
       "      <th>WindSpeed</th>\n",
       "      <th>Pressure</th>\n",
       "      <th>Humidity</th>\n",
       "      <th>Type</th>\n",
       "    </tr>\n",
       "  </thead>\n",
       "  <tbody>\n",
       "    <tr>\n",
       "      <th>0</th>\n",
       "      <td>0.0</td>\n",
       "      <td>0.0</td>\n",
       "      <td>1.0</td>\n",
       "      <td>0.0</td>\n",
       "      <td>0.0</td>\n",
       "      <td>0.0</td>\n",
       "      <td>0.0</td>\n",
       "      <td>0.0</td>\n",
       "      <td>0.0</td>\n",
       "      <td>0.0</td>\n",
       "      <td>...</td>\n",
       "      <td>0.0</td>\n",
       "      <td>0.0</td>\n",
       "      <td>52.242</td>\n",
       "      <td>99.0</td>\n",
       "      <td>20.5</td>\n",
       "      <td>11000.0</td>\n",
       "      <td>3.0</td>\n",
       "      <td>1014.0</td>\n",
       "      <td>54.2</td>\n",
       "      <td>0</td>\n",
       "    </tr>\n",
       "    <tr>\n",
       "      <th>1</th>\n",
       "      <td>0.0</td>\n",
       "      <td>0.0</td>\n",
       "      <td>0.0</td>\n",
       "      <td>0.0</td>\n",
       "      <td>1.0</td>\n",
       "      <td>0.0</td>\n",
       "      <td>0.0</td>\n",
       "      <td>0.0</td>\n",
       "      <td>0.0</td>\n",
       "      <td>0.0</td>\n",
       "      <td>...</td>\n",
       "      <td>0.0</td>\n",
       "      <td>0.0</td>\n",
       "      <td>51.479</td>\n",
       "      <td>25.0</td>\n",
       "      <td>13.0</td>\n",
       "      <td>45000.0</td>\n",
       "      <td>3.0</td>\n",
       "      <td>1020.0</td>\n",
       "      <td>68.0</td>\n",
       "      <td>0</td>\n",
       "    </tr>\n",
       "    <tr>\n",
       "      <th>2</th>\n",
       "      <td>0.0</td>\n",
       "      <td>0.0</td>\n",
       "      <td>0.0</td>\n",
       "      <td>0.0</td>\n",
       "      <td>0.0</td>\n",
       "      <td>0.0</td>\n",
       "      <td>1.0</td>\n",
       "      <td>0.0</td>\n",
       "      <td>0.0</td>\n",
       "      <td>0.0</td>\n",
       "      <td>...</td>\n",
       "      <td>0.0</td>\n",
       "      <td>0.0</td>\n",
       "      <td>51.279</td>\n",
       "      <td>72.0</td>\n",
       "      <td>21.2</td>\n",
       "      <td>30000.0</td>\n",
       "      <td>9.0</td>\n",
       "      <td>1025.0</td>\n",
       "      <td>38.1</td>\n",
       "      <td>0</td>\n",
       "    </tr>\n",
       "    <tr>\n",
       "      <th>3</th>\n",
       "      <td>0.0</td>\n",
       "      <td>0.0</td>\n",
       "      <td>0.0</td>\n",
       "      <td>0.0</td>\n",
       "      <td>0.0</td>\n",
       "      <td>0.0</td>\n",
       "      <td>1.0</td>\n",
       "      <td>0.0</td>\n",
       "      <td>0.0</td>\n",
       "      <td>0.0</td>\n",
       "      <td>...</td>\n",
       "      <td>0.0</td>\n",
       "      <td>0.0</td>\n",
       "      <td>52.949</td>\n",
       "      <td>21.0</td>\n",
       "      <td>17.6</td>\n",
       "      <td>40000.0</td>\n",
       "      <td>6.0</td>\n",
       "      <td>1026.0</td>\n",
       "      <td>70.3</td>\n",
       "      <td>0</td>\n",
       "    </tr>\n",
       "    <tr>\n",
       "      <th>4</th>\n",
       "      <td>0.0</td>\n",
       "      <td>0.0</td>\n",
       "      <td>0.0</td>\n",
       "      <td>0.0</td>\n",
       "      <td>0.0</td>\n",
       "      <td>0.0</td>\n",
       "      <td>0.0</td>\n",
       "      <td>0.0</td>\n",
       "      <td>0.0</td>\n",
       "      <td>0.0</td>\n",
       "      <td>...</td>\n",
       "      <td>1.0</td>\n",
       "      <td>0.0</td>\n",
       "      <td>54.501</td>\n",
       "      <td>255.0</td>\n",
       "      <td>7.3</td>\n",
       "      <td>30000.0</td>\n",
       "      <td>2.0</td>\n",
       "      <td>1019.0</td>\n",
       "      <td>88.2</td>\n",
       "      <td>0</td>\n",
       "    </tr>\n",
       "    <tr>\n",
       "      <th>...</th>\n",
       "      <td>...</td>\n",
       "      <td>...</td>\n",
       "      <td>...</td>\n",
       "      <td>...</td>\n",
       "      <td>...</td>\n",
       "      <td>...</td>\n",
       "      <td>...</td>\n",
       "      <td>...</td>\n",
       "      <td>...</td>\n",
       "      <td>...</td>\n",
       "      <td>...</td>\n",
       "      <td>...</td>\n",
       "      <td>...</td>\n",
       "      <td>...</td>\n",
       "      <td>...</td>\n",
       "      <td>...</td>\n",
       "      <td>...</td>\n",
       "      <td>...</td>\n",
       "      <td>...</td>\n",
       "      <td>...</td>\n",
       "      <td>...</td>\n",
       "    </tr>\n",
       "    <tr>\n",
       "      <th>10495</th>\n",
       "      <td>0.0</td>\n",
       "      <td>0.0</td>\n",
       "      <td>0.0</td>\n",
       "      <td>0.0</td>\n",
       "      <td>0.0</td>\n",
       "      <td>0.0</td>\n",
       "      <td>0.0</td>\n",
       "      <td>0.0</td>\n",
       "      <td>1.0</td>\n",
       "      <td>0.0</td>\n",
       "      <td>...</td>\n",
       "      <td>0.0</td>\n",
       "      <td>0.0</td>\n",
       "      <td>55.050</td>\n",
       "      <td>285.0</td>\n",
       "      <td>9.7</td>\n",
       "      <td>11000.0</td>\n",
       "      <td>9.0</td>\n",
       "      <td>1010.0</td>\n",
       "      <td>94.0</td>\n",
       "      <td>2</td>\n",
       "    </tr>\n",
       "    <tr>\n",
       "      <th>10496</th>\n",
       "      <td>0.0</td>\n",
       "      <td>0.0</td>\n",
       "      <td>0.0</td>\n",
       "      <td>0.0</td>\n",
       "      <td>0.0</td>\n",
       "      <td>1.0</td>\n",
       "      <td>0.0</td>\n",
       "      <td>0.0</td>\n",
       "      <td>0.0</td>\n",
       "      <td>0.0</td>\n",
       "      <td>...</td>\n",
       "      <td>0.0</td>\n",
       "      <td>0.0</td>\n",
       "      <td>53.175</td>\n",
       "      <td>68.0</td>\n",
       "      <td>11.1</td>\n",
       "      <td>14000.0</td>\n",
       "      <td>13.0</td>\n",
       "      <td>1019.0</td>\n",
       "      <td>89.7</td>\n",
       "      <td>2</td>\n",
       "    </tr>\n",
       "    <tr>\n",
       "      <th>10497</th>\n",
       "      <td>0.0</td>\n",
       "      <td>0.0</td>\n",
       "      <td>0.0</td>\n",
       "      <td>0.0</td>\n",
       "      <td>0.0</td>\n",
       "      <td>0.0</td>\n",
       "      <td>0.0</td>\n",
       "      <td>0.0</td>\n",
       "      <td>0.0</td>\n",
       "      <td>0.0</td>\n",
       "      <td>...</td>\n",
       "      <td>0.0</td>\n",
       "      <td>0.0</td>\n",
       "      <td>56.326</td>\n",
       "      <td>35.0</td>\n",
       "      <td>14.4</td>\n",
       "      <td>1200.0</td>\n",
       "      <td>1.0</td>\n",
       "      <td>1019.0</td>\n",
       "      <td>100.0</td>\n",
       "      <td>2</td>\n",
       "    </tr>\n",
       "    <tr>\n",
       "      <th>10498</th>\n",
       "      <td>0.0</td>\n",
       "      <td>0.0</td>\n",
       "      <td>1.0</td>\n",
       "      <td>0.0</td>\n",
       "      <td>0.0</td>\n",
       "      <td>0.0</td>\n",
       "      <td>0.0</td>\n",
       "      <td>0.0</td>\n",
       "      <td>0.0</td>\n",
       "      <td>0.0</td>\n",
       "      <td>...</td>\n",
       "      <td>0.0</td>\n",
       "      <td>0.0</td>\n",
       "      <td>58.954</td>\n",
       "      <td>26.0</td>\n",
       "      <td>10.5</td>\n",
       "      <td>400.0</td>\n",
       "      <td>9.0</td>\n",
       "      <td>1017.0</td>\n",
       "      <td>100.0</td>\n",
       "      <td>2</td>\n",
       "    </tr>\n",
       "    <tr>\n",
       "      <th>10499</th>\n",
       "      <td>0.0</td>\n",
       "      <td>0.0</td>\n",
       "      <td>0.0</td>\n",
       "      <td>0.0</td>\n",
       "      <td>0.0</td>\n",
       "      <td>0.0</td>\n",
       "      <td>0.0</td>\n",
       "      <td>0.0</td>\n",
       "      <td>1.0</td>\n",
       "      <td>0.0</td>\n",
       "      <td>...</td>\n",
       "      <td>0.0</td>\n",
       "      <td>0.0</td>\n",
       "      <td>57.206</td>\n",
       "      <td>65.0</td>\n",
       "      <td>12.8</td>\n",
       "      <td>17000.0</td>\n",
       "      <td>15.0</td>\n",
       "      <td>1007.0</td>\n",
       "      <td>84.1</td>\n",
       "      <td>2</td>\n",
       "    </tr>\n",
       "  </tbody>\n",
       "</table>\n",
       "<p>10500 rows × 24 columns</p>\n",
       "</div>"
      ],
      "text/plain": [
       "         0    1    2    3    4    5    6    7    8    9  ...   14   15  \\\n",
       "0      0.0  0.0  1.0  0.0  0.0  0.0  0.0  0.0  0.0  0.0  ...  0.0  0.0   \n",
       "1      0.0  0.0  0.0  0.0  1.0  0.0  0.0  0.0  0.0  0.0  ...  0.0  0.0   \n",
       "2      0.0  0.0  0.0  0.0  0.0  0.0  1.0  0.0  0.0  0.0  ...  0.0  0.0   \n",
       "3      0.0  0.0  0.0  0.0  0.0  0.0  1.0  0.0  0.0  0.0  ...  0.0  0.0   \n",
       "4      0.0  0.0  0.0  0.0  0.0  0.0  0.0  0.0  0.0  0.0  ...  1.0  0.0   \n",
       "...    ...  ...  ...  ...  ...  ...  ...  ...  ...  ...  ...  ...  ...   \n",
       "10495  0.0  0.0  0.0  0.0  0.0  0.0  0.0  0.0  1.0  0.0  ...  0.0  0.0   \n",
       "10496  0.0  0.0  0.0  0.0  0.0  1.0  0.0  0.0  0.0  0.0  ...  0.0  0.0   \n",
       "10497  0.0  0.0  0.0  0.0  0.0  0.0  0.0  0.0  0.0  0.0  ...  0.0  0.0   \n",
       "10498  0.0  0.0  1.0  0.0  0.0  0.0  0.0  0.0  0.0  0.0  ...  0.0  0.0   \n",
       "10499  0.0  0.0  0.0  0.0  0.0  0.0  0.0  0.0  1.0  0.0  ...  0.0  0.0   \n",
       "\n",
       "       Latitude  Elevation  Temperature  Visibility  WindSpeed  Pressure  \\\n",
       "0        52.242       99.0         20.5     11000.0        3.0    1014.0   \n",
       "1        51.479       25.0         13.0     45000.0        3.0    1020.0   \n",
       "2        51.279       72.0         21.2     30000.0        9.0    1025.0   \n",
       "3        52.949       21.0         17.6     40000.0        6.0    1026.0   \n",
       "4        54.501      255.0          7.3     30000.0        2.0    1019.0   \n",
       "...         ...        ...          ...         ...        ...       ...   \n",
       "10495    55.050      285.0          9.7     11000.0        9.0    1010.0   \n",
       "10496    53.175       68.0         11.1     14000.0       13.0    1019.0   \n",
       "10497    56.326       35.0         14.4      1200.0        1.0    1019.0   \n",
       "10498    58.954       26.0         10.5       400.0        9.0    1017.0   \n",
       "10499    57.206       65.0         12.8     17000.0       15.0    1007.0   \n",
       "\n",
       "       Humidity  Type  \n",
       "0          54.2     0  \n",
       "1          68.0     0  \n",
       "2          38.1     0  \n",
       "3          70.3     0  \n",
       "4          88.2     0  \n",
       "...         ...   ...  \n",
       "10495      94.0     2  \n",
       "10496      89.7     2  \n",
       "10497     100.0     2  \n",
       "10498     100.0     2  \n",
       "10499      84.1     2  \n",
       "\n",
       "[10500 rows x 24 columns]"
      ]
     },
     "execution_count": 16,
     "metadata": {},
     "output_type": "execute_result"
    }
   ],
   "source": [
    "encode = OneHotEncoder(sparse=False) \n",
    "encoded_df = pd.DataFrame(encode.fit_transform(sample[\"WindDirection\"].values.reshape(-1, 1)))\n",
    "sample.reset_index(drop=True, inplace=True)\n",
    "enc_sample = pd.concat([encoded_df, sample], axis=1)\n",
    "enc_sample.drop(columns=[\"WindDirection\"], inplace=True)\n",
    "enc_sample"
   ]
  },
  {
   "cell_type": "code",
   "execution_count": 17,
   "metadata": {},
   "outputs": [],
   "source": [
    "X = enc_sample.drop(\"Type\", axis=1)\n",
    "y = enc_sample[\"Type\"]"
   ]
  },
  {
   "cell_type": "code",
   "execution_count": 18,
   "metadata": {},
   "outputs": [
    {
     "data": {
      "text/plain": [
       "(10500, 23)"
      ]
     },
     "execution_count": 18,
     "metadata": {},
     "output_type": "execute_result"
    }
   ],
   "source": [
    "X.shape"
   ]
  },
  {
   "cell_type": "code",
   "execution_count": 19,
   "metadata": {},
   "outputs": [
    {
     "data": {
      "text/plain": [
       "(10500,)"
      ]
     },
     "execution_count": 19,
     "metadata": {},
     "output_type": "execute_result"
    }
   ],
   "source": [
    "y.shape"
   ]
  },
  {
   "cell_type": "markdown",
   "metadata": {},
   "source": [
    "The number of rows should be the same for both the features and the target values, which should match the sample dataset number of rows. This is the case here.\n",
    "\n",
    "The feature dataset should contain one less column than the complete sample dataset and this column should correspond to the single column of the target values. This is the case here, with the feature columns and single target column adding up to the encoded sample dataset column number.\n",
    "\n",
    "Therefore, the shapes of X and y are as they should be."
   ]
  },
  {
   "cell_type": "markdown",
   "metadata": {},
   "source": [
    "#### 2.2. Train a Random Forest, evaluate performance, explore features (1.5 mark)\n",
    "\n",
    "Decision trees work well with a mixture of features (of different scales, and both binary and continuous data), so we will train a random forest to do the job of categorisation.\n",
    "\n",
    "You are given the train test split (70% training):"
   ]
  },
  {
   "cell_type": "code",
   "execution_count": 20,
   "metadata": {},
   "outputs": [
    {
     "name": "stdout",
     "output_type": "stream",
     "text": [
      "(7350, 23) (3150, 23) (7350,)\n"
     ]
    }
   ],
   "source": [
    "#Import random fosets and confusion matrix metric\n",
    "from sklearn.ensemble import RandomForestClassifier\n",
    "from sklearn.metrics import confusion_matrix,ConfusionMatrixDisplay\n",
    "from sklearn.model_selection import GridSearchCV\n",
    "\n",
    "# split dataset into training set and test set\n",
    "x_train, x_test, y_train, y_test = train_test_split(X, y, test_size=0.3, random_state=1) # 70% training and 30% test\n",
    "print(x_train.shape,x_test.shape,y_train.ravel().shape)"
   ]
  },
  {
   "cell_type": "markdown",
   "metadata": {},
   "source": [
    "1. Train a `RandomForestClassifier` with a `GridSearchCV` over the following input parameters to the mode'. Split the dataset into only 3 cross validation folds to make it a little faster (Hint: see `GreidSearchCV` function documentation)\n",
    "2. Check the overal accuaracy on the testing set\n",
    "3. What is the best set of hyperparametrs the scan has found? \n",
    "\n",
    "*Hint:* the final random forest that is chosen can be returned with th the `best_estimator_` member of the `GridSearchCV` object"
   ]
  },
  {
   "cell_type": "code",
   "execution_count": 21,
   "metadata": {},
   "outputs": [],
   "source": [
    "# We scan a broad range of parameters to use for the RandomForest\n",
    "rf_dic={\n",
    "    \"n_estimators\":[10,50,200,500],\n",
    "    \"max_features\": [\"sqrt\",\"log2\"],\n",
    "    \"criterion\": [\"gini\"],\n",
    "    \"max_depth\": [4,8,30]\n",
    "    }"
   ]
  },
  {
   "cell_type": "code",
   "execution_count": 22,
   "metadata": {
    "scrolled": true
   },
   "outputs": [
    {
     "data": {
      "text/html": [
       "<style>#sk-container-id-1 {color: black;background-color: white;}#sk-container-id-1 pre{padding: 0;}#sk-container-id-1 div.sk-toggleable {background-color: white;}#sk-container-id-1 label.sk-toggleable__label {cursor: pointer;display: block;width: 100%;margin-bottom: 0;padding: 0.3em;box-sizing: border-box;text-align: center;}#sk-container-id-1 label.sk-toggleable__label-arrow:before {content: \"▸\";float: left;margin-right: 0.25em;color: #696969;}#sk-container-id-1 label.sk-toggleable__label-arrow:hover:before {color: black;}#sk-container-id-1 div.sk-estimator:hover label.sk-toggleable__label-arrow:before {color: black;}#sk-container-id-1 div.sk-toggleable__content {max-height: 0;max-width: 0;overflow: hidden;text-align: left;background-color: #f0f8ff;}#sk-container-id-1 div.sk-toggleable__content pre {margin: 0.2em;color: black;border-radius: 0.25em;background-color: #f0f8ff;}#sk-container-id-1 input.sk-toggleable__control:checked~div.sk-toggleable__content {max-height: 200px;max-width: 100%;overflow: auto;}#sk-container-id-1 input.sk-toggleable__control:checked~label.sk-toggleable__label-arrow:before {content: \"▾\";}#sk-container-id-1 div.sk-estimator input.sk-toggleable__control:checked~label.sk-toggleable__label {background-color: #d4ebff;}#sk-container-id-1 div.sk-label input.sk-toggleable__control:checked~label.sk-toggleable__label {background-color: #d4ebff;}#sk-container-id-1 input.sk-hidden--visually {border: 0;clip: rect(1px 1px 1px 1px);clip: rect(1px, 1px, 1px, 1px);height: 1px;margin: -1px;overflow: hidden;padding: 0;position: absolute;width: 1px;}#sk-container-id-1 div.sk-estimator {font-family: monospace;background-color: #f0f8ff;border: 1px dotted black;border-radius: 0.25em;box-sizing: border-box;margin-bottom: 0.5em;}#sk-container-id-1 div.sk-estimator:hover {background-color: #d4ebff;}#sk-container-id-1 div.sk-parallel-item::after {content: \"\";width: 100%;border-bottom: 1px solid gray;flex-grow: 1;}#sk-container-id-1 div.sk-label:hover label.sk-toggleable__label {background-color: #d4ebff;}#sk-container-id-1 div.sk-serial::before {content: \"\";position: absolute;border-left: 1px solid gray;box-sizing: border-box;top: 0;bottom: 0;left: 50%;z-index: 0;}#sk-container-id-1 div.sk-serial {display: flex;flex-direction: column;align-items: center;background-color: white;padding-right: 0.2em;padding-left: 0.2em;position: relative;}#sk-container-id-1 div.sk-item {position: relative;z-index: 1;}#sk-container-id-1 div.sk-parallel {display: flex;align-items: stretch;justify-content: center;background-color: white;position: relative;}#sk-container-id-1 div.sk-item::before, #sk-container-id-1 div.sk-parallel-item::before {content: \"\";position: absolute;border-left: 1px solid gray;box-sizing: border-box;top: 0;bottom: 0;left: 50%;z-index: -1;}#sk-container-id-1 div.sk-parallel-item {display: flex;flex-direction: column;z-index: 1;position: relative;background-color: white;}#sk-container-id-1 div.sk-parallel-item:first-child::after {align-self: flex-end;width: 50%;}#sk-container-id-1 div.sk-parallel-item:last-child::after {align-self: flex-start;width: 50%;}#sk-container-id-1 div.sk-parallel-item:only-child::after {width: 0;}#sk-container-id-1 div.sk-dashed-wrapped {border: 1px dashed gray;margin: 0 0.4em 0.5em 0.4em;box-sizing: border-box;padding-bottom: 0.4em;background-color: white;}#sk-container-id-1 div.sk-label label {font-family: monospace;font-weight: bold;display: inline-block;line-height: 1.2em;}#sk-container-id-1 div.sk-label-container {text-align: center;}#sk-container-id-1 div.sk-container {/* jupyter's `normalize.less` sets `[hidden] { display: none; }` but bootstrap.min.css set `[hidden] { display: none !important; }` so we also need the `!important` here to be able to override the default hidden behavior on the sphinx rendered scikit-learn.org. See: https://github.com/scikit-learn/scikit-learn/issues/21755 */display: inline-block !important;position: relative;}#sk-container-id-1 div.sk-text-repr-fallback {display: none;}</style><div id=\"sk-container-id-1\" class=\"sk-top-container\"><div class=\"sk-text-repr-fallback\"><pre>GridSearchCV(cv=3, estimator=RandomForestClassifier(random_state=0),\n",
       "             param_grid={&#x27;criterion&#x27;: [&#x27;gini&#x27;], &#x27;max_depth&#x27;: [4, 8, 30],\n",
       "                         &#x27;max_features&#x27;: [&#x27;sqrt&#x27;, &#x27;log2&#x27;],\n",
       "                         &#x27;n_estimators&#x27;: [10, 50, 200, 500]})</pre><b>In a Jupyter environment, please rerun this cell to show the HTML representation or trust the notebook. <br />On GitHub, the HTML representation is unable to render, please try loading this page with nbviewer.org.</b></div><div class=\"sk-container\" hidden><div class=\"sk-item sk-dashed-wrapped\"><div class=\"sk-label-container\"><div class=\"sk-label sk-toggleable\"><input class=\"sk-toggleable__control sk-hidden--visually\" id=\"sk-estimator-id-1\" type=\"checkbox\" ><label for=\"sk-estimator-id-1\" class=\"sk-toggleable__label sk-toggleable__label-arrow\">GridSearchCV</label><div class=\"sk-toggleable__content\"><pre>GridSearchCV(cv=3, estimator=RandomForestClassifier(random_state=0),\n",
       "             param_grid={&#x27;criterion&#x27;: [&#x27;gini&#x27;], &#x27;max_depth&#x27;: [4, 8, 30],\n",
       "                         &#x27;max_features&#x27;: [&#x27;sqrt&#x27;, &#x27;log2&#x27;],\n",
       "                         &#x27;n_estimators&#x27;: [10, 50, 200, 500]})</pre></div></div></div><div class=\"sk-parallel\"><div class=\"sk-parallel-item\"><div class=\"sk-item\"><div class=\"sk-label-container\"><div class=\"sk-label sk-toggleable\"><input class=\"sk-toggleable__control sk-hidden--visually\" id=\"sk-estimator-id-2\" type=\"checkbox\" ><label for=\"sk-estimator-id-2\" class=\"sk-toggleable__label sk-toggleable__label-arrow\">estimator: RandomForestClassifier</label><div class=\"sk-toggleable__content\"><pre>RandomForestClassifier(random_state=0)</pre></div></div></div><div class=\"sk-serial\"><div class=\"sk-item\"><div class=\"sk-estimator sk-toggleable\"><input class=\"sk-toggleable__control sk-hidden--visually\" id=\"sk-estimator-id-3\" type=\"checkbox\" ><label for=\"sk-estimator-id-3\" class=\"sk-toggleable__label sk-toggleable__label-arrow\">RandomForestClassifier</label><div class=\"sk-toggleable__content\"><pre>RandomForestClassifier(random_state=0)</pre></div></div></div></div></div></div></div></div></div></div>"
      ],
      "text/plain": [
       "GridSearchCV(cv=3, estimator=RandomForestClassifier(random_state=0),\n",
       "             param_grid={'criterion': ['gini'], 'max_depth': [4, 8, 30],\n",
       "                         'max_features': ['sqrt', 'log2'],\n",
       "                         'n_estimators': [10, 50, 200, 500]})"
      ]
     },
     "execution_count": 22,
     "metadata": {},
     "output_type": "execute_result"
    }
   ],
   "source": [
    "rfc = RandomForestClassifier(random_state=0)\n",
    "grid_search = GridSearchCV(estimator=rfc, cv=3, param_grid=rf_dic)\n",
    "grid_search.fit(x_train.values, y_train)"
   ]
  },
  {
   "cell_type": "code",
   "execution_count": 23,
   "metadata": {},
   "outputs": [
    {
     "name": "stdout",
     "output_type": "stream",
     "text": [
      "Overall accuracy on testing set:  0.7365079365079366\n"
     ]
    }
   ],
   "source": [
    "overall_acc = grid_search.score(x_test.values,y_test)\n",
    "print(\"Overall accuracy on testing set: \",overall_acc)"
   ]
  },
  {
   "cell_type": "code",
   "execution_count": 24,
   "metadata": {},
   "outputs": [
    {
     "name": "stdout",
     "output_type": "stream",
     "text": [
      "Best set of hyperparametrs the scan has found: RandomForestClassifier(max_depth=30, n_estimators=200, random_state=0)\n"
     ]
    }
   ],
   "source": [
    "grid_search.best_estimator_\n",
    "print(\"Best set of hyperparametrs the scan has found:\",grid_search.best_estimator_)"
   ]
  },
  {
   "cell_type": "markdown",
   "metadata": {},
   "source": [
    "---"
   ]
  },
  {
   "cell_type": "markdown",
   "metadata": {},
   "source": [
    "**Understanding Classification Accuracy**\n",
    "\n",
    "4. Use the `confusion_matrix` method on the **test data** to return the confusion matrix normalised over the true lables, i.e. sum over rows should sum to 100%. Use the given colormap to plot the confusion matrix in a heatmap.\n",
    "    - Define the axis tick names to represent Clear, Cloudy or Precip\n",
    "    - Use suitable x and y axis labels\n",
    "    \n",
    "5. What are the true positive rates for clear, cloudy and perp? \n",
    "6. What is the probability that rain is forcast on a sunny day?"
   ]
  },
  {
   "cell_type": "code",
   "execution_count": 25,
   "metadata": {},
   "outputs": [],
   "source": [
    "y_pred = grid_search.predict(x_test.values)"
   ]
  },
  {
   "cell_type": "code",
   "execution_count": 26,
   "metadata": {},
   "outputs": [],
   "source": [
    "cm = confusion_matrix(y_test,y_pred)"
   ]
  },
  {
   "cell_type": "code",
   "execution_count": 27,
   "metadata": {},
   "outputs": [],
   "source": [
    "disp = ConfusionMatrixDisplay(confusion_matrix=cm,display_labels=wtype)"
   ]
  },
  {
   "cell_type": "code",
   "execution_count": 28,
   "metadata": {},
   "outputs": [
    {
     "data": {
      "image/png": "[encoded data removed]",
      "text/plain": [
       "<Figure size 640x480 with 2 Axes>"
      ]
     },
     "metadata": {},
     "output_type": "display_data"
    }
   ],
   "source": [
    "disp.plot()\n",
    "plt.title(\"Confusion matrix\")\n",
    "plt.show()"
   ]
  },
  {
   "cell_type": "code",
   "execution_count": 29,
   "metadata": {
    "scrolled": true
   },
   "outputs": [
    {
     "name": "stdout",
     "output_type": "stream",
     "text": [
      "TP rate for clear:  0.7490530303030303\n",
      "TP rate for cloudy:  0.6414189837008629\n",
      "TP rate for precip:  0.8182683158896289\n"
     ]
    }
   ],
   "source": [
    "print(\"TP rate for clear: \",cm[0,0]/y_test.value_counts()[0])\n",
    "print(\"TP rate for cloudy: \",cm[1,1]/y_test.value_counts()[1])\n",
    "print(\"TP rate for precip: \",cm[2,2]/y_test.value_counts()[2])"
   ]
  },
  {
   "cell_type": "code",
   "execution_count": 30,
   "metadata": {},
   "outputs": [
    {
     "name": "stdout",
     "output_type": "stream",
     "text": [
      "Probability rain is forcast on a sunny day:  0.030303030303030304\n"
     ]
    }
   ],
   "source": [
    "print(\"Probability rain is forcast on a sunny day: \",cm[0,2]/y_test.value_counts()[0])"
   ]
  },
  {
   "cell_type": "markdown",
   "metadata": {},
   "source": [
    "---\n",
    "**Understanding Feature Importance**\n",
    "\n",
    "There are several ways to understand which **features are important** to the \n",
    "decision tree. The most common is to look at `feature_importances_` list which is calculated at training time. This quantifies by how much each feature splits the dataset, the higher the number, the more imporant the feature. In random forests were we have 100s of trees, the importance is an gregate.\n",
    "\n",
    "\n",
    "*Note:* below the code assumes the random forest CV search is still `grid_search`"
   ]
  },
  {
   "cell_type": "code",
   "execution_count": 31,
   "metadata": {},
   "outputs": [
    {
     "data": {
      "image/png": "[encoded data removed]",
      "text/plain": [
       "<Figure size 1000x1000 with 1 Axes>"
      ]
     },
     "metadata": {},
     "output_type": "display_data"
    }
   ],
   "source": [
    "# Given plotting example for feature importance\n",
    "fig, ax = plt.subplots(figsize=(10, 10))\n",
    "ax.barh(range(23), grid_search.best_estimator_.feature_importances_)\n",
    "ax.set_yticks(range(23),feature_names)\n",
    "ax.set_title(\"Training Feature Importance\")\n",
    "plt.show()"
   ]
  },
  {
   "cell_type": "markdown",
   "metadata": {},
   "source": [
    "E.g. In the RF I trained, wind direction has little impact on the performance, while Pressure, Visibility and Humidity seem like natural important features.\n",
    "\n",
    "The problem with `feature_importances_` is that they are **calulated and biased towards the training dataset**, so may not represent the most relevant features for classifying on the **testing dataset**.\n",
    "\n",
    "\n",
    "We can use `permutation_importance` to get a more accurate representation on the feature importance. "
   ]
  },
  {
   "cell_type": "code",
   "execution_count": 32,
   "metadata": {},
   "outputs": [],
   "source": [
    "from sklearn.inspection import permutation_importance"
   ]
  },
  {
   "cell_type": "markdown",
   "metadata": {},
   "source": [
    "This function will randomly permute (shuffle) one feature at a time, and look at how much the accuracy changes. We can perform this permutation several times (`n_repeats`) and get an average impact on the accuracy, and a std deviation.\n",
    "\n",
    "7. Complete the permutation importance function below\n",
    "    - Use the test dataset\n",
    "    - Permute each feature 20 times\n"
   ]
  },
  {
   "cell_type": "code",
   "execution_count": 33,
   "metadata": {},
   "outputs": [],
   "source": [
    "best_rfc = grid_search.best_estimator_"
   ]
  },
  {
   "cell_type": "code",
   "execution_count": 34,
   "metadata": {},
   "outputs": [],
   "source": [
    "result = permutation_importance(\n",
    "    estimator=best_rfc, X=x_test.values,y=y_test, n_repeats= 20,random_state=42, n_jobs=2)"
   ]
  },
  {
   "cell_type": "markdown",
   "metadata": {},
   "source": [
    "8. Make the feature importance plot as above using \n",
    "    - `result.importances_mean` as the feature importances\n",
    "    - `result.importances_std` for the `barh` parameter `xerr=`\n",
    "    - Comment on how the imporatnces change on the testing dataset"
   ]
  },
  {
   "cell_type": "code",
   "execution_count": 35,
   "metadata": {},
   "outputs": [
    {
     "data": {
      "image/png": "[encoded data removed]",
      "text/plain": [
       "<Figure size 1000x1000 with 1 Axes>"
      ]
     },
     "metadata": {},
     "output_type": "display_data"
    }
   ],
   "source": [
    "# Given plotting example for feature importance\n",
    "fig, ax = plt.subplots(figsize=(10, 10))\n",
    "ax.barh(range(23), result.importances_mean, xerr = result.importances_std)\n",
    "ax.set_yticks(range(23),feature_names)\n",
    "ax.set_title(\"Training Feature Importance\")\n",
    "plt.show()"
   ]
  },
  {
   "cell_type": "markdown",
   "metadata": {},
   "source": [
    "The feature importances for almost all the variables decreases in the absolute scale. The relative importance for visibility overtakes the importance of humidity in terms of the permutation importance. Humidty, pressure and visibilty remain the three most important variables with the rest reducing in importance more dramatically."
   ]
  },
  {
   "cell_type": "markdown",
   "metadata": {},
   "source": [
    "---\n",
    "Finally we can look at the impact of individual features on the probablity of a **particular class**.\n",
    "\n",
    "Using `PartialDependenceDisplay` we choose a set of features that we allow to vary within a range, while other features remain fixed. We can look at how the probability estimate changes on average for any one of our targets. \n",
    "\n",
    "9. Complete the `PartialDependenceDisplay.from_estimator` function by:\n",
    "    - adding your random forest estimator\n",
    "    - using the first 100 data points of the test dataset as input\n",
    "    - Use the `Humidity`, `Pressure` and `Visibility` features. These feature values are scanned while the others remain fixed (*Hint:* `features` parameter)\n",
    "    - Look at the impact on the `Precipitaion` class probability (*Hint:* `target` parameter)\n",
    "10. Comment on the trends shown over the 3 features on the probability it will rain."
   ]
  },
  {
   "cell_type": "code",
   "execution_count": 36,
   "metadata": {
    "scrolled": false
   },
   "outputs": [
    {
     "data": {
      "image/png": "[encoded data removed]",
      "text/plain": [
       "<Figure size 1200x600 with 4 Axes>"
      ]
     },
     "metadata": {},
     "output_type": "display_data"
    }
   ],
   "source": [
    "fig, ax = plt.subplots(figsize=(12, 6))\n",
    "ax.set_title(\"Partial dependence vs variable values\")\n",
    "tree_disp = PartialDependenceDisplay.from_estimator(\n",
    "    estimator= best_rfc, X=x_test[:100].values, features=(19,21,22), target=2,\n",
    "    feature_names=feature_names,\n",
    "    ax=ax)\n"
   ]
  },
  {
   "cell_type": "markdown",
   "metadata": {},
   "source": [
    "As the Visibility and Pressure values increase the likelihood it will rain reduces. However, for the Humidity the trend is the opposite, with increasing humidity values the likelihood it will rain increases."
   ]
  },
  {
   "cell_type": "markdown",
   "metadata": {},
   "source": [
    "## 3. Neural networks in `scikit-learn` (1.5 mark)\n",
    "---\n",
    "This section covers exercises on constructing and training neural networks using the `scikit-learn` library, as well as evaluating neural network performance. `scikit-learn` provide many, very easy to use ML algorithms, including neural networks. These are called `MLPClassifier` (MLP = multi-layer perceptron; a historic name for densely connected, feed-forward neural networks) when used for classification, and `MLPRegressor` when used for regression. We will focus on the former for now."
   ]
  },
  {
   "cell_type": "code",
   "execution_count": 37,
   "metadata": {},
   "outputs": [],
   "source": [
    "# Relevant import(s) for this section\n",
    "from sklearn.neural_network import MLPClassifier\n"
   ]
  },
  {
   "cell_type": "markdown",
   "metadata": {},
   "source": [
    "#### 3.1. Standardise the relevant features  and split data (0.5 mark)\n",
    "We need some additional processing of the input features to make them appropiate for the neural network. \n",
    "\n",
    "- Use our feature array `X`, and standardize the features.\n",
    "\n",
    "    _Note:_ You shouldn't standardise the one-hot encoded wind directions; they already have the desired format. Perform a sanity check to make sure that the resulting features have the expected distributional properties (mean and standard deviation; or minimum and maximum value).\n",
    "    - Hint:\n",
    "\n",
    "        - Use the scikit-learn `StandardScaler`\n",
    "        - Or use the scikit-learn `MinMaxScaler`\n",
    "\n",
    "- Perform a sanity check to make sure that the resulting features have the expected distributional properties (mean and standard deviation; or minimum and maximum value).\n",
    "    - The number of columns should match, and depending on the choice of standardisation, the last 7 columns should either have:\n",
    "      - (Using `StandardScaler`) means = 0 and standard deviations = 1; or\n",
    "      - (Using `MinMaxScaler`) min = 0, max = 1\n",
    "      \n",
    "- Reserve **30%** of data for testing. Check whether the resulting arrays have the expected shapes."
   ]
  },
  {
   "cell_type": "code",
   "execution_count": 38,
   "metadata": {},
   "outputs": [
    {
     "data": {
      "text/html": [
       "<div>\n",
       "<style scoped>\n",
       "    .dataframe tbody tr th:only-of-type {\n",
       "        vertical-align: middle;\n",
       "    }\n",
       "\n",
       "    .dataframe tbody tr th {\n",
       "        vertical-align: top;\n",
       "    }\n",
       "\n",
       "    .dataframe thead th {\n",
       "        text-align: right;\n",
       "    }\n",
       "</style>\n",
       "<table border=\"1\" class=\"dataframe\">\n",
       "  <thead>\n",
       "    <tr style=\"text-align: right;\">\n",
       "      <th></th>\n",
       "      <th>Latitude</th>\n",
       "      <th>Elevation</th>\n",
       "      <th>Temperature</th>\n",
       "      <th>Visibility</th>\n",
       "      <th>WindSpeed</th>\n",
       "      <th>Pressure</th>\n",
       "      <th>Humidity</th>\n",
       "    </tr>\n",
       "  </thead>\n",
       "  <tbody>\n",
       "    <tr>\n",
       "      <th>0</th>\n",
       "      <td>52.242</td>\n",
       "      <td>99.0</td>\n",
       "      <td>20.5</td>\n",
       "      <td>11000.0</td>\n",
       "      <td>3.0</td>\n",
       "      <td>1014.0</td>\n",
       "      <td>54.2</td>\n",
       "    </tr>\n",
       "    <tr>\n",
       "      <th>1</th>\n",
       "      <td>51.479</td>\n",
       "      <td>25.0</td>\n",
       "      <td>13.0</td>\n",
       "      <td>45000.0</td>\n",
       "      <td>3.0</td>\n",
       "      <td>1020.0</td>\n",
       "      <td>68.0</td>\n",
       "    </tr>\n",
       "    <tr>\n",
       "      <th>2</th>\n",
       "      <td>51.279</td>\n",
       "      <td>72.0</td>\n",
       "      <td>21.2</td>\n",
       "      <td>30000.0</td>\n",
       "      <td>9.0</td>\n",
       "      <td>1025.0</td>\n",
       "      <td>38.1</td>\n",
       "    </tr>\n",
       "    <tr>\n",
       "      <th>3</th>\n",
       "      <td>52.949</td>\n",
       "      <td>21.0</td>\n",
       "      <td>17.6</td>\n",
       "      <td>40000.0</td>\n",
       "      <td>6.0</td>\n",
       "      <td>1026.0</td>\n",
       "      <td>70.3</td>\n",
       "    </tr>\n",
       "    <tr>\n",
       "      <th>4</th>\n",
       "      <td>54.501</td>\n",
       "      <td>255.0</td>\n",
       "      <td>7.3</td>\n",
       "      <td>30000.0</td>\n",
       "      <td>2.0</td>\n",
       "      <td>1019.0</td>\n",
       "      <td>88.2</td>\n",
       "    </tr>\n",
       "    <tr>\n",
       "      <th>...</th>\n",
       "      <td>...</td>\n",
       "      <td>...</td>\n",
       "      <td>...</td>\n",
       "      <td>...</td>\n",
       "      <td>...</td>\n",
       "      <td>...</td>\n",
       "      <td>...</td>\n",
       "    </tr>\n",
       "    <tr>\n",
       "      <th>10495</th>\n",
       "      <td>55.050</td>\n",
       "      <td>285.0</td>\n",
       "      <td>9.7</td>\n",
       "      <td>11000.0</td>\n",
       "      <td>9.0</td>\n",
       "      <td>1010.0</td>\n",
       "      <td>94.0</td>\n",
       "    </tr>\n",
       "    <tr>\n",
       "      <th>10496</th>\n",
       "      <td>53.175</td>\n",
       "      <td>68.0</td>\n",
       "      <td>11.1</td>\n",
       "      <td>14000.0</td>\n",
       "      <td>13.0</td>\n",
       "      <td>1019.0</td>\n",
       "      <td>89.7</td>\n",
       "    </tr>\n",
       "    <tr>\n",
       "      <th>10497</th>\n",
       "      <td>56.326</td>\n",
       "      <td>35.0</td>\n",
       "      <td>14.4</td>\n",
       "      <td>1200.0</td>\n",
       "      <td>1.0</td>\n",
       "      <td>1019.0</td>\n",
       "      <td>100.0</td>\n",
       "    </tr>\n",
       "    <tr>\n",
       "      <th>10498</th>\n",
       "      <td>58.954</td>\n",
       "      <td>26.0</td>\n",
       "      <td>10.5</td>\n",
       "      <td>400.0</td>\n",
       "      <td>9.0</td>\n",
       "      <td>1017.0</td>\n",
       "      <td>100.0</td>\n",
       "    </tr>\n",
       "    <tr>\n",
       "      <th>10499</th>\n",
       "      <td>57.206</td>\n",
       "      <td>65.0</td>\n",
       "      <td>12.8</td>\n",
       "      <td>17000.0</td>\n",
       "      <td>15.0</td>\n",
       "      <td>1007.0</td>\n",
       "      <td>84.1</td>\n",
       "    </tr>\n",
       "  </tbody>\n",
       "</table>\n",
       "<p>10500 rows × 7 columns</p>\n",
       "</div>"
      ],
      "text/plain": [
       "       Latitude  Elevation  Temperature  Visibility  WindSpeed  Pressure  \\\n",
       "0        52.242       99.0         20.5     11000.0        3.0    1014.0   \n",
       "1        51.479       25.0         13.0     45000.0        3.0    1020.0   \n",
       "2        51.279       72.0         21.2     30000.0        9.0    1025.0   \n",
       "3        52.949       21.0         17.6     40000.0        6.0    1026.0   \n",
       "4        54.501      255.0          7.3     30000.0        2.0    1019.0   \n",
       "...         ...        ...          ...         ...        ...       ...   \n",
       "10495    55.050      285.0          9.7     11000.0        9.0    1010.0   \n",
       "10496    53.175       68.0         11.1     14000.0       13.0    1019.0   \n",
       "10497    56.326       35.0         14.4      1200.0        1.0    1019.0   \n",
       "10498    58.954       26.0         10.5       400.0        9.0    1017.0   \n",
       "10499    57.206       65.0         12.8     17000.0       15.0    1007.0   \n",
       "\n",
       "       Humidity  \n",
       "0          54.2  \n",
       "1          68.0  \n",
       "2          38.1  \n",
       "3          70.3  \n",
       "4          88.2  \n",
       "...         ...  \n",
       "10495      94.0  \n",
       "10496      89.7  \n",
       "10497     100.0  \n",
       "10498     100.0  \n",
       "10499      84.1  \n",
       "\n",
       "[10500 rows x 7 columns]"
      ]
     },
     "execution_count": 38,
     "metadata": {},
     "output_type": "execute_result"
    }
   ],
   "source": [
    "X[X.columns[16:]]"
   ]
  },
  {
   "cell_type": "code",
   "execution_count": 39,
   "metadata": {},
   "outputs": [
    {
     "data": {
      "text/html": [
       "<style>#sk-container-id-2 {color: black;background-color: white;}#sk-container-id-2 pre{padding: 0;}#sk-container-id-2 div.sk-toggleable {background-color: white;}#sk-container-id-2 label.sk-toggleable__label {cursor: pointer;display: block;width: 100%;margin-bottom: 0;padding: 0.3em;box-sizing: border-box;text-align: center;}#sk-container-id-2 label.sk-toggleable__label-arrow:before {content: \"▸\";float: left;margin-right: 0.25em;color: #696969;}#sk-container-id-2 label.sk-toggleable__label-arrow:hover:before {color: black;}#sk-container-id-2 div.sk-estimator:hover label.sk-toggleable__label-arrow:before {color: black;}#sk-container-id-2 div.sk-toggleable__content {max-height: 0;max-width: 0;overflow: hidden;text-align: left;background-color: #f0f8ff;}#sk-container-id-2 div.sk-toggleable__content pre {margin: 0.2em;color: black;border-radius: 0.25em;background-color: #f0f8ff;}#sk-container-id-2 input.sk-toggleable__control:checked~div.sk-toggleable__content {max-height: 200px;max-width: 100%;overflow: auto;}#sk-container-id-2 input.sk-toggleable__control:checked~label.sk-toggleable__label-arrow:before {content: \"▾\";}#sk-container-id-2 div.sk-estimator input.sk-toggleable__control:checked~label.sk-toggleable__label {background-color: #d4ebff;}#sk-container-id-2 div.sk-label input.sk-toggleable__control:checked~label.sk-toggleable__label {background-color: #d4ebff;}#sk-container-id-2 input.sk-hidden--visually {border: 0;clip: rect(1px 1px 1px 1px);clip: rect(1px, 1px, 1px, 1px);height: 1px;margin: -1px;overflow: hidden;padding: 0;position: absolute;width: 1px;}#sk-container-id-2 div.sk-estimator {font-family: monospace;background-color: #f0f8ff;border: 1px dotted black;border-radius: 0.25em;box-sizing: border-box;margin-bottom: 0.5em;}#sk-container-id-2 div.sk-estimator:hover {background-color: #d4ebff;}#sk-container-id-2 div.sk-parallel-item::after {content: \"\";width: 100%;border-bottom: 1px solid gray;flex-grow: 1;}#sk-container-id-2 div.sk-label:hover label.sk-toggleable__label {background-color: #d4ebff;}#sk-container-id-2 div.sk-serial::before {content: \"\";position: absolute;border-left: 1px solid gray;box-sizing: border-box;top: 0;bottom: 0;left: 50%;z-index: 0;}#sk-container-id-2 div.sk-serial {display: flex;flex-direction: column;align-items: center;background-color: white;padding-right: 0.2em;padding-left: 0.2em;position: relative;}#sk-container-id-2 div.sk-item {position: relative;z-index: 1;}#sk-container-id-2 div.sk-parallel {display: flex;align-items: stretch;justify-content: center;background-color: white;position: relative;}#sk-container-id-2 div.sk-item::before, #sk-container-id-2 div.sk-parallel-item::before {content: \"\";position: absolute;border-left: 1px solid gray;box-sizing: border-box;top: 0;bottom: 0;left: 50%;z-index: -1;}#sk-container-id-2 div.sk-parallel-item {display: flex;flex-direction: column;z-index: 1;position: relative;background-color: white;}#sk-container-id-2 div.sk-parallel-item:first-child::after {align-self: flex-end;width: 50%;}#sk-container-id-2 div.sk-parallel-item:last-child::after {align-self: flex-start;width: 50%;}#sk-container-id-2 div.sk-parallel-item:only-child::after {width: 0;}#sk-container-id-2 div.sk-dashed-wrapped {border: 1px dashed gray;margin: 0 0.4em 0.5em 0.4em;box-sizing: border-box;padding-bottom: 0.4em;background-color: white;}#sk-container-id-2 div.sk-label label {font-family: monospace;font-weight: bold;display: inline-block;line-height: 1.2em;}#sk-container-id-2 div.sk-label-container {text-align: center;}#sk-container-id-2 div.sk-container {/* jupyter's `normalize.less` sets `[hidden] { display: none; }` but bootstrap.min.css set `[hidden] { display: none !important; }` so we also need the `!important` here to be able to override the default hidden behavior on the sphinx rendered scikit-learn.org. See: https://github.com/scikit-learn/scikit-learn/issues/21755 */display: inline-block !important;position: relative;}#sk-container-id-2 div.sk-text-repr-fallback {display: none;}</style><div id=\"sk-container-id-2\" class=\"sk-top-container\"><div class=\"sk-text-repr-fallback\"><pre>StandardScaler()</pre><b>In a Jupyter environment, please rerun this cell to show the HTML representation or trust the notebook. <br />On GitHub, the HTML representation is unable to render, please try loading this page with nbviewer.org.</b></div><div class=\"sk-container\" hidden><div class=\"sk-item\"><div class=\"sk-estimator sk-toggleable\"><input class=\"sk-toggleable__control sk-hidden--visually\" id=\"sk-estimator-id-4\" type=\"checkbox\" checked><label for=\"sk-estimator-id-4\" class=\"sk-toggleable__label sk-toggleable__label-arrow\">StandardScaler</label><div class=\"sk-toggleable__content\"><pre>StandardScaler()</pre></div></div></div></div></div>"
      ],
      "text/plain": [
       "StandardScaler()"
      ]
     },
     "execution_count": 39,
     "metadata": {},
     "output_type": "execute_result"
    }
   ],
   "source": [
    "scalar = StandardScaler()\n",
    "scalar.fit(X[X.columns[16:]])"
   ]
  },
  {
   "cell_type": "code",
   "execution_count": 40,
   "metadata": {},
   "outputs": [
    {
     "name": "stdout",
     "output_type": "stream",
     "text": [
      "Before standardisation\n",
      "----------------------\n",
      "Feature means:  [5.38308992e+01 9.27939048e+01 1.45807238e+01 2.18916467e+04\n",
      " 9.26361905e+00 1.01715162e+03 7.98668762e+01]\n",
      "Feature standard deviations: [2.50809287e+00 8.71867301e+01 4.01393452e+00 1.48500620e+04\n",
      " 6.24289541e+00 7.60599151e+00 1.68048489e+01]\n"
     ]
    }
   ],
   "source": [
    "print(\"\"\"Before standardisation\n",
    "----------------------\"\"\")\n",
    "print(\"Feature means: \",scalar.mean_)\n",
    "print(\"Feature standard deviations:\",np.sqrt(scalar.var_))"
   ]
  },
  {
   "cell_type": "code",
   "execution_count": 41,
   "metadata": {},
   "outputs": [],
   "source": [
    "X_trans = scalar.transform(X[X.columns[16:]])"
   ]
  },
  {
   "cell_type": "code",
   "execution_count": 42,
   "metadata": {},
   "outputs": [
    {
     "data": {
      "text/html": [
       "<style>#sk-container-id-3 {color: black;background-color: white;}#sk-container-id-3 pre{padding: 0;}#sk-container-id-3 div.sk-toggleable {background-color: white;}#sk-container-id-3 label.sk-toggleable__label {cursor: pointer;display: block;width: 100%;margin-bottom: 0;padding: 0.3em;box-sizing: border-box;text-align: center;}#sk-container-id-3 label.sk-toggleable__label-arrow:before {content: \"▸\";float: left;margin-right: 0.25em;color: #696969;}#sk-container-id-3 label.sk-toggleable__label-arrow:hover:before {color: black;}#sk-container-id-3 div.sk-estimator:hover label.sk-toggleable__label-arrow:before {color: black;}#sk-container-id-3 div.sk-toggleable__content {max-height: 0;max-width: 0;overflow: hidden;text-align: left;background-color: #f0f8ff;}#sk-container-id-3 div.sk-toggleable__content pre {margin: 0.2em;color: black;border-radius: 0.25em;background-color: #f0f8ff;}#sk-container-id-3 input.sk-toggleable__control:checked~div.sk-toggleable__content {max-height: 200px;max-width: 100%;overflow: auto;}#sk-container-id-3 input.sk-toggleable__control:checked~label.sk-toggleable__label-arrow:before {content: \"▾\";}#sk-container-id-3 div.sk-estimator input.sk-toggleable__control:checked~label.sk-toggleable__label {background-color: #d4ebff;}#sk-container-id-3 div.sk-label input.sk-toggleable__control:checked~label.sk-toggleable__label {background-color: #d4ebff;}#sk-container-id-3 input.sk-hidden--visually {border: 0;clip: rect(1px 1px 1px 1px);clip: rect(1px, 1px, 1px, 1px);height: 1px;margin: -1px;overflow: hidden;padding: 0;position: absolute;width: 1px;}#sk-container-id-3 div.sk-estimator {font-family: monospace;background-color: #f0f8ff;border: 1px dotted black;border-radius: 0.25em;box-sizing: border-box;margin-bottom: 0.5em;}#sk-container-id-3 div.sk-estimator:hover {background-color: #d4ebff;}#sk-container-id-3 div.sk-parallel-item::after {content: \"\";width: 100%;border-bottom: 1px solid gray;flex-grow: 1;}#sk-container-id-3 div.sk-label:hover label.sk-toggleable__label {background-color: #d4ebff;}#sk-container-id-3 div.sk-serial::before {content: \"\";position: absolute;border-left: 1px solid gray;box-sizing: border-box;top: 0;bottom: 0;left: 50%;z-index: 0;}#sk-container-id-3 div.sk-serial {display: flex;flex-direction: column;align-items: center;background-color: white;padding-right: 0.2em;padding-left: 0.2em;position: relative;}#sk-container-id-3 div.sk-item {position: relative;z-index: 1;}#sk-container-id-3 div.sk-parallel {display: flex;align-items: stretch;justify-content: center;background-color: white;position: relative;}#sk-container-id-3 div.sk-item::before, #sk-container-id-3 div.sk-parallel-item::before {content: \"\";position: absolute;border-left: 1px solid gray;box-sizing: border-box;top: 0;bottom: 0;left: 50%;z-index: -1;}#sk-container-id-3 div.sk-parallel-item {display: flex;flex-direction: column;z-index: 1;position: relative;background-color: white;}#sk-container-id-3 div.sk-parallel-item:first-child::after {align-self: flex-end;width: 50%;}#sk-container-id-3 div.sk-parallel-item:last-child::after {align-self: flex-start;width: 50%;}#sk-container-id-3 div.sk-parallel-item:only-child::after {width: 0;}#sk-container-id-3 div.sk-dashed-wrapped {border: 1px dashed gray;margin: 0 0.4em 0.5em 0.4em;box-sizing: border-box;padding-bottom: 0.4em;background-color: white;}#sk-container-id-3 div.sk-label label {font-family: monospace;font-weight: bold;display: inline-block;line-height: 1.2em;}#sk-container-id-3 div.sk-label-container {text-align: center;}#sk-container-id-3 div.sk-container {/* jupyter's `normalize.less` sets `[hidden] { display: none; }` but bootstrap.min.css set `[hidden] { display: none !important; }` so we also need the `!important` here to be able to override the default hidden behavior on the sphinx rendered scikit-learn.org. See: https://github.com/scikit-learn/scikit-learn/issues/21755 */display: inline-block !important;position: relative;}#sk-container-id-3 div.sk-text-repr-fallback {display: none;}</style><div id=\"sk-container-id-3\" class=\"sk-top-container\"><div class=\"sk-text-repr-fallback\"><pre>StandardScaler()</pre><b>In a Jupyter environment, please rerun this cell to show the HTML representation or trust the notebook. <br />On GitHub, the HTML representation is unable to render, please try loading this page with nbviewer.org.</b></div><div class=\"sk-container\" hidden><div class=\"sk-item\"><div class=\"sk-estimator sk-toggleable\"><input class=\"sk-toggleable__control sk-hidden--visually\" id=\"sk-estimator-id-5\" type=\"checkbox\" checked><label for=\"sk-estimator-id-5\" class=\"sk-toggleable__label sk-toggleable__label-arrow\">StandardScaler</label><div class=\"sk-toggleable__content\"><pre>StandardScaler()</pre></div></div></div></div></div>"
      ],
      "text/plain": [
       "StandardScaler()"
      ]
     },
     "execution_count": 42,
     "metadata": {},
     "output_type": "execute_result"
    }
   ],
   "source": [
    "scalar.fit(X_trans)"
   ]
  },
  {
   "cell_type": "code",
   "execution_count": 43,
   "metadata": {
    "scrolled": true
   },
   "outputs": [
    {
     "name": "stdout",
     "output_type": "stream",
     "text": [
      "After standardisation\n",
      "----------------------\n",
      "Feature means:  [ 6.60466391e-16  1.04212935e-16 -2.59855629e-16 -6.49639073e-17\n",
      "  1.19100497e-16 -4.02776225e-15 -2.16546358e-17]\n",
      "Feature standard deviations: [1. 1. 1. 1. 1. 1. 1.]\n"
     ]
    }
   ],
   "source": [
    "print(\"\"\"After standardisation\n",
    "----------------------\"\"\")\n",
    "print(\"Feature means: \",scalar.mean_)\n",
    "print(\"Feature standard deviations:\",np.sqrt(scalar.var_))"
   ]
  },
  {
   "cell_type": "markdown",
   "metadata": {},
   "source": [
    "We can see after standarisation that all non-encoded features have mean of 0 and standard deviation of 1."
   ]
  },
  {
   "cell_type": "code",
   "execution_count": 44,
   "metadata": {},
   "outputs": [],
   "source": [
    "#Combining the one-hot encoded features with the standardised features\n",
    "X = np.append(X[X.columns[:16]].values,X_trans,axis=1)"
   ]
  },
  {
   "cell_type": "code",
   "execution_count": 45,
   "metadata": {},
   "outputs": [
    {
     "name": "stdout",
     "output_type": "stream",
     "text": [
      "(7350, 23) (3150, 23) (7350,) (3150,)\n"
     ]
    }
   ],
   "source": [
    "#Splitting the dataset into training set and test set\n",
    "x_train, x_test, y_train, y_test = train_test_split(X, y, test_size=0.3, random_state=1) # 70% training and 30% test\n",
    "print(x_train.shape,x_test.shape,y_train.ravel().shape,y_test.ravel().shape)"
   ]
  },
  {
   "cell_type": "markdown",
   "metadata": {},
   "source": [
    "Resulting arrays have the expected shapes.\n",
    "\n",
    "x_train and x_test have 23 features, y_train and y_test have the single target variable.\n",
    "\n",
    "Sum of rows 7350+3150 = 10500 which is the number of rows in sample dataset."
   ]
  },
  {
   "cell_type": "markdown",
   "metadata": {},
   "source": [
    "#### 3.2. Construct, train, and evaluate a neural network  (1 mark)\n",
    "\n",
    "- Create an `MLPClassifier` which\n",
    "    - has **1 hidden layer of 50 neurons** \n",
    "    - has **no regularization term**\n",
    "    - trains for a maximum of **100 epochs** \n",
    "    - uses a batch size of **32**\n",
    "- Fit the classifier using the standard `.fit()` member method.\n",
    "- Plot the loss function value as a function of number of epochs (0.5 of mark).\n",
    "  You can access the loss history through the `.loss_curve_` attribute of the `MLPClassifier` instance. "
   ]
  },
  {
   "cell_type": "code",
   "execution_count": 46,
   "metadata": {},
   "outputs": [
    {
     "data": {
      "text/html": [
       "<style>#sk-container-id-4 {color: black;background-color: white;}#sk-container-id-4 pre{padding: 0;}#sk-container-id-4 div.sk-toggleable {background-color: white;}#sk-container-id-4 label.sk-toggleable__label {cursor: pointer;display: block;width: 100%;margin-bottom: 0;padding: 0.3em;box-sizing: border-box;text-align: center;}#sk-container-id-4 label.sk-toggleable__label-arrow:before {content: \"▸\";float: left;margin-right: 0.25em;color: #696969;}#sk-container-id-4 label.sk-toggleable__label-arrow:hover:before {color: black;}#sk-container-id-4 div.sk-estimator:hover label.sk-toggleable__label-arrow:before {color: black;}#sk-container-id-4 div.sk-toggleable__content {max-height: 0;max-width: 0;overflow: hidden;text-align: left;background-color: #f0f8ff;}#sk-container-id-4 div.sk-toggleable__content pre {margin: 0.2em;color: black;border-radius: 0.25em;background-color: #f0f8ff;}#sk-container-id-4 input.sk-toggleable__control:checked~div.sk-toggleable__content {max-height: 200px;max-width: 100%;overflow: auto;}#sk-container-id-4 input.sk-toggleable__control:checked~label.sk-toggleable__label-arrow:before {content: \"▾\";}#sk-container-id-4 div.sk-estimator input.sk-toggleable__control:checked~label.sk-toggleable__label {background-color: #d4ebff;}#sk-container-id-4 div.sk-label input.sk-toggleable__control:checked~label.sk-toggleable__label {background-color: #d4ebff;}#sk-container-id-4 input.sk-hidden--visually {border: 0;clip: rect(1px 1px 1px 1px);clip: rect(1px, 1px, 1px, 1px);height: 1px;margin: -1px;overflow: hidden;padding: 0;position: absolute;width: 1px;}#sk-container-id-4 div.sk-estimator {font-family: monospace;background-color: #f0f8ff;border: 1px dotted black;border-radius: 0.25em;box-sizing: border-box;margin-bottom: 0.5em;}#sk-container-id-4 div.sk-estimator:hover {background-color: #d4ebff;}#sk-container-id-4 div.sk-parallel-item::after {content: \"\";width: 100%;border-bottom: 1px solid gray;flex-grow: 1;}#sk-container-id-4 div.sk-label:hover label.sk-toggleable__label {background-color: #d4ebff;}#sk-container-id-4 div.sk-serial::before {content: \"\";position: absolute;border-left: 1px solid gray;box-sizing: border-box;top: 0;bottom: 0;left: 50%;z-index: 0;}#sk-container-id-4 div.sk-serial {display: flex;flex-direction: column;align-items: center;background-color: white;padding-right: 0.2em;padding-left: 0.2em;position: relative;}#sk-container-id-4 div.sk-item {position: relative;z-index: 1;}#sk-container-id-4 div.sk-parallel {display: flex;align-items: stretch;justify-content: center;background-color: white;position: relative;}#sk-container-id-4 div.sk-item::before, #sk-container-id-4 div.sk-parallel-item::before {content: \"\";position: absolute;border-left: 1px solid gray;box-sizing: border-box;top: 0;bottom: 0;left: 50%;z-index: -1;}#sk-container-id-4 div.sk-parallel-item {display: flex;flex-direction: column;z-index: 1;position: relative;background-color: white;}#sk-container-id-4 div.sk-parallel-item:first-child::after {align-self: flex-end;width: 50%;}#sk-container-id-4 div.sk-parallel-item:last-child::after {align-self: flex-start;width: 50%;}#sk-container-id-4 div.sk-parallel-item:only-child::after {width: 0;}#sk-container-id-4 div.sk-dashed-wrapped {border: 1px dashed gray;margin: 0 0.4em 0.5em 0.4em;box-sizing: border-box;padding-bottom: 0.4em;background-color: white;}#sk-container-id-4 div.sk-label label {font-family: monospace;font-weight: bold;display: inline-block;line-height: 1.2em;}#sk-container-id-4 div.sk-label-container {text-align: center;}#sk-container-id-4 div.sk-container {/* jupyter's `normalize.less` sets `[hidden] { display: none; }` but bootstrap.min.css set `[hidden] { display: none !important; }` so we also need the `!important` here to be able to override the default hidden behavior on the sphinx rendered scikit-learn.org. See: https://github.com/scikit-learn/scikit-learn/issues/21755 */display: inline-block !important;position: relative;}#sk-container-id-4 div.sk-text-repr-fallback {display: none;}</style><div id=\"sk-container-id-4\" class=\"sk-top-container\"><div class=\"sk-text-repr-fallback\"><pre>MLPClassifier(alpha=0, batch_size=32, hidden_layer_sizes=50, max_iter=100)</pre><b>In a Jupyter environment, please rerun this cell to show the HTML representation or trust the notebook. <br />On GitHub, the HTML representation is unable to render, please try loading this page with nbviewer.org.</b></div><div class=\"sk-container\" hidden><div class=\"sk-item\"><div class=\"sk-estimator sk-toggleable\"><input class=\"sk-toggleable__control sk-hidden--visually\" id=\"sk-estimator-id-6\" type=\"checkbox\" checked><label for=\"sk-estimator-id-6\" class=\"sk-toggleable__label sk-toggleable__label-arrow\">MLPClassifier</label><div class=\"sk-toggleable__content\"><pre>MLPClassifier(alpha=0, batch_size=32, hidden_layer_sizes=50, max_iter=100)</pre></div></div></div></div></div>"
      ],
      "text/plain": [
       "MLPClassifier(alpha=0, batch_size=32, hidden_layer_sizes=50, max_iter=100)"
      ]
     },
     "execution_count": 46,
     "metadata": {},
     "output_type": "execute_result"
    }
   ],
   "source": [
    "mlp = MLPClassifier(hidden_layer_sizes=(50),\n",
    "                    alpha=0,\n",
    "                    max_iter=100,\n",
    "                    batch_size=32)\n",
    "mlp.fit(x_train,y_train)"
   ]
  },
  {
   "cell_type": "code",
   "execution_count": 47,
   "metadata": {},
   "outputs": [
    {
     "data": {
      "image/png": "[encoded data removed]",
      "text/plain": [
       "<Figure size 640x480 with 1 Axes>"
      ]
     },
     "metadata": {},
     "output_type": "display_data"
    }
   ],
   "source": [
    "#mlp.loss_curve_\n",
    "plt.plot(mlp.loss_curve_)\n",
    "plt.title(\"Loss vs number of epochs\")\n",
    "plt.xlabel(\"Epochs\")\n",
    "plt.ylabel(\"Loss\")\n",
    "plt.show()"
   ]
  },
  {
   "cell_type": "markdown",
   "metadata": {},
   "source": [
    "\n",
    "- Using the testing dataset: \n",
    "    - Compute the overall accuracy for the classifier using the `MLPClassifier`'s `.score()` member method for both testing and training datasets.\n",
    "    - Compute the confusion matrix (normalised in true labels), and plot it \n",
    "- Discuss the results"
   ]
  },
  {
   "cell_type": "code",
   "execution_count": 48,
   "metadata": {
    "scrolled": true
   },
   "outputs": [
    {
     "name": "stdout",
     "output_type": "stream",
     "text": [
      "Overall accuracy for training set:  0.7507482993197279\n",
      "Overall accuracy for testing set:  0.7044444444444444\n"
     ]
    }
   ],
   "source": [
    "print(\"Overall accuracy for training set: \",mlp.score(x_train,y_train))\n",
    "print(\"Overall accuracy for testing set: \",mlp.score(x_test,y_test))"
   ]
  },
  {
   "cell_type": "code",
   "execution_count": 49,
   "metadata": {},
   "outputs": [],
   "source": [
    "y_pred = mlp.predict(x_test)"
   ]
  },
  {
   "cell_type": "code",
   "execution_count": 50,
   "metadata": {},
   "outputs": [],
   "source": [
    "cm = confusion_matrix(y_test,y_pred,normalize=\"true\")"
   ]
  },
  {
   "cell_type": "code",
   "execution_count": 51,
   "metadata": {},
   "outputs": [],
   "source": [
    "disp = ConfusionMatrixDisplay(confusion_matrix=cm,display_labels=wtype)"
   ]
  },
  {
   "cell_type": "code",
   "execution_count": 52,
   "metadata": {},
   "outputs": [
    {
     "data": {
      "image/png": "[encoded data removed]",
      "text/plain": [
       "<Figure size 640x480 with 2 Axes>"
      ]
     },
     "metadata": {},
     "output_type": "display_data"
    }
   ],
   "source": [
    "disp.plot()\n",
    "plt.title(\"Confusion matrix\")\n",
    "plt.show()"
   ]
  },
  {
   "cell_type": "markdown",
   "metadata": {},
   "source": [
    "The results show that the classifier is showing low variance as training and testing accuracy are similar. However, a high bias is seen as the accuracy on both the training and testing sets is not very high. In general we see that the loss value decreases with the number of epochs. This shows that the ML alorithm is training as expected and suggests that to reduce bias we could train the model for longer by increasing the number of epochs.\n",
    "\n",
    "Through the confusion matrix we can see that the true positive(TP) rates for Cloudy are lowest while TP rates for Precip are highest, ie that Cloudy is classified correctly the least and Precip is classified correctly the most."
   ]
  },
  {
   "cell_type": "markdown",
   "metadata": {},
   "source": [
    "## 4. Neural networks in `Keras` (2 marks)\n",
    "---\n",
    "This section covers exercises on constructing and training neural networks using the `Keras` library. `scikit-learn` is very easy to use, but libraries like `Keras` provide a lot more flexibility, which is why we will be using these extensively in the last two units of the _'Data science tools and machine learning'_ track."
   ]
  },
  {
   "cell_type": "code",
   "execution_count": 53,
   "metadata": {},
   "outputs": [],
   "source": [
    "# Relevant import(s) for this section\n",
    "from tensorflow.python.keras.models import Model\n",
    "from tensorflow.python.keras.layers import Input, Dense"
   ]
  },
  {
   "cell_type": "markdown",
   "metadata": {},
   "source": [
    "#### 4.1. Construct a neural network in `Keras` (1 mark)\n",
    "\n",
    "- Create a `keras.Model` using the **Keras functional API**. The network should have:\n",
    "    - An input layer with the same number of nodes as the number of features in `X`.\n",
    "    - A single, densely connected hidden layer with **50 nodes** equipped with **ReLU activation**.\n",
    "    - A densely connected output layer with **3 nodes** (the number of types of weather we're classifying) equipped with **softmax activation**.\n",
    "- Compile the model the using the **Adam optimiser**, add `'accuracy'` as metric, and use either:\n",
    "    - `categorical_crossentropy` loss, if you have one-hot encoded the targets `y`, or\n",
    "    - `sparse_categorical_crossentropy` loss if you hare using integer-valued targets.\n",
    "- Use the `.summary()` member method to print an overview of the model you have created, explain the output."
   ]
  },
  {
   "cell_type": "code",
   "execution_count": 54,
   "metadata": {},
   "outputs": [],
   "source": [
    "inputs = Input(shape=(23,))\n",
    "x = Dense(50, activation=\"relu\")(inputs)\n",
    "outputs = Dense(3, activation=\"softmax\")(x)\n",
    "mdl = Model(inputs, outputs)"
   ]
  },
  {
   "cell_type": "code",
   "execution_count": 55,
   "metadata": {},
   "outputs": [],
   "source": [
    "mdl.compile(optimizer=\"adam\", loss=\"sparse_categorical_crossentropy\", metrics=[\"accuracy\"])"
   ]
  },
  {
   "cell_type": "code",
   "execution_count": 56,
   "metadata": {},
   "outputs": [
    {
     "name": "stdout",
     "output_type": "stream",
     "text": [
      "Model: \"model\"\n",
      "_________________________________________________________________\n",
      "Layer (type)                 Output Shape              Param #   \n",
      "=================================================================\n",
      "input_1 (InputLayer)         [(None, 23)]              0         \n",
      "_________________________________________________________________\n",
      "dense (Dense)                (None, 50)                1200      \n",
      "_________________________________________________________________\n",
      "dense_1 (Dense)              (None, 3)                 153       \n",
      "=================================================================\n",
      "Total params: 1,353\n",
      "Trainable params: 1,353\n",
      "Non-trainable params: 0\n",
      "_________________________________________________________________\n"
     ]
    }
   ],
   "source": [
    "mdl.summary()"
   ]
  },
  {
   "cell_type": "markdown",
   "metadata": {},
   "source": [
    "The output of the summary method shows that a model was compiled with an input layer (23 nodes), one hidden layer (50 nodes) and an output layer (3 nodes). There are 1200 and 153 trainable parameters in the hidden and output layers respectively, giving a total of 1353 trainable paramters for the neural network. All of the network parameters are trainable."
   ]
  },
  {
   "cell_type": "markdown",
   "metadata": {},
   "source": [
    "#### 4.2. Train a `Keras` neural network (1 mark)\n",
    "\n",
    "- Use the `.fit()` member method to train the network on the **training dataset** for **100 epochs** with a **batch size of 32**. Use **20% of the data for validation** and make sure to have `Keras` **shuffle** the training data between epochs. Save the fit history by doing `history_mld = .....`\n",
    "- Print the classification accuracy using the `.evaluate()` member method, for both the training and testing dataset. Comment on the results.\n",
    "- Plot val_loss and loss functions from the fit history. On the same plot, plot the sklearn curve from the excercise above. Note the sklearn NN does not provide a complementary validation loss history, so only plot the training loss.\n",
    "- Comment on the results of the overall accuracy compared to the scikit-learn method."
   ]
  },
  {
   "cell_type": "code",
   "execution_count": 57,
   "metadata": {
    "scrolled": true
   },
   "outputs": [
    {
     "name": "stderr",
     "output_type": "stream",
     "text": [
      "C:\\Users\\Stefa\\Anaconda3\\envs\\daml\\lib\\site-packages\\tensorflow\\python\\keras\\engine\\data_adapter.py:1516: FutureWarning: The behavior of `series[i:j]` with an integer-dtype index is deprecated. In a future version, this will be treated as *label-based* indexing, consistent with e.g. `series[i]` lookups. To retain the old behavior, use `series.iloc[i:j]`. To get the future behavior, use `series.loc[i:j]`.\n",
      "  return t[start:end]\n"
     ]
    },
    {
     "name": "stdout",
     "output_type": "stream",
     "text": [
      "Epoch 1/100\n",
      "184/184 [==============================] - 1s 3ms/step - loss: 0.8618 - accuracy: 0.5799 - val_loss: 0.7667 - val_accuracy: 0.6218\n",
      "Epoch 2/100\n",
      "184/184 [==============================] - 0s 2ms/step - loss: 0.7312 - accuracy: 0.6607 - val_loss: 0.7309 - val_accuracy: 0.6408\n",
      "Epoch 3/100\n",
      "184/184 [==============================] - 0s 2ms/step - loss: 0.7070 - accuracy: 0.6721 - val_loss: 0.7207 - val_accuracy: 0.6524\n",
      "Epoch 4/100\n",
      "184/184 [==============================] - 0s 2ms/step - loss: 0.6947 - accuracy: 0.6770 - val_loss: 0.7119 - val_accuracy: 0.6544\n",
      "Epoch 5/100\n",
      "184/184 [==============================] - 0s 2ms/step - loss: 0.6861 - accuracy: 0.6804 - val_loss: 0.7058 - val_accuracy: 0.6592\n",
      "Epoch 6/100\n",
      "184/184 [==============================] - 0s 2ms/step - loss: 0.6793 - accuracy: 0.6881 - val_loss: 0.7007 - val_accuracy: 0.6612\n",
      "Epoch 7/100\n",
      "184/184 [==============================] - 0s 2ms/step - loss: 0.6740 - accuracy: 0.6905 - val_loss: 0.6949 - val_accuracy: 0.6578\n",
      "Epoch 8/100\n",
      "184/184 [==============================] - 0s 2ms/step - loss: 0.6688 - accuracy: 0.6910 - val_loss: 0.6940 - val_accuracy: 0.6701\n",
      "Epoch 9/100\n",
      "184/184 [==============================] - 0s 2ms/step - loss: 0.6647 - accuracy: 0.6947 - val_loss: 0.6908 - val_accuracy: 0.6782\n",
      "Epoch 10/100\n",
      "184/184 [==============================] - 0s 3ms/step - loss: 0.6617 - accuracy: 0.6985 - val_loss: 0.6887 - val_accuracy: 0.6769\n",
      "Epoch 11/100\n",
      "184/184 [==============================] - 0s 3ms/step - loss: 0.6594 - accuracy: 0.6969 - val_loss: 0.6872 - val_accuracy: 0.6850\n",
      "Epoch 12/100\n",
      "184/184 [==============================] - 0s 3ms/step - loss: 0.6557 - accuracy: 0.7015 - val_loss: 0.6841 - val_accuracy: 0.6823\n",
      "Epoch 13/100\n",
      "184/184 [==============================] - 0s 2ms/step - loss: 0.6529 - accuracy: 0.7029 - val_loss: 0.6856 - val_accuracy: 0.6789\n",
      "Epoch 14/100\n",
      "184/184 [==============================] - 0s 3ms/step - loss: 0.6507 - accuracy: 0.7015 - val_loss: 0.6847 - val_accuracy: 0.6823\n",
      "Epoch 15/100\n",
      "184/184 [==============================] - 0s 3ms/step - loss: 0.6483 - accuracy: 0.7053 - val_loss: 0.6818 - val_accuracy: 0.6857\n",
      "Epoch 16/100\n",
      "184/184 [==============================] - 0s 3ms/step - loss: 0.6466 - accuracy: 0.7070 - val_loss: 0.6839 - val_accuracy: 0.6789\n",
      "Epoch 17/100\n",
      "184/184 [==============================] - 0s 2ms/step - loss: 0.6454 - accuracy: 0.7037 - val_loss: 0.6813 - val_accuracy: 0.6796\n",
      "Epoch 18/100\n",
      "184/184 [==============================] - 0s 2ms/step - loss: 0.6430 - accuracy: 0.7121 - val_loss: 0.6845 - val_accuracy: 0.6816\n",
      "Epoch 19/100\n",
      "184/184 [==============================] - 0s 2ms/step - loss: 0.6407 - accuracy: 0.7056 - val_loss: 0.6802 - val_accuracy: 0.6857\n",
      "Epoch 20/100\n",
      "184/184 [==============================] - 0s 2ms/step - loss: 0.6397 - accuracy: 0.7080 - val_loss: 0.6825 - val_accuracy: 0.6884\n",
      "Epoch 21/100\n",
      "184/184 [==============================] - 0s 2ms/step - loss: 0.6364 - accuracy: 0.7107 - val_loss: 0.6798 - val_accuracy: 0.6837\n",
      "Epoch 22/100\n",
      "184/184 [==============================] - 0s 2ms/step - loss: 0.6357 - accuracy: 0.7085 - val_loss: 0.6814 - val_accuracy: 0.6810\n",
      "Epoch 23/100\n",
      "184/184 [==============================] - 0s 2ms/step - loss: 0.6348 - accuracy: 0.7107 - val_loss: 0.6806 - val_accuracy: 0.6803\n",
      "Epoch 24/100\n",
      "184/184 [==============================] - 0s 2ms/step - loss: 0.6330 - accuracy: 0.7112 - val_loss: 0.6784 - val_accuracy: 0.6912\n",
      "Epoch 25/100\n",
      "184/184 [==============================] - 0s 2ms/step - loss: 0.6308 - accuracy: 0.7139 - val_loss: 0.6829 - val_accuracy: 0.6884\n",
      "Epoch 26/100\n",
      "184/184 [==============================] - 0s 2ms/step - loss: 0.6290 - accuracy: 0.7165 - val_loss: 0.6839 - val_accuracy: 0.6844\n",
      "Epoch 27/100\n",
      "184/184 [==============================] - 0s 3ms/step - loss: 0.6285 - accuracy: 0.7162 - val_loss: 0.6799 - val_accuracy: 0.6857\n",
      "Epoch 28/100\n",
      "184/184 [==============================] - 0s 2ms/step - loss: 0.6273 - accuracy: 0.7145 - val_loss: 0.6778 - val_accuracy: 0.6837\n",
      "Epoch 29/100\n",
      "184/184 [==============================] - 0s 2ms/step - loss: 0.6249 - accuracy: 0.7202 - val_loss: 0.6782 - val_accuracy: 0.6871\n",
      "Epoch 30/100\n",
      "184/184 [==============================] - 0s 2ms/step - loss: 0.6239 - accuracy: 0.7151 - val_loss: 0.6764 - val_accuracy: 0.6966\n",
      "Epoch 31/100\n",
      "184/184 [==============================] - 0s 2ms/step - loss: 0.6226 - accuracy: 0.7168 - val_loss: 0.6765 - val_accuracy: 0.6918\n",
      "Epoch 32/100\n",
      "184/184 [==============================] - 0s 2ms/step - loss: 0.6210 - accuracy: 0.7202 - val_loss: 0.6803 - val_accuracy: 0.6939\n",
      "Epoch 33/100\n",
      "184/184 [==============================] - 0s 3ms/step - loss: 0.6207 - accuracy: 0.7182 - val_loss: 0.6781 - val_accuracy: 0.6884\n",
      "Epoch 34/100\n",
      "184/184 [==============================] - 1s 3ms/step - loss: 0.6188 - accuracy: 0.7185 - val_loss: 0.6757 - val_accuracy: 0.6918\n",
      "Epoch 35/100\n",
      "184/184 [==============================] - 0s 3ms/step - loss: 0.6178 - accuracy: 0.7202 - val_loss: 0.6746 - val_accuracy: 0.6912\n",
      "Epoch 36/100\n",
      "184/184 [==============================] - 0s 3ms/step - loss: 0.6167 - accuracy: 0.7224 - val_loss: 0.6731 - val_accuracy: 0.6993\n",
      "Epoch 37/100\n",
      "184/184 [==============================] - 0s 2ms/step - loss: 0.6151 - accuracy: 0.7194 - val_loss: 0.6729 - val_accuracy: 0.6918\n",
      "Epoch 38/100\n",
      "184/184 [==============================] - 0s 2ms/step - loss: 0.6156 - accuracy: 0.7226 - val_loss: 0.6755 - val_accuracy: 0.6946\n",
      "Epoch 39/100\n",
      "184/184 [==============================] - 1s 3ms/step - loss: 0.6126 - accuracy: 0.7248 - val_loss: 0.6733 - val_accuracy: 0.6946\n",
      "Epoch 40/100\n",
      "184/184 [==============================] - 1s 3ms/step - loss: 0.6122 - accuracy: 0.7259 - val_loss: 0.6742 - val_accuracy: 0.6932\n",
      "Epoch 41/100\n",
      "184/184 [==============================] - 1s 3ms/step - loss: 0.6120 - accuracy: 0.7235 - val_loss: 0.6780 - val_accuracy: 0.6912\n",
      "Epoch 42/100\n",
      "184/184 [==============================] - 1s 3ms/step - loss: 0.6108 - accuracy: 0.7235 - val_loss: 0.6720 - val_accuracy: 0.6918\n",
      "Epoch 43/100\n",
      "184/184 [==============================] - 0s 3ms/step - loss: 0.6091 - accuracy: 0.7252 - val_loss: 0.6731 - val_accuracy: 0.6966\n",
      "Epoch 44/100\n",
      "184/184 [==============================] - 1s 3ms/step - loss: 0.6089 - accuracy: 0.7272 - val_loss: 0.6735 - val_accuracy: 0.6966\n",
      "Epoch 45/100\n",
      "184/184 [==============================] - 1s 3ms/step - loss: 0.6074 - accuracy: 0.7259 - val_loss: 0.6761 - val_accuracy: 0.6837\n",
      "Epoch 46/100\n",
      "184/184 [==============================] - 1s 3ms/step - loss: 0.6074 - accuracy: 0.7236 - val_loss: 0.6718 - val_accuracy: 0.6959\n",
      "Epoch 47/100\n",
      "184/184 [==============================] - 1s 3ms/step - loss: 0.6050 - accuracy: 0.7276 - val_loss: 0.6790 - val_accuracy: 0.6830\n",
      "Epoch 48/100\n",
      "184/184 [==============================] - 1s 3ms/step - loss: 0.6062 - accuracy: 0.7238 - val_loss: 0.6723 - val_accuracy: 0.6993\n",
      "Epoch 49/100\n",
      "184/184 [==============================] - 1s 3ms/step - loss: 0.6045 - accuracy: 0.7260 - val_loss: 0.6738 - val_accuracy: 0.6905\n",
      "Epoch 50/100\n",
      "184/184 [==============================] - 0s 3ms/step - loss: 0.6020 - accuracy: 0.7260 - val_loss: 0.6769 - val_accuracy: 0.6871\n",
      "Epoch 51/100\n",
      "184/184 [==============================] - 0s 2ms/step - loss: 0.6026 - accuracy: 0.7308 - val_loss: 0.6700 - val_accuracy: 0.6932\n",
      "Epoch 52/100\n",
      "184/184 [==============================] - 0s 2ms/step - loss: 0.6019 - accuracy: 0.7304 - val_loss: 0.6749 - val_accuracy: 0.6905\n",
      "Epoch 53/100\n",
      "184/184 [==============================] - 0s 2ms/step - loss: 0.6007 - accuracy: 0.7274 - val_loss: 0.6755 - val_accuracy: 0.6980\n",
      "Epoch 54/100\n",
      "184/184 [==============================] - 0s 2ms/step - loss: 0.5998 - accuracy: 0.7289 - val_loss: 0.6765 - val_accuracy: 0.6878\n",
      "Epoch 55/100\n",
      "184/184 [==============================] - 0s 2ms/step - loss: 0.6007 - accuracy: 0.7293 - val_loss: 0.6740 - val_accuracy: 0.6912\n",
      "Epoch 56/100\n",
      "184/184 [==============================] - 0s 2ms/step - loss: 0.5989 - accuracy: 0.7301 - val_loss: 0.6723 - val_accuracy: 0.6946\n",
      "Epoch 57/100\n",
      "184/184 [==============================] - 0s 2ms/step - loss: 0.5979 - accuracy: 0.7332 - val_loss: 0.6763 - val_accuracy: 0.6925\n"
     ]
    },
    {
     "name": "stdout",
     "output_type": "stream",
     "text": [
      "Epoch 58/100\n",
      "184/184 [==============================] - 1s 3ms/step - loss: 0.5976 - accuracy: 0.7316 - val_loss: 0.6733 - val_accuracy: 0.6959\n",
      "Epoch 59/100\n",
      "184/184 [==============================] - 1s 3ms/step - loss: 0.5966 - accuracy: 0.7287 - val_loss: 0.6816 - val_accuracy: 0.6830\n",
      "Epoch 60/100\n",
      "184/184 [==============================] - 0s 3ms/step - loss: 0.5965 - accuracy: 0.7303 - val_loss: 0.6757 - val_accuracy: 0.6878\n",
      "Epoch 61/100\n",
      "184/184 [==============================] - 0s 3ms/step - loss: 0.5955 - accuracy: 0.7308 - val_loss: 0.6816 - val_accuracy: 0.6857\n",
      "Epoch 62/100\n",
      "184/184 [==============================] - 0s 3ms/step - loss: 0.5935 - accuracy: 0.7323 - val_loss: 0.6807 - val_accuracy: 0.6946\n",
      "Epoch 63/100\n",
      "184/184 [==============================] - 1s 3ms/step - loss: 0.5936 - accuracy: 0.7323 - val_loss: 0.6767 - val_accuracy: 0.6918\n",
      "Epoch 64/100\n",
      "184/184 [==============================] - 0s 3ms/step - loss: 0.5924 - accuracy: 0.7316 - val_loss: 0.6756 - val_accuracy: 0.6918\n",
      "Epoch 65/100\n",
      "184/184 [==============================] - 1s 3ms/step - loss: 0.5927 - accuracy: 0.7337 - val_loss: 0.6749 - val_accuracy: 0.6918\n",
      "Epoch 66/100\n",
      "184/184 [==============================] - 0s 3ms/step - loss: 0.5918 - accuracy: 0.7325 - val_loss: 0.6725 - val_accuracy: 0.6939\n",
      "Epoch 67/100\n",
      "184/184 [==============================] - 0s 3ms/step - loss: 0.5921 - accuracy: 0.7344 - val_loss: 0.6734 - val_accuracy: 0.6898\n",
      "Epoch 68/100\n",
      "184/184 [==============================] - 0s 3ms/step - loss: 0.5902 - accuracy: 0.7327 - val_loss: 0.6783 - val_accuracy: 0.6857\n",
      "Epoch 69/100\n",
      "184/184 [==============================] - 0s 3ms/step - loss: 0.5906 - accuracy: 0.7338 - val_loss: 0.6778 - val_accuracy: 0.6884\n",
      "Epoch 70/100\n",
      "184/184 [==============================] - 0s 3ms/step - loss: 0.5890 - accuracy: 0.7354 - val_loss: 0.6740 - val_accuracy: 0.6912\n",
      "Epoch 71/100\n",
      "184/184 [==============================] - 0s 3ms/step - loss: 0.5887 - accuracy: 0.7352 - val_loss: 0.6783 - val_accuracy: 0.6966\n",
      "Epoch 72/100\n",
      "184/184 [==============================] - 1s 3ms/step - loss: 0.5887 - accuracy: 0.7355 - val_loss: 0.6770 - val_accuracy: 0.6973\n",
      "Epoch 73/100\n",
      "184/184 [==============================] - 1s 3ms/step - loss: 0.5867 - accuracy: 0.7381 - val_loss: 0.6763 - val_accuracy: 0.6884\n",
      "Epoch 74/100\n",
      "184/184 [==============================] - 0s 3ms/step - loss: 0.5868 - accuracy: 0.7401 - val_loss: 0.6774 - val_accuracy: 0.6905\n",
      "Epoch 75/100\n",
      "184/184 [==============================] - 1s 3ms/step - loss: 0.5877 - accuracy: 0.7344 - val_loss: 0.6804 - val_accuracy: 0.6878\n",
      "Epoch 76/100\n",
      "184/184 [==============================] - 0s 3ms/step - loss: 0.5857 - accuracy: 0.7400 - val_loss: 0.6774 - val_accuracy: 0.6966\n",
      "Epoch 77/100\n",
      "184/184 [==============================] - 0s 3ms/step - loss: 0.5851 - accuracy: 0.7410 - val_loss: 0.6736 - val_accuracy: 0.6891\n",
      "Epoch 78/100\n",
      "184/184 [==============================] - 0s 3ms/step - loss: 0.5849 - accuracy: 0.7383 - val_loss: 0.6743 - val_accuracy: 0.7027\n",
      "Epoch 79/100\n",
      "184/184 [==============================] - 1s 3ms/step - loss: 0.5843 - accuracy: 0.7406 - val_loss: 0.6781 - val_accuracy: 0.6844\n",
      "Epoch 80/100\n",
      "184/184 [==============================] - 1s 3ms/step - loss: 0.5845 - accuracy: 0.7395 - val_loss: 0.6830 - val_accuracy: 0.6850\n",
      "Epoch 81/100\n",
      "184/184 [==============================] - 1s 3ms/step - loss: 0.5843 - accuracy: 0.7389 - val_loss: 0.6807 - val_accuracy: 0.6884\n",
      "Epoch 82/100\n",
      "184/184 [==============================] - 1s 3ms/step - loss: 0.5828 - accuracy: 0.7391 - val_loss: 0.6783 - val_accuracy: 0.6905\n",
      "Epoch 83/100\n",
      "184/184 [==============================] - 0s 3ms/step - loss: 0.5834 - accuracy: 0.7384 - val_loss: 0.6770 - val_accuracy: 0.6816\n",
      "Epoch 84/100\n",
      "184/184 [==============================] - 0s 3ms/step - loss: 0.5816 - accuracy: 0.7391 - val_loss: 0.6751 - val_accuracy: 0.6959\n",
      "Epoch 85/100\n",
      "184/184 [==============================] - 0s 3ms/step - loss: 0.5797 - accuracy: 0.7427 - val_loss: 0.6777 - val_accuracy: 0.6959\n",
      "Epoch 86/100\n",
      "184/184 [==============================] - 0s 3ms/step - loss: 0.5806 - accuracy: 0.7412 - val_loss: 0.6785 - val_accuracy: 0.6925\n",
      "Epoch 87/100\n",
      "184/184 [==============================] - 0s 3ms/step - loss: 0.5804 - accuracy: 0.7391 - val_loss: 0.6745 - val_accuracy: 0.6959\n",
      "Epoch 88/100\n",
      "184/184 [==============================] - 0s 3ms/step - loss: 0.5789 - accuracy: 0.7413 - val_loss: 0.6775 - val_accuracy: 0.6986\n",
      "Epoch 89/100\n",
      "184/184 [==============================] - 1s 3ms/step - loss: 0.5779 - accuracy: 0.7408 - val_loss: 0.6762 - val_accuracy: 0.6932\n",
      "Epoch 90/100\n",
      "184/184 [==============================] - 0s 3ms/step - loss: 0.5783 - accuracy: 0.7446 - val_loss: 0.6762 - val_accuracy: 0.6946\n",
      "Epoch 91/100\n",
      "184/184 [==============================] - 1s 3ms/step - loss: 0.5771 - accuracy: 0.7463 - val_loss: 0.6773 - val_accuracy: 0.6857\n",
      "Epoch 92/100\n",
      "184/184 [==============================] - 0s 3ms/step - loss: 0.5768 - accuracy: 0.7401 - val_loss: 0.6771 - val_accuracy: 0.6891\n",
      "Epoch 93/100\n",
      "184/184 [==============================] - 1s 3ms/step - loss: 0.5753 - accuracy: 0.7464 - val_loss: 0.6765 - val_accuracy: 0.6898\n",
      "Epoch 94/100\n",
      "184/184 [==============================] - 0s 3ms/step - loss: 0.5755 - accuracy: 0.7446 - val_loss: 0.6830 - val_accuracy: 0.6864\n",
      "Epoch 95/100\n",
      "184/184 [==============================] - 0s 3ms/step - loss: 0.5762 - accuracy: 0.7439 - val_loss: 0.6775 - val_accuracy: 0.6891\n",
      "Epoch 96/100\n",
      "184/184 [==============================] - 1s 3ms/step - loss: 0.5745 - accuracy: 0.7430 - val_loss: 0.6799 - val_accuracy: 0.6925\n",
      "Epoch 97/100\n",
      "184/184 [==============================] - 1s 3ms/step - loss: 0.5751 - accuracy: 0.7430 - val_loss: 0.6822 - val_accuracy: 0.6891\n",
      "Epoch 98/100\n",
      "184/184 [==============================] - 0s 3ms/step - loss: 0.5730 - accuracy: 0.7442 - val_loss: 0.6791 - val_accuracy: 0.6918\n",
      "Epoch 99/100\n",
      "184/184 [==============================] - 0s 3ms/step - loss: 0.5726 - accuracy: 0.7456 - val_loss: 0.6795 - val_accuracy: 0.6932\n",
      "Epoch 100/100\n",
      "184/184 [==============================] - 0s 3ms/step - loss: 0.5728 - accuracy: 0.7457 - val_loss: 0.6760 - val_accuracy: 0.6925\n"
     ]
    }
   ],
   "source": [
    "history_mdl = mdl.fit(x_train,y_train, epochs=100, batch_size=32, shuffle=True, validation_split=0.2)"
   ]
  },
  {
   "cell_type": "code",
   "execution_count": 58,
   "metadata": {},
   "outputs": [
    {
     "name": "stdout",
     "output_type": "stream",
     "text": [
      "230/230 [==============================] - 0s 2ms/step - loss: 0.5860 - accuracy: 0.7418\n",
      "training set:  [0.5859695672988892, 0.7417687177658081]\n",
      "99/99 [==============================] - 0s 2ms/step - loss: 0.6874 - accuracy: 0.6946\n",
      "test set:  [0.687400221824646, 0.6946031451225281]\n"
     ]
    }
   ],
   "source": [
    "print(\"training set: \",mdl.evaluate(x_train,y_train))\n",
    "print(\"test set: \",mdl.evaluate(x_test,y_test))"
   ]
  },
  {
   "cell_type": "markdown",
   "metadata": {},
   "source": [
    "The accuracy on the training set is 0.745, while on the testing set it is 0.696. This shows that the model has been able to correctly classify 75% of the samples in the training set while only 70% in the testing set. Therefore, the model performs better on the training set than the testing set."
   ]
  },
  {
   "cell_type": "code",
   "execution_count": 59,
   "metadata": {},
   "outputs": [
    {
     "data": {
      "image/png": "[encoded data removed]",
      "text/plain": [
       "<Figure size 640x480 with 1 Axes>"
      ]
     },
     "metadata": {},
     "output_type": "display_data"
    }
   ],
   "source": [
    "plt.plot(history_mdl.history[\"val_loss\"])\n",
    "plt.plot(history_mdl.history[\"loss\"])\n",
    "plt.plot(mlp.loss_curve_)\n",
    "plt.title(\"Model Loss, Keras vs sklearn\")\n",
    "plt.ylabel(\"Loss\")\n",
    "plt.xlabel(\"Epochs\")\n",
    "plt.legend([\"keras val_loss\", \"keras loss\",\"sklearn loss\"], loc=\"upper right\")\n",
    "plt.show()"
   ]
  },
  {
   "cell_type": "markdown",
   "metadata": {},
   "source": [
    "The training loss for the keras and sklearn models is very similar, with the curves closely following each other with number of epochs."
   ]
  },
  {
   "cell_type": "markdown",
   "metadata": {},
   "source": [
    "Accuracy for sklearn model: <br>75.1 => training set<br>\n",
    "                            70.4 => testing set\n",
    "                            \n",
    "Accuracy for keras model: <br>74.5 => training set<br>\n",
    "                          69.6 => testing set\n",
    "                          \n",
    "Therefore the accuracy between the keras and sklearn models is very similar, with the sklearn model showing slightly higher accuracy on both the training and testing sets."
   ]
  },
  {
   "cell_type": "markdown",
   "metadata": {},
   "source": [
    "## 5. Regularisation (1.5 marks)\n",
    "---\n",
    "This section covers **2** exercises on the impact of weight regularisaton. Note that $L_{1}$- and $L_{2}$-regularisation may also be applied to the activation of intermediate layers. Also, a similar regularising effect could be achieved using **dropout** regularisation, which you are encouraged to try out, but which we won't study in this CP exercise."
   ]
  },
  {
   "cell_type": "code",
   "execution_count": 60,
   "metadata": {},
   "outputs": [],
   "source": [
    "# Relevant import(s) for this section\n",
    "from tensorflow.python.keras.regularizers import l1_l2"
   ]
  },
  {
   "cell_type": "markdown",
   "metadata": {},
   "source": [
    "#### 5.1. Define `Keras` model factory method (0.5 mark)\n",
    "\n",
    "- Define a python function called `big_model_fn` which takes the followng three arguments:\n",
    "    - `l1`: A float specifying the $L_{1}$ regularisation factor (default value: 0)\n",
    "    - `l2`: A float specifying the $L_{2}$ regularisation factor (default value: 0)\n",
    "    - `name`: A string, specifying the name of the model (default value: None)\n",
    "- Indside the function, you should:\n",
    "    - Construct a `Keras` model using the functional API, which has:\n",
    "        - An input layer with the same number of nodes as the number of features in `X`.\n",
    "        - **Two** densely connected hidden layer with **100 nodes** each, both equipped with **ReLU activation**.\n",
    "        - Both hidden layers should be subject to kernel regularisation (_i.e._ weight regularisation) with the regularisation factors specified as an input.\n",
    "        - A densely connected output layer with **3 nodes** (the number of types of weather we're classifying) equipped with **softmax activation**.\n",
    "        - A name given by the corresponding argument.\n",
    "    - Compile the model in the same way as in **Exercise 14.**\n",
    "- The function should return the compiled `Keras` model. \n",
    "\n",
    "The method will provide a convenient way of constructing and compiling a number of \"big\"/deep `Keras` models which differ only by their regularisation and name."
   ]
  },
  {
   "cell_type": "code",
   "execution_count": 61,
   "metadata": {},
   "outputs": [],
   "source": [
    "def big_model_fn(l1,l2,name):\n",
    "    inputs = Input(shape=(23,))\n",
    "    x1 = Dense(100, activation=\"relu\",kernel_regularizer=l1_l2(l1=l1, l2=l2))(inputs)\n",
    "    x2 = Dense(100, activation=\"relu\",kernel_regularizer=l1_l2(l1=l1, l2=l2))(x1)\n",
    "    outputs = Dense(3, activation=\"softmax\")(x2)\n",
    "    model = Model(inputs, outputs, name=name)\n",
    "    model.compile(optimizer=\"adam\", loss=\"sparse_categorical_crossentropy\", metrics=[\"accuracy\"])\n",
    "    return model"
   ]
  },
  {
   "cell_type": "markdown",
   "metadata": {},
   "source": [
    "#### 5.2. Train \"big\" models with and without regularisation (1 mark)\n",
    "\n",
    "- Construct three \"big\" model using the factory method:\n",
    "     - One with default parameters\n",
    "     - One with `l1=0.003` and  `name='model_L1'`\n",
    "     - One with `l2=0.03`  and `name='model_L2'`\n",
    "- Train each one as in **Exercise 15.**\n",
    "- Compare first the loss history of the un-regularised \"big\" model to that of the small model from **Exercise 15** using the `plot.loss()` method.\n",
    "- Then, compare the loss histories of all three \"big\" models with that of the small model.\n",
    "- Plot the loss and val loss of all 4 models. Target these points:\n",
    "    - Compare the performance of deep vs shallow models on the testing sets\n",
    "    - Compare the level of ovetraining (training vs testing loss)\n",
    "    - Note: Don't be alarmed if the shallow network performs slightly better that the deeper ones, this is dataset dependant.\n",
    "- Copy the same plotting code, but this time plot the training and validation accuracy\n",
    "- Discuss the results."
   ]
  },
  {
   "cell_type": "code",
   "execution_count": 62,
   "metadata": {},
   "outputs": [],
   "source": [
    "model = big_model_fn(0,0,\"model\")\n",
    "model_l1 = big_model_fn(0.003,0,\"model_L1\")\n",
    "model_l2 = big_model_fn(0,0.03,\"model_L2\")"
   ]
  },
  {
   "cell_type": "code",
   "execution_count": 63,
   "metadata": {},
   "outputs": [
    {
     "name": "stderr",
     "output_type": "stream",
     "text": [
      "C:\\Users\\Stefa\\Anaconda3\\envs\\daml\\lib\\site-packages\\tensorflow\\python\\keras\\engine\\data_adapter.py:1516: FutureWarning: The behavior of `series[i:j]` with an integer-dtype index is deprecated. In a future version, this will be treated as *label-based* indexing, consistent with e.g. `series[i]` lookups. To retain the old behavior, use `series.iloc[i:j]`. To get the future behavior, use `series.loc[i:j]`.\n",
      "  return t[start:end]\n"
     ]
    },
    {
     "name": "stdout",
     "output_type": "stream",
     "text": [
      "Epoch 1/100\n",
      "184/184 [==============================] - 1s 4ms/step - loss: 0.7704 - accuracy: 0.6366 - val_loss: 0.7086 - val_accuracy: 0.6646\n",
      "Epoch 2/100\n",
      "184/184 [==============================] - 1s 3ms/step - loss: 0.6884 - accuracy: 0.6813 - val_loss: 0.6877 - val_accuracy: 0.6871\n",
      "Epoch 3/100\n",
      "184/184 [==============================] - 1s 3ms/step - loss: 0.6707 - accuracy: 0.6900 - val_loss: 0.6835 - val_accuracy: 0.6912\n",
      "Epoch 4/100\n",
      "184/184 [==============================] - 1s 3ms/step - loss: 0.6582 - accuracy: 0.7003 - val_loss: 0.6763 - val_accuracy: 0.6918\n",
      "Epoch 5/100\n",
      "184/184 [==============================] - 1s 3ms/step - loss: 0.6457 - accuracy: 0.7041 - val_loss: 0.6678 - val_accuracy: 0.7014\n",
      "Epoch 6/100\n",
      "184/184 [==============================] - 1s 3ms/step - loss: 0.6377 - accuracy: 0.7077 - val_loss: 0.6664 - val_accuracy: 0.7020\n",
      "Epoch 7/100\n",
      "184/184 [==============================] - 1s 3ms/step - loss: 0.6272 - accuracy: 0.7141 - val_loss: 0.6571 - val_accuracy: 0.6986\n",
      "Epoch 8/100\n",
      "184/184 [==============================] - 1s 3ms/step - loss: 0.6188 - accuracy: 0.7196 - val_loss: 0.6591 - val_accuracy: 0.7048\n",
      "Epoch 9/100\n",
      "184/184 [==============================] - 1s 3ms/step - loss: 0.6089 - accuracy: 0.7247 - val_loss: 0.6529 - val_accuracy: 0.7034\n",
      "Epoch 10/100\n",
      "184/184 [==============================] - 1s 3ms/step - loss: 0.6021 - accuracy: 0.7304 - val_loss: 0.6564 - val_accuracy: 0.7054\n",
      "Epoch 11/100\n",
      "184/184 [==============================] - 1s 3ms/step - loss: 0.5965 - accuracy: 0.7354 - val_loss: 0.6581 - val_accuracy: 0.7007\n",
      "Epoch 12/100\n",
      "184/184 [==============================] - 1s 3ms/step - loss: 0.5854 - accuracy: 0.7367 - val_loss: 0.6582 - val_accuracy: 0.7000\n",
      "Epoch 13/100\n",
      "184/184 [==============================] - 1s 3ms/step - loss: 0.5790 - accuracy: 0.7446 - val_loss: 0.6511 - val_accuracy: 0.7041\n",
      "Epoch 14/100\n",
      "184/184 [==============================] - 1s 3ms/step - loss: 0.5671 - accuracy: 0.7464 - val_loss: 0.6561 - val_accuracy: 0.7034\n",
      "Epoch 15/100\n",
      "184/184 [==============================] - 1s 3ms/step - loss: 0.5625 - accuracy: 0.7522 - val_loss: 0.6532 - val_accuracy: 0.7122\n",
      "Epoch 16/100\n",
      "184/184 [==============================] - 1s 3ms/step - loss: 0.5554 - accuracy: 0.7585 - val_loss: 0.6568 - val_accuracy: 0.7068\n",
      "Epoch 17/100\n",
      "184/184 [==============================] - 1s 3ms/step - loss: 0.5502 - accuracy: 0.7546 - val_loss: 0.6566 - val_accuracy: 0.7027\n",
      "Epoch 18/100\n",
      "184/184 [==============================] - 1s 3ms/step - loss: 0.5436 - accuracy: 0.7607 - val_loss: 0.6568 - val_accuracy: 0.7102\n",
      "Epoch 19/100\n",
      "184/184 [==============================] - 1s 3ms/step - loss: 0.5308 - accuracy: 0.7726 - val_loss: 0.6531 - val_accuracy: 0.7054\n",
      "Epoch 20/100\n",
      "184/184 [==============================] - 1s 3ms/step - loss: 0.5271 - accuracy: 0.7714 - val_loss: 0.6676 - val_accuracy: 0.7034\n",
      "Epoch 21/100\n",
      "184/184 [==============================] - 1s 3ms/step - loss: 0.5179 - accuracy: 0.7769 - val_loss: 0.6594 - val_accuracy: 0.7007\n",
      "Epoch 22/100\n",
      "184/184 [==============================] - 1s 3ms/step - loss: 0.5121 - accuracy: 0.7816 - val_loss: 0.6685 - val_accuracy: 0.7041\n",
      "Epoch 23/100\n",
      "184/184 [==============================] - 1s 3ms/step - loss: 0.5057 - accuracy: 0.7825 - val_loss: 0.6919 - val_accuracy: 0.6939\n",
      "Epoch 24/100\n",
      "184/184 [==============================] - 1s 3ms/step - loss: 0.4988 - accuracy: 0.7886 - val_loss: 0.6733 - val_accuracy: 0.6952\n",
      "Epoch 25/100\n",
      "184/184 [==============================] - 1s 3ms/step - loss: 0.4923 - accuracy: 0.7883 - val_loss: 0.6783 - val_accuracy: 0.6952\n",
      "Epoch 26/100\n",
      "184/184 [==============================] - 1s 3ms/step - loss: 0.4807 - accuracy: 0.7935 - val_loss: 0.6765 - val_accuracy: 0.6952\n",
      "Epoch 27/100\n",
      "184/184 [==============================] - 1s 3ms/step - loss: 0.4779 - accuracy: 0.7991 - val_loss: 0.6811 - val_accuracy: 0.7048\n",
      "Epoch 28/100\n",
      "184/184 [==============================] - 1s 3ms/step - loss: 0.4714 - accuracy: 0.7998 - val_loss: 0.6840 - val_accuracy: 0.6993\n",
      "Epoch 29/100\n",
      "184/184 [==============================] - 1s 3ms/step - loss: 0.4652 - accuracy: 0.8058 - val_loss: 0.6798 - val_accuracy: 0.7041\n",
      "Epoch 30/100\n",
      "184/184 [==============================] - 1s 3ms/step - loss: 0.4581 - accuracy: 0.8032 - val_loss: 0.6875 - val_accuracy: 0.6939\n",
      "Epoch 31/100\n",
      "184/184 [==============================] - 1s 3ms/step - loss: 0.4540 - accuracy: 0.8112 - val_loss: 0.6930 - val_accuracy: 0.7068\n",
      "Epoch 32/100\n",
      "184/184 [==============================] - 1s 3ms/step - loss: 0.4452 - accuracy: 0.8119 - val_loss: 0.7170 - val_accuracy: 0.6898\n",
      "Epoch 33/100\n",
      "184/184 [==============================] - 1s 3ms/step - loss: 0.4406 - accuracy: 0.8156 - val_loss: 0.6965 - val_accuracy: 0.7000\n",
      "Epoch 34/100\n",
      "184/184 [==============================] - 1s 3ms/step - loss: 0.4360 - accuracy: 0.8207 - val_loss: 0.7245 - val_accuracy: 0.6898\n",
      "Epoch 35/100\n",
      "184/184 [==============================] - 1s 3ms/step - loss: 0.4292 - accuracy: 0.8274 - val_loss: 0.7145 - val_accuracy: 0.7041\n",
      "Epoch 36/100\n",
      "184/184 [==============================] - 1s 3ms/step - loss: 0.4246 - accuracy: 0.8240 - val_loss: 0.7113 - val_accuracy: 0.6993\n",
      "Epoch 37/100\n",
      "184/184 [==============================] - 1s 3ms/step - loss: 0.4146 - accuracy: 0.8308 - val_loss: 0.7175 - val_accuracy: 0.7014\n",
      "Epoch 38/100\n",
      "184/184 [==============================] - 1s 3ms/step - loss: 0.4136 - accuracy: 0.8279 - val_loss: 0.7250 - val_accuracy: 0.6959\n",
      "Epoch 39/100\n",
      "184/184 [==============================] - 1s 3ms/step - loss: 0.4046 - accuracy: 0.8347 - val_loss: 0.7238 - val_accuracy: 0.6939\n",
      "Epoch 40/100\n",
      "184/184 [==============================] - 1s 3ms/step - loss: 0.3983 - accuracy: 0.8405 - val_loss: 0.7295 - val_accuracy: 0.7075\n",
      "Epoch 41/100\n",
      "184/184 [==============================] - 1s 3ms/step - loss: 0.3997 - accuracy: 0.8374 - val_loss: 0.7537 - val_accuracy: 0.6939\n",
      "Epoch 42/100\n",
      "184/184 [==============================] - 1s 3ms/step - loss: 0.3887 - accuracy: 0.8432 - val_loss: 0.7384 - val_accuracy: 0.6925\n",
      "Epoch 43/100\n",
      "184/184 [==============================] - 1s 3ms/step - loss: 0.3834 - accuracy: 0.8408 - val_loss: 0.7460 - val_accuracy: 0.7061\n",
      "Epoch 44/100\n",
      "184/184 [==============================] - 1s 3ms/step - loss: 0.3798 - accuracy: 0.8427 - val_loss: 0.7415 - val_accuracy: 0.7020\n",
      "Epoch 45/100\n",
      "184/184 [==============================] - 1s 3ms/step - loss: 0.3739 - accuracy: 0.8505 - val_loss: 0.7588 - val_accuracy: 0.6925\n",
      "Epoch 46/100\n",
      "184/184 [==============================] - 1s 3ms/step - loss: 0.3687 - accuracy: 0.8490 - val_loss: 0.7576 - val_accuracy: 0.7000\n",
      "Epoch 47/100\n",
      "184/184 [==============================] - 1s 3ms/step - loss: 0.3640 - accuracy: 0.8544 - val_loss: 0.7638 - val_accuracy: 0.6912\n",
      "Epoch 48/100\n",
      "184/184 [==============================] - 1s 3ms/step - loss: 0.3571 - accuracy: 0.8554 - val_loss: 0.7733 - val_accuracy: 0.6980\n",
      "Epoch 49/100\n",
      "184/184 [==============================] - 1s 3ms/step - loss: 0.3572 - accuracy: 0.8568 - val_loss: 0.7718 - val_accuracy: 0.6966\n",
      "Epoch 50/100\n",
      "184/184 [==============================] - 1s 3ms/step - loss: 0.3494 - accuracy: 0.8588 - val_loss: 0.7833 - val_accuracy: 0.6905\n",
      "Epoch 51/100\n",
      "184/184 [==============================] - 1s 3ms/step - loss: 0.3458 - accuracy: 0.8605 - val_loss: 0.7896 - val_accuracy: 0.6891\n",
      "Epoch 52/100\n",
      "184/184 [==============================] - 1s 3ms/step - loss: 0.3412 - accuracy: 0.8662 - val_loss: 0.7835 - val_accuracy: 0.6980\n",
      "Epoch 53/100\n",
      "184/184 [==============================] - 1s 3ms/step - loss: 0.3313 - accuracy: 0.8677 - val_loss: 0.7925 - val_accuracy: 0.7061\n",
      "Epoch 54/100\n",
      "184/184 [==============================] - 1s 3ms/step - loss: 0.3366 - accuracy: 0.8658 - val_loss: 0.8156 - val_accuracy: 0.6925\n",
      "Epoch 55/100\n",
      "184/184 [==============================] - 1s 3ms/step - loss: 0.3309 - accuracy: 0.8672 - val_loss: 0.8118 - val_accuracy: 0.7020\n",
      "Epoch 56/100\n",
      "184/184 [==============================] - 1s 3ms/step - loss: 0.3189 - accuracy: 0.8757 - val_loss: 0.8118 - val_accuracy: 0.6850\n",
      "Epoch 57/100\n",
      "184/184 [==============================] - 1s 3ms/step - loss: 0.3200 - accuracy: 0.8745 - val_loss: 0.8174 - val_accuracy: 0.7014\n"
     ]
    },
    {
     "name": "stdout",
     "output_type": "stream",
     "text": [
      "Epoch 58/100\n",
      "184/184 [==============================] - 1s 3ms/step - loss: 0.3149 - accuracy: 0.8772 - val_loss: 0.8221 - val_accuracy: 0.6898\n",
      "Epoch 59/100\n",
      "184/184 [==============================] - 1s 3ms/step - loss: 0.3122 - accuracy: 0.8736 - val_loss: 0.8564 - val_accuracy: 0.6864\n",
      "Epoch 60/100\n",
      "184/184 [==============================] - 1s 3ms/step - loss: 0.3059 - accuracy: 0.8772 - val_loss: 0.8620 - val_accuracy: 0.6939\n",
      "Epoch 61/100\n",
      "184/184 [==============================] - 1s 3ms/step - loss: 0.3006 - accuracy: 0.8816 - val_loss: 0.8432 - val_accuracy: 0.6980\n",
      "Epoch 62/100\n",
      "184/184 [==============================] - 1s 3ms/step - loss: 0.2956 - accuracy: 0.8825 - val_loss: 0.8534 - val_accuracy: 0.6864\n",
      "Epoch 63/100\n",
      "184/184 [==============================] - 1s 3ms/step - loss: 0.2914 - accuracy: 0.8854 - val_loss: 0.8583 - val_accuracy: 0.6864\n",
      "Epoch 64/100\n",
      "184/184 [==============================] - 1s 3ms/step - loss: 0.2843 - accuracy: 0.8951 - val_loss: 0.8702 - val_accuracy: 0.6952\n",
      "Epoch 65/100\n",
      "184/184 [==============================] - 1s 3ms/step - loss: 0.2889 - accuracy: 0.8884 - val_loss: 0.8762 - val_accuracy: 0.6871\n",
      "Epoch 66/100\n",
      "184/184 [==============================] - 1s 3ms/step - loss: 0.2803 - accuracy: 0.8927 - val_loss: 0.8669 - val_accuracy: 0.6966\n",
      "Epoch 67/100\n",
      "184/184 [==============================] - 1s 3ms/step - loss: 0.2752 - accuracy: 0.8917 - val_loss: 0.9244 - val_accuracy: 0.6850\n",
      "Epoch 68/100\n",
      "184/184 [==============================] - 1s 3ms/step - loss: 0.2713 - accuracy: 0.8980 - val_loss: 0.9033 - val_accuracy: 0.6946\n",
      "Epoch 69/100\n",
      "184/184 [==============================] - 1s 3ms/step - loss: 0.2663 - accuracy: 0.9022 - val_loss: 0.9040 - val_accuracy: 0.6932\n",
      "Epoch 70/100\n",
      "184/184 [==============================] - 1s 3ms/step - loss: 0.2679 - accuracy: 0.8968 - val_loss: 0.8902 - val_accuracy: 0.6844\n",
      "Epoch 71/100\n",
      "184/184 [==============================] - 1s 3ms/step - loss: 0.2611 - accuracy: 0.9020 - val_loss: 0.9253 - val_accuracy: 0.6959\n",
      "Epoch 72/100\n",
      "184/184 [==============================] - 1s 3ms/step - loss: 0.2594 - accuracy: 0.9041 - val_loss: 0.9289 - val_accuracy: 0.6939\n",
      "Epoch 73/100\n",
      "184/184 [==============================] - 1s 3ms/step - loss: 0.2524 - accuracy: 0.9056 - val_loss: 0.9400 - val_accuracy: 0.6837\n",
      "Epoch 74/100\n",
      "184/184 [==============================] - 1s 3ms/step - loss: 0.2524 - accuracy: 0.9053 - val_loss: 0.9328 - val_accuracy: 0.6878\n",
      "Epoch 75/100\n",
      "184/184 [==============================] - 1s 3ms/step - loss: 0.2454 - accuracy: 0.9075 - val_loss: 0.9330 - val_accuracy: 0.6905\n",
      "Epoch 76/100\n",
      "184/184 [==============================] - 1s 3ms/step - loss: 0.2467 - accuracy: 0.9048 - val_loss: 0.9346 - val_accuracy: 0.6932\n",
      "Epoch 77/100\n",
      "184/184 [==============================] - 1s 3ms/step - loss: 0.2405 - accuracy: 0.9128 - val_loss: 0.9693 - val_accuracy: 0.6741\n",
      "Epoch 78/100\n",
      "184/184 [==============================] - 1s 3ms/step - loss: 0.2409 - accuracy: 0.9100 - val_loss: 0.9473 - val_accuracy: 0.6898\n",
      "Epoch 79/100\n",
      "184/184 [==============================] - 1s 3ms/step - loss: 0.2350 - accuracy: 0.9145 - val_loss: 0.9812 - val_accuracy: 0.6782\n",
      "Epoch 80/100\n",
      "184/184 [==============================] - 1s 3ms/step - loss: 0.2282 - accuracy: 0.9190 - val_loss: 1.0095 - val_accuracy: 0.6952\n",
      "Epoch 81/100\n",
      "184/184 [==============================] - 1s 3ms/step - loss: 0.2260 - accuracy: 0.9148 - val_loss: 0.9984 - val_accuracy: 0.6776\n",
      "Epoch 82/100\n",
      "184/184 [==============================] - 1s 3ms/step - loss: 0.2252 - accuracy: 0.9163 - val_loss: 0.9933 - val_accuracy: 0.6912\n",
      "Epoch 83/100\n",
      "184/184 [==============================] - 1s 3ms/step - loss: 0.2239 - accuracy: 0.9168 - val_loss: 1.0050 - val_accuracy: 0.6973\n",
      "Epoch 84/100\n",
      "184/184 [==============================] - 1s 3ms/step - loss: 0.2197 - accuracy: 0.9192 - val_loss: 1.0011 - val_accuracy: 0.6980\n",
      "Epoch 85/100\n",
      "184/184 [==============================] - 1s 3ms/step - loss: 0.2205 - accuracy: 0.9177 - val_loss: 1.0100 - val_accuracy: 0.6735\n",
      "Epoch 86/100\n",
      "184/184 [==============================] - 1s 3ms/step - loss: 0.2147 - accuracy: 0.9248 - val_loss: 1.0242 - val_accuracy: 0.6748\n",
      "Epoch 87/100\n",
      "184/184 [==============================] - 1s 3ms/step - loss: 0.2060 - accuracy: 0.9282 - val_loss: 1.0473 - val_accuracy: 0.6857\n",
      "Epoch 88/100\n",
      "184/184 [==============================] - 1s 3ms/step - loss: 0.2028 - accuracy: 0.9296 - val_loss: 1.0707 - val_accuracy: 0.6687\n",
      "Epoch 89/100\n",
      "184/184 [==============================] - 1s 3ms/step - loss: 0.1994 - accuracy: 0.9321 - val_loss: 1.0772 - val_accuracy: 0.6878\n",
      "Epoch 90/100\n",
      "184/184 [==============================] - 1s 3ms/step - loss: 0.2075 - accuracy: 0.9241 - val_loss: 1.0659 - val_accuracy: 0.6837\n",
      "Epoch 91/100\n",
      "184/184 [==============================] - 1s 3ms/step - loss: 0.1970 - accuracy: 0.9318 - val_loss: 1.0477 - val_accuracy: 0.6857\n",
      "Epoch 92/100\n",
      "184/184 [==============================] - 1s 3ms/step - loss: 0.1911 - accuracy: 0.9311 - val_loss: 1.0596 - val_accuracy: 0.6932\n",
      "Epoch 93/100\n",
      "184/184 [==============================] - 1s 3ms/step - loss: 0.1909 - accuracy: 0.9325 - val_loss: 1.0652 - val_accuracy: 0.6830\n",
      "Epoch 94/100\n",
      "184/184 [==============================] - 1s 3ms/step - loss: 0.1912 - accuracy: 0.9313 - val_loss: 1.0928 - val_accuracy: 0.6864\n",
      "Epoch 95/100\n",
      "184/184 [==============================] - 1s 3ms/step - loss: 0.1858 - accuracy: 0.9332 - val_loss: 1.0804 - val_accuracy: 0.6830\n",
      "Epoch 96/100\n",
      "184/184 [==============================] - 1s 3ms/step - loss: 0.1776 - accuracy: 0.9400 - val_loss: 1.0812 - val_accuracy: 0.6850\n",
      "Epoch 97/100\n",
      "184/184 [==============================] - 1s 3ms/step - loss: 0.1788 - accuracy: 0.9395 - val_loss: 1.1261 - val_accuracy: 0.6912\n",
      "Epoch 98/100\n",
      "184/184 [==============================] - 1s 3ms/step - loss: 0.1828 - accuracy: 0.9338 - val_loss: 1.0885 - val_accuracy: 0.6830\n",
      "Epoch 99/100\n",
      "184/184 [==============================] - 1s 3ms/step - loss: 0.1726 - accuracy: 0.9413 - val_loss: 1.1356 - val_accuracy: 0.6776\n",
      "Epoch 100/100\n",
      "184/184 [==============================] - 1s 3ms/step - loss: 0.1702 - accuracy: 0.9427 - val_loss: 1.1281 - val_accuracy: 0.6748\n"
     ]
    }
   ],
   "source": [
    "history_model = model.fit(x_train,y_train, epochs=100, batch_size=32, shuffle=True, validation_split=0.2)"
   ]
  },
  {
   "cell_type": "code",
   "execution_count": 64,
   "metadata": {
    "scrolled": true
   },
   "outputs": [
    {
     "name": "stdout",
     "output_type": "stream",
     "text": [
      "Epoch 1/100\n"
     ]
    },
    {
     "name": "stderr",
     "output_type": "stream",
     "text": [
      "C:\\Users\\Stefa\\Anaconda3\\envs\\daml\\lib\\site-packages\\tensorflow\\python\\keras\\engine\\data_adapter.py:1516: FutureWarning: The behavior of `series[i:j]` with an integer-dtype index is deprecated. In a future version, this will be treated as *label-based* indexing, consistent with e.g. `series[i]` lookups. To retain the old behavior, use `series.iloc[i:j]`. To get the future behavior, use `series.loc[i:j]`.\n",
      "  return t[start:end]\n"
     ]
    },
    {
     "name": "stdout",
     "output_type": "stream",
     "text": [
      "184/184 [==============================] - 1s 4ms/step - loss: 2.4103 - accuracy: 0.6398 - val_loss: 1.2676 - val_accuracy: 0.6531\n",
      "Epoch 2/100\n",
      "184/184 [==============================] - 1s 3ms/step - loss: 1.0260 - accuracy: 0.6656 - val_loss: 0.9208 - val_accuracy: 0.6463\n",
      "Epoch 3/100\n",
      "184/184 [==============================] - 1s 3ms/step - loss: 0.8766 - accuracy: 0.6626 - val_loss: 0.8605 - val_accuracy: 0.6565\n",
      "Epoch 4/100\n",
      "184/184 [==============================] - 1s 3ms/step - loss: 0.8340 - accuracy: 0.6650 - val_loss: 0.8304 - val_accuracy: 0.6238\n",
      "Epoch 5/100\n",
      "184/184 [==============================] - 1s 3ms/step - loss: 0.8112 - accuracy: 0.6648 - val_loss: 0.8166 - val_accuracy: 0.6612\n",
      "Epoch 6/100\n",
      "184/184 [==============================] - 1s 3ms/step - loss: 0.8029 - accuracy: 0.6645 - val_loss: 0.8074 - val_accuracy: 0.6476\n",
      "Epoch 7/100\n",
      "184/184 [==============================] - 1s 3ms/step - loss: 0.7945 - accuracy: 0.6677 - val_loss: 0.7980 - val_accuracy: 0.6510\n",
      "Epoch 8/100\n",
      "184/184 [==============================] - 1s 3ms/step - loss: 0.7898 - accuracy: 0.6646 - val_loss: 0.7971 - val_accuracy: 0.6490\n",
      "Epoch 9/100\n",
      "184/184 [==============================] - 1s 3ms/step - loss: 0.7839 - accuracy: 0.6668 - val_loss: 0.7890 - val_accuracy: 0.6517\n",
      "Epoch 10/100\n",
      "184/184 [==============================] - 1s 3ms/step - loss: 0.7812 - accuracy: 0.6673 - val_loss: 0.7849 - val_accuracy: 0.6585\n",
      "Epoch 11/100\n",
      "184/184 [==============================] - 1s 3ms/step - loss: 0.7783 - accuracy: 0.6653 - val_loss: 0.7821 - val_accuracy: 0.6476\n",
      "Epoch 12/100\n",
      "184/184 [==============================] - 1s 3ms/step - loss: 0.7752 - accuracy: 0.6655 - val_loss: 0.7803 - val_accuracy: 0.6592\n",
      "Epoch 13/100\n",
      "184/184 [==============================] - 1s 3ms/step - loss: 0.7719 - accuracy: 0.6670 - val_loss: 0.7741 - val_accuracy: 0.6605\n",
      "Epoch 14/100\n",
      "184/184 [==============================] - 1s 3ms/step - loss: 0.7684 - accuracy: 0.6679 - val_loss: 0.7774 - val_accuracy: 0.6639\n",
      "Epoch 15/100\n",
      "184/184 [==============================] - 1s 3ms/step - loss: 0.7666 - accuracy: 0.6656 - val_loss: 0.7745 - val_accuracy: 0.6646\n",
      "Epoch 16/100\n",
      "184/184 [==============================] - 1s 3ms/step - loss: 0.7650 - accuracy: 0.6658 - val_loss: 0.7706 - val_accuracy: 0.6585\n",
      "Epoch 17/100\n",
      "184/184 [==============================] - 1s 3ms/step - loss: 0.7657 - accuracy: 0.6675 - val_loss: 0.7692 - val_accuracy: 0.6619\n",
      "Epoch 18/100\n",
      "184/184 [==============================] - 1s 3ms/step - loss: 0.7642 - accuracy: 0.6672 - val_loss: 0.7718 - val_accuracy: 0.6612\n",
      "Epoch 19/100\n",
      "184/184 [==============================] - 1s 3ms/step - loss: 0.7614 - accuracy: 0.6680 - val_loss: 0.7682 - val_accuracy: 0.6633\n",
      "Epoch 20/100\n",
      "184/184 [==============================] - 1s 3ms/step - loss: 0.7624 - accuracy: 0.6663 - val_loss: 0.7655 - val_accuracy: 0.6619\n",
      "Epoch 21/100\n",
      "184/184 [==============================] - 1s 3ms/step - loss: 0.7577 - accuracy: 0.6702 - val_loss: 0.7621 - val_accuracy: 0.6599\n",
      "Epoch 22/100\n",
      "184/184 [==============================] - 1s 3ms/step - loss: 0.7575 - accuracy: 0.6714 - val_loss: 0.7634 - val_accuracy: 0.6551\n",
      "Epoch 23/100\n",
      "184/184 [==============================] - 1s 3ms/step - loss: 0.7575 - accuracy: 0.6718 - val_loss: 0.7651 - val_accuracy: 0.6612\n",
      "Epoch 24/100\n",
      "184/184 [==============================] - 1s 3ms/step - loss: 0.7564 - accuracy: 0.6687 - val_loss: 0.7610 - val_accuracy: 0.6619\n",
      "Epoch 25/100\n",
      "184/184 [==============================] - 1s 3ms/step - loss: 0.7560 - accuracy: 0.6711 - val_loss: 0.7674 - val_accuracy: 0.6660\n",
      "Epoch 26/100\n",
      "184/184 [==============================] - 1s 3ms/step - loss: 0.7545 - accuracy: 0.6687 - val_loss: 0.7589 - val_accuracy: 0.6592\n",
      "Epoch 27/100\n",
      "184/184 [==============================] - 1s 3ms/step - loss: 0.7537 - accuracy: 0.6682 - val_loss: 0.7599 - val_accuracy: 0.6639\n",
      "Epoch 28/100\n",
      "184/184 [==============================] - 1s 3ms/step - loss: 0.7529 - accuracy: 0.6728 - val_loss: 0.7589 - val_accuracy: 0.6592\n",
      "Epoch 29/100\n",
      "184/184 [==============================] - 1s 3ms/step - loss: 0.7521 - accuracy: 0.6733 - val_loss: 0.7564 - val_accuracy: 0.6626\n",
      "Epoch 30/100\n",
      "184/184 [==============================] - 1s 3ms/step - loss: 0.7509 - accuracy: 0.6706 - val_loss: 0.7562 - val_accuracy: 0.6673\n",
      "Epoch 31/100\n",
      "184/184 [==============================] - 1s 3ms/step - loss: 0.7511 - accuracy: 0.6741 - val_loss: 0.7558 - val_accuracy: 0.6633\n",
      "Epoch 32/100\n",
      "184/184 [==============================] - 1s 3ms/step - loss: 0.7491 - accuracy: 0.6713 - val_loss: 0.7672 - val_accuracy: 0.6687\n",
      "Epoch 33/100\n",
      "184/184 [==============================] - 1s 3ms/step - loss: 0.7519 - accuracy: 0.6738 - val_loss: 0.7552 - val_accuracy: 0.6667\n",
      "Epoch 34/100\n",
      "184/184 [==============================] - 1s 3ms/step - loss: 0.7495 - accuracy: 0.6716 - val_loss: 0.7538 - val_accuracy: 0.6626\n",
      "Epoch 35/100\n",
      "184/184 [==============================] - 1s 3ms/step - loss: 0.7517 - accuracy: 0.6696 - val_loss: 0.7550 - val_accuracy: 0.6639\n",
      "Epoch 36/100\n",
      "184/184 [==============================] - 1s 3ms/step - loss: 0.7483 - accuracy: 0.6743 - val_loss: 0.7572 - val_accuracy: 0.6707\n",
      "Epoch 37/100\n",
      "184/184 [==============================] - 1s 3ms/step - loss: 0.7489 - accuracy: 0.6726 - val_loss: 0.7528 - val_accuracy: 0.6714\n",
      "Epoch 38/100\n",
      "184/184 [==============================] - 1s 3ms/step - loss: 0.7495 - accuracy: 0.6765 - val_loss: 0.7520 - val_accuracy: 0.6599\n",
      "Epoch 39/100\n",
      "184/184 [==============================] - 1s 3ms/step - loss: 0.7464 - accuracy: 0.6740 - val_loss: 0.7519 - val_accuracy: 0.6612\n",
      "Epoch 40/100\n",
      "184/184 [==============================] - 1s 3ms/step - loss: 0.7456 - accuracy: 0.6718 - val_loss: 0.7537 - val_accuracy: 0.6694\n",
      "Epoch 41/100\n",
      "184/184 [==============================] - 1s 3ms/step - loss: 0.7463 - accuracy: 0.6767 - val_loss: 0.7524 - val_accuracy: 0.6680\n",
      "Epoch 42/100\n",
      "184/184 [==============================] - 1s 3ms/step - loss: 0.7447 - accuracy: 0.6740 - val_loss: 0.7500 - val_accuracy: 0.6687\n",
      "Epoch 43/100\n",
      "184/184 [==============================] - 1s 3ms/step - loss: 0.7448 - accuracy: 0.6731 - val_loss: 0.7492 - val_accuracy: 0.6639\n",
      "Epoch 44/100\n",
      "184/184 [==============================] - 1s 3ms/step - loss: 0.7443 - accuracy: 0.6765 - val_loss: 0.7500 - val_accuracy: 0.6721\n",
      "Epoch 45/100\n",
      "184/184 [==============================] - 1s 3ms/step - loss: 0.7452 - accuracy: 0.6740 - val_loss: 0.7515 - val_accuracy: 0.6755\n",
      "Epoch 46/100\n",
      "184/184 [==============================] - 1s 3ms/step - loss: 0.7440 - accuracy: 0.6777 - val_loss: 0.7498 - val_accuracy: 0.6735\n",
      "Epoch 47/100\n",
      "184/184 [==============================] - 1s 3ms/step - loss: 0.7426 - accuracy: 0.6779 - val_loss: 0.7478 - val_accuracy: 0.6619\n",
      "Epoch 48/100\n",
      "184/184 [==============================] - 1s 3ms/step - loss: 0.7453 - accuracy: 0.6716 - val_loss: 0.7512 - val_accuracy: 0.6721\n",
      "Epoch 49/100\n",
      "184/184 [==============================] - 1s 3ms/step - loss: 0.7446 - accuracy: 0.6776 - val_loss: 0.7450 - val_accuracy: 0.6639\n",
      "Epoch 50/100\n",
      "184/184 [==============================] - 1s 3ms/step - loss: 0.7410 - accuracy: 0.6779 - val_loss: 0.7458 - val_accuracy: 0.6633\n",
      "Epoch 51/100\n",
      "184/184 [==============================] - 1s 3ms/step - loss: 0.7417 - accuracy: 0.6803 - val_loss: 0.7431 - val_accuracy: 0.6701\n",
      "Epoch 52/100\n",
      "184/184 [==============================] - 1s 3ms/step - loss: 0.7412 - accuracy: 0.6772 - val_loss: 0.7444 - val_accuracy: 0.6660\n",
      "Epoch 53/100\n",
      "184/184 [==============================] - 1s 3ms/step - loss: 0.7412 - accuracy: 0.6769 - val_loss: 0.7432 - val_accuracy: 0.6673\n",
      "Epoch 54/100\n",
      "184/184 [==============================] - 1s 3ms/step - loss: 0.7409 - accuracy: 0.6793 - val_loss: 0.7473 - val_accuracy: 0.6694\n",
      "Epoch 55/100\n",
      "184/184 [==============================] - 1s 3ms/step - loss: 0.7412 - accuracy: 0.6782 - val_loss: 0.7415 - val_accuracy: 0.6660\n",
      "Epoch 56/100\n",
      "184/184 [==============================] - 1s 3ms/step - loss: 0.7399 - accuracy: 0.6784 - val_loss: 0.7426 - val_accuracy: 0.6673\n",
      "Epoch 57/100\n",
      "184/184 [==============================] - 1s 3ms/step - loss: 0.7400 - accuracy: 0.6776 - val_loss: 0.7463 - val_accuracy: 0.6687\n",
      "Epoch 58/100\n"
     ]
    },
    {
     "name": "stdout",
     "output_type": "stream",
     "text": [
      "184/184 [==============================] - 1s 3ms/step - loss: 0.7395 - accuracy: 0.6791 - val_loss: 0.7423 - val_accuracy: 0.6653\n",
      "Epoch 59/100\n",
      "184/184 [==============================] - 1s 3ms/step - loss: 0.7384 - accuracy: 0.6798 - val_loss: 0.7448 - val_accuracy: 0.6612\n",
      "Epoch 60/100\n",
      "184/184 [==============================] - 1s 3ms/step - loss: 0.7393 - accuracy: 0.6762 - val_loss: 0.7456 - val_accuracy: 0.6776\n",
      "Epoch 61/100\n",
      "184/184 [==============================] - 1s 3ms/step - loss: 0.7401 - accuracy: 0.6789 - val_loss: 0.7432 - val_accuracy: 0.6646\n",
      "Epoch 62/100\n",
      "184/184 [==============================] - 0s 3ms/step - loss: 0.7367 - accuracy: 0.6769 - val_loss: 0.7422 - val_accuracy: 0.6721\n",
      "Epoch 63/100\n",
      "184/184 [==============================] - 1s 3ms/step - loss: 0.7375 - accuracy: 0.6787 - val_loss: 0.7447 - val_accuracy: 0.6755\n",
      "Epoch 64/100\n",
      "184/184 [==============================] - 1s 3ms/step - loss: 0.7362 - accuracy: 0.6813 - val_loss: 0.7426 - val_accuracy: 0.6735\n",
      "Epoch 65/100\n",
      "184/184 [==============================] - 1s 3ms/step - loss: 0.7373 - accuracy: 0.6813 - val_loss: 0.7399 - val_accuracy: 0.6707\n",
      "Epoch 66/100\n",
      "184/184 [==============================] - 1s 3ms/step - loss: 0.7370 - accuracy: 0.6806 - val_loss: 0.7401 - val_accuracy: 0.6633\n",
      "Epoch 67/100\n",
      "184/184 [==============================] - 1s 3ms/step - loss: 0.7371 - accuracy: 0.6808 - val_loss: 0.7407 - val_accuracy: 0.6646\n",
      "Epoch 68/100\n",
      "184/184 [==============================] - 1s 3ms/step - loss: 0.7374 - accuracy: 0.6821 - val_loss: 0.7417 - val_accuracy: 0.6667\n",
      "Epoch 69/100\n",
      "184/184 [==============================] - 1s 3ms/step - loss: 0.7365 - accuracy: 0.6835 - val_loss: 0.7396 - val_accuracy: 0.6762\n",
      "Epoch 70/100\n",
      "184/184 [==============================] - 1s 3ms/step - loss: 0.7362 - accuracy: 0.6787 - val_loss: 0.7379 - val_accuracy: 0.6680\n",
      "Epoch 71/100\n",
      "184/184 [==============================] - 1s 3ms/step - loss: 0.7359 - accuracy: 0.6804 - val_loss: 0.7384 - val_accuracy: 0.6714\n",
      "Epoch 72/100\n",
      "184/184 [==============================] - 1s 3ms/step - loss: 0.7362 - accuracy: 0.6806 - val_loss: 0.7403 - val_accuracy: 0.6633\n",
      "Epoch 73/100\n",
      "184/184 [==============================] - 1s 3ms/step - loss: 0.7351 - accuracy: 0.6816 - val_loss: 0.7406 - val_accuracy: 0.6687\n",
      "Epoch 74/100\n",
      "184/184 [==============================] - 1s 3ms/step - loss: 0.7344 - accuracy: 0.6813 - val_loss: 0.7431 - val_accuracy: 0.6673\n",
      "Epoch 75/100\n",
      "184/184 [==============================] - 1s 3ms/step - loss: 0.7360 - accuracy: 0.6825 - val_loss: 0.7403 - val_accuracy: 0.6667\n",
      "Epoch 76/100\n",
      "184/184 [==============================] - 1s 3ms/step - loss: 0.7346 - accuracy: 0.6815 - val_loss: 0.7391 - val_accuracy: 0.6707\n",
      "Epoch 77/100\n",
      "184/184 [==============================] - 1s 3ms/step - loss: 0.7346 - accuracy: 0.6816 - val_loss: 0.7391 - val_accuracy: 0.6741\n",
      "Epoch 78/100\n",
      "184/184 [==============================] - 1s 3ms/step - loss: 0.7344 - accuracy: 0.6791 - val_loss: 0.7394 - val_accuracy: 0.6776\n",
      "Epoch 79/100\n",
      "184/184 [==============================] - 1s 3ms/step - loss: 0.7334 - accuracy: 0.6852 - val_loss: 0.7480 - val_accuracy: 0.6524\n",
      "Epoch 80/100\n",
      "184/184 [==============================] - 1s 3ms/step - loss: 0.7349 - accuracy: 0.6811 - val_loss: 0.7421 - val_accuracy: 0.6660\n",
      "Epoch 81/100\n",
      "184/184 [==============================] - 1s 3ms/step - loss: 0.7349 - accuracy: 0.6849 - val_loss: 0.7387 - val_accuracy: 0.6741\n",
      "Epoch 82/100\n",
      "184/184 [==============================] - 1s 3ms/step - loss: 0.7345 - accuracy: 0.6806 - val_loss: 0.7403 - val_accuracy: 0.6721\n",
      "Epoch 83/100\n",
      "184/184 [==============================] - 1s 3ms/step - loss: 0.7327 - accuracy: 0.6811 - val_loss: 0.7365 - val_accuracy: 0.6667\n",
      "Epoch 84/100\n",
      "184/184 [==============================] - 1s 3ms/step - loss: 0.7320 - accuracy: 0.6883 - val_loss: 0.7379 - val_accuracy: 0.6714\n",
      "Epoch 85/100\n",
      "184/184 [==============================] - 1s 3ms/step - loss: 0.7317 - accuracy: 0.6821 - val_loss: 0.7362 - val_accuracy: 0.6687\n",
      "Epoch 86/100\n",
      "184/184 [==============================] - 1s 3ms/step - loss: 0.7326 - accuracy: 0.6827 - val_loss: 0.7367 - val_accuracy: 0.6707\n",
      "Epoch 87/100\n",
      "184/184 [==============================] - 1s 3ms/step - loss: 0.7319 - accuracy: 0.6820 - val_loss: 0.7362 - val_accuracy: 0.6721\n",
      "Epoch 88/100\n",
      "184/184 [==============================] - 1s 3ms/step - loss: 0.7313 - accuracy: 0.6804 - val_loss: 0.7386 - val_accuracy: 0.6721\n",
      "Epoch 89/100\n",
      "184/184 [==============================] - 1s 3ms/step - loss: 0.7311 - accuracy: 0.6837 - val_loss: 0.7371 - val_accuracy: 0.6707\n",
      "Epoch 90/100\n",
      "184/184 [==============================] - 1s 3ms/step - loss: 0.7318 - accuracy: 0.6823 - val_loss: 0.7411 - val_accuracy: 0.6748\n",
      "Epoch 91/100\n",
      "184/184 [==============================] - 1s 3ms/step - loss: 0.7336 - accuracy: 0.6830 - val_loss: 0.7356 - val_accuracy: 0.6680\n",
      "Epoch 92/100\n",
      "184/184 [==============================] - 1s 3ms/step - loss: 0.7306 - accuracy: 0.6844 - val_loss: 0.7358 - val_accuracy: 0.6755\n",
      "Epoch 93/100\n",
      "184/184 [==============================] - 1s 3ms/step - loss: 0.7298 - accuracy: 0.6825 - val_loss: 0.7342 - val_accuracy: 0.6701\n",
      "Epoch 94/100\n",
      "184/184 [==============================] - 1s 3ms/step - loss: 0.7308 - accuracy: 0.6854 - val_loss: 0.7369 - val_accuracy: 0.6721\n",
      "Epoch 95/100\n",
      "184/184 [==============================] - 1s 3ms/step - loss: 0.7311 - accuracy: 0.6849 - val_loss: 0.7351 - val_accuracy: 0.6721\n",
      "Epoch 96/100\n",
      "184/184 [==============================] - 1s 3ms/step - loss: 0.7302 - accuracy: 0.6837 - val_loss: 0.7382 - val_accuracy: 0.6660\n",
      "Epoch 97/100\n",
      "184/184 [==============================] - 1s 3ms/step - loss: 0.7301 - accuracy: 0.6871 - val_loss: 0.7352 - val_accuracy: 0.6701\n",
      "Epoch 98/100\n",
      "184/184 [==============================] - 1s 3ms/step - loss: 0.7299 - accuracy: 0.6838 - val_loss: 0.7347 - val_accuracy: 0.6728\n",
      "Epoch 99/100\n",
      "184/184 [==============================] - 1s 3ms/step - loss: 0.7285 - accuracy: 0.6835 - val_loss: 0.7362 - val_accuracy: 0.6776\n",
      "Epoch 100/100\n",
      "184/184 [==============================] - 1s 3ms/step - loss: 0.7294 - accuracy: 0.6813 - val_loss: 0.7322 - val_accuracy: 0.6735\n"
     ]
    }
   ],
   "source": [
    "history_model_l1 = model_l1.fit(x_train,y_train, epochs=100, batch_size=32, shuffle=True, validation_split=0.2)"
   ]
  },
  {
   "cell_type": "code",
   "execution_count": 65,
   "metadata": {},
   "outputs": [
    {
     "name": "stdout",
     "output_type": "stream",
     "text": [
      "Epoch 1/100\n"
     ]
    },
    {
     "name": "stderr",
     "output_type": "stream",
     "text": [
      "C:\\Users\\Stefa\\Anaconda3\\envs\\daml\\lib\\site-packages\\tensorflow\\python\\keras\\engine\\data_adapter.py:1516: FutureWarning: The behavior of `series[i:j]` with an integer-dtype index is deprecated. In a future version, this will be treated as *label-based* indexing, consistent with e.g. `series[i]` lookups. To retain the old behavior, use `series.iloc[i:j]`. To get the future behavior, use `series.loc[i:j]`.\n",
      "  return t[start:end]\n"
     ]
    },
    {
     "name": "stdout",
     "output_type": "stream",
     "text": [
      "184/184 [==============================] - 2s 5ms/step - loss: 2.2201 - accuracy: 0.6245 - val_loss: 1.0126 - val_accuracy: 0.6469\n",
      "Epoch 2/100\n",
      "184/184 [==============================] - 1s 3ms/step - loss: 0.8700 - accuracy: 0.6602 - val_loss: 0.8195 - val_accuracy: 0.6565\n",
      "Epoch 3/100\n",
      "184/184 [==============================] - 1s 3ms/step - loss: 0.8038 - accuracy: 0.6587 - val_loss: 0.8068 - val_accuracy: 0.6537\n",
      "Epoch 4/100\n",
      "184/184 [==============================] - 1s 3ms/step - loss: 0.7941 - accuracy: 0.6561 - val_loss: 0.7989 - val_accuracy: 0.6381\n",
      "Epoch 5/100\n",
      "184/184 [==============================] - 1s 3ms/step - loss: 0.7827 - accuracy: 0.6571 - val_loss: 0.7862 - val_accuracy: 0.6660\n",
      "Epoch 6/100\n",
      "184/184 [==============================] - 1s 3ms/step - loss: 0.7814 - accuracy: 0.6645 - val_loss: 0.7788 - val_accuracy: 0.6388\n",
      "Epoch 7/100\n",
      "184/184 [==============================] - 1s 3ms/step - loss: 0.7771 - accuracy: 0.6597 - val_loss: 0.7727 - val_accuracy: 0.6497\n",
      "Epoch 8/100\n",
      "184/184 [==============================] - 1s 3ms/step - loss: 0.7717 - accuracy: 0.6631 - val_loss: 0.7815 - val_accuracy: 0.6347\n",
      "Epoch 9/100\n",
      "184/184 [==============================] - 1s 3ms/step - loss: 0.7678 - accuracy: 0.6617 - val_loss: 0.7660 - val_accuracy: 0.6551\n",
      "Epoch 10/100\n",
      "184/184 [==============================] - 1s 3ms/step - loss: 0.7669 - accuracy: 0.6694 - val_loss: 0.7676 - val_accuracy: 0.6599\n",
      "Epoch 11/100\n",
      "184/184 [==============================] - 1s 3ms/step - loss: 0.7655 - accuracy: 0.6648 - val_loss: 0.7632 - val_accuracy: 0.6524\n",
      "Epoch 12/100\n",
      "184/184 [==============================] - 1s 3ms/step - loss: 0.7620 - accuracy: 0.6655 - val_loss: 0.7637 - val_accuracy: 0.6728\n",
      "Epoch 13/100\n",
      "184/184 [==============================] - 1s 3ms/step - loss: 0.7613 - accuracy: 0.6667 - val_loss: 0.7600 - val_accuracy: 0.6449\n",
      "Epoch 14/100\n",
      "184/184 [==============================] - 1s 3ms/step - loss: 0.7571 - accuracy: 0.6684 - val_loss: 0.7674 - val_accuracy: 0.6599\n",
      "Epoch 15/100\n",
      "184/184 [==============================] - 1s 3ms/step - loss: 0.7575 - accuracy: 0.6707 - val_loss: 0.7709 - val_accuracy: 0.6660\n",
      "Epoch 16/100\n",
      "184/184 [==============================] - 1s 3ms/step - loss: 0.7550 - accuracy: 0.6670 - val_loss: 0.7581 - val_accuracy: 0.6551\n",
      "Epoch 17/100\n",
      "184/184 [==============================] - 1s 3ms/step - loss: 0.7574 - accuracy: 0.6684 - val_loss: 0.7553 - val_accuracy: 0.6537\n",
      "Epoch 18/100\n",
      "184/184 [==============================] - 1s 3ms/step - loss: 0.7556 - accuracy: 0.6682 - val_loss: 0.7708 - val_accuracy: 0.6748\n",
      "Epoch 19/100\n",
      "184/184 [==============================] - 1s 3ms/step - loss: 0.7516 - accuracy: 0.6757 - val_loss: 0.7540 - val_accuracy: 0.6531\n",
      "Epoch 20/100\n",
      "184/184 [==============================] - 1s 3ms/step - loss: 0.7544 - accuracy: 0.6660 - val_loss: 0.7538 - val_accuracy: 0.6626\n",
      "Epoch 21/100\n",
      "184/184 [==============================] - 1s 3ms/step - loss: 0.7502 - accuracy: 0.6723 - val_loss: 0.7506 - val_accuracy: 0.6565\n",
      "Epoch 22/100\n",
      "184/184 [==============================] - 1s 3ms/step - loss: 0.7500 - accuracy: 0.6713 - val_loss: 0.7539 - val_accuracy: 0.6660\n",
      "Epoch 23/100\n",
      "184/184 [==============================] - 1s 3ms/step - loss: 0.7498 - accuracy: 0.6724 - val_loss: 0.7580 - val_accuracy: 0.6578\n",
      "Epoch 24/100\n",
      "184/184 [==============================] - 1s 3ms/step - loss: 0.7494 - accuracy: 0.6675 - val_loss: 0.7489 - val_accuracy: 0.6653\n",
      "Epoch 25/100\n",
      "184/184 [==============================] - 1s 3ms/step - loss: 0.7496 - accuracy: 0.6694 - val_loss: 0.7540 - val_accuracy: 0.6653\n",
      "Epoch 26/100\n",
      "184/184 [==============================] - 1s 3ms/step - loss: 0.7458 - accuracy: 0.6706 - val_loss: 0.7546 - val_accuracy: 0.6531\n",
      "Epoch 27/100\n",
      "184/184 [==============================] - 1s 3ms/step - loss: 0.7464 - accuracy: 0.6699 - val_loss: 0.7659 - val_accuracy: 0.6776\n",
      "Epoch 28/100\n",
      "184/184 [==============================] - 1s 3ms/step - loss: 0.7451 - accuracy: 0.6721 - val_loss: 0.7549 - val_accuracy: 0.6776\n",
      "Epoch 29/100\n",
      "184/184 [==============================] - 1s 3ms/step - loss: 0.7454 - accuracy: 0.6726 - val_loss: 0.7473 - val_accuracy: 0.6667\n",
      "Epoch 30/100\n",
      "184/184 [==============================] - 1s 3ms/step - loss: 0.7425 - accuracy: 0.6714 - val_loss: 0.7451 - val_accuracy: 0.6646\n",
      "Epoch 31/100\n",
      "184/184 [==============================] - 1s 3ms/step - loss: 0.7422 - accuracy: 0.6757 - val_loss: 0.7460 - val_accuracy: 0.6639\n",
      "Epoch 32/100\n",
      "184/184 [==============================] - 1s 3ms/step - loss: 0.7391 - accuracy: 0.6743 - val_loss: 0.7535 - val_accuracy: 0.6653\n",
      "Epoch 33/100\n",
      "184/184 [==============================] - 1s 3ms/step - loss: 0.7417 - accuracy: 0.6755 - val_loss: 0.7475 - val_accuracy: 0.6673\n",
      "Epoch 34/100\n",
      "184/184 [==============================] - 1s 3ms/step - loss: 0.7399 - accuracy: 0.6716 - val_loss: 0.7480 - val_accuracy: 0.6673\n",
      "Epoch 35/100\n",
      "184/184 [==============================] - 1s 3ms/step - loss: 0.7422 - accuracy: 0.6765 - val_loss: 0.7472 - val_accuracy: 0.6714\n",
      "Epoch 36/100\n",
      "184/184 [==============================] - 1s 3ms/step - loss: 0.7386 - accuracy: 0.6757 - val_loss: 0.7538 - val_accuracy: 0.6769\n",
      "Epoch 37/100\n",
      "184/184 [==============================] - 1s 4ms/step - loss: 0.7382 - accuracy: 0.6709 - val_loss: 0.7431 - val_accuracy: 0.6673\n",
      "Epoch 38/100\n",
      "184/184 [==============================] - 1s 3ms/step - loss: 0.7421 - accuracy: 0.6765 - val_loss: 0.7483 - val_accuracy: 0.6571\n",
      "Epoch 39/100\n",
      "184/184 [==============================] - 1s 3ms/step - loss: 0.7371 - accuracy: 0.6745 - val_loss: 0.7427 - val_accuracy: 0.6660\n",
      "Epoch 40/100\n",
      "184/184 [==============================] - 1s 3ms/step - loss: 0.7370 - accuracy: 0.6752 - val_loss: 0.7484 - val_accuracy: 0.6735\n",
      "Epoch 41/100\n",
      "184/184 [==============================] - 1s 3ms/step - loss: 0.7362 - accuracy: 0.6804 - val_loss: 0.7452 - val_accuracy: 0.6592\n",
      "Epoch 42/100\n",
      "184/184 [==============================] - 1s 3ms/step - loss: 0.7359 - accuracy: 0.6760 - val_loss: 0.7419 - val_accuracy: 0.6687\n",
      "Epoch 43/100\n",
      "184/184 [==============================] - 1s 3ms/step - loss: 0.7360 - accuracy: 0.6764 - val_loss: 0.7379 - val_accuracy: 0.6639\n",
      "Epoch 44/100\n",
      "184/184 [==============================] - 1s 3ms/step - loss: 0.7345 - accuracy: 0.6759 - val_loss: 0.7415 - val_accuracy: 0.6680\n",
      "Epoch 45/100\n",
      "184/184 [==============================] - 1s 3ms/step - loss: 0.7347 - accuracy: 0.6762 - val_loss: 0.7416 - val_accuracy: 0.6687\n",
      "Epoch 46/100\n",
      "184/184 [==============================] - 1s 3ms/step - loss: 0.7334 - accuracy: 0.6784 - val_loss: 0.7483 - val_accuracy: 0.6701\n",
      "Epoch 47/100\n",
      "184/184 [==============================] - 1s 3ms/step - loss: 0.7331 - accuracy: 0.6786 - val_loss: 0.7474 - val_accuracy: 0.6503\n",
      "Epoch 48/100\n",
      "184/184 [==============================] - 1s 3ms/step - loss: 0.7364 - accuracy: 0.6723 - val_loss: 0.7426 - val_accuracy: 0.6667\n",
      "Epoch 49/100\n",
      "184/184 [==============================] - 1s 3ms/step - loss: 0.7340 - accuracy: 0.6730 - val_loss: 0.7389 - val_accuracy: 0.6748\n",
      "Epoch 50/100\n",
      "184/184 [==============================] - 1s 3ms/step - loss: 0.7313 - accuracy: 0.6838 - val_loss: 0.7408 - val_accuracy: 0.6605\n",
      "Epoch 51/100\n",
      "184/184 [==============================] - 1s 3ms/step - loss: 0.7340 - accuracy: 0.6789 - val_loss: 0.7349 - val_accuracy: 0.6646\n",
      "Epoch 52/100\n",
      "184/184 [==============================] - 1s 3ms/step - loss: 0.7333 - accuracy: 0.6777 - val_loss: 0.7381 - val_accuracy: 0.6599\n",
      "Epoch 53/100\n",
      "184/184 [==============================] - 1s 3ms/step - loss: 0.7313 - accuracy: 0.6794 - val_loss: 0.7374 - val_accuracy: 0.6599\n",
      "Epoch 54/100\n",
      "184/184 [==============================] - 1s 3ms/step - loss: 0.7328 - accuracy: 0.6748 - val_loss: 0.7427 - val_accuracy: 0.6707\n",
      "Epoch 55/100\n",
      "184/184 [==============================] - 1s 3ms/step - loss: 0.7325 - accuracy: 0.6777 - val_loss: 0.7369 - val_accuracy: 0.6667\n",
      "Epoch 56/100\n",
      "184/184 [==============================] - 1s 3ms/step - loss: 0.7312 - accuracy: 0.6779 - val_loss: 0.7400 - val_accuracy: 0.6524\n",
      "Epoch 57/100\n",
      "184/184 [==============================] - 1s 3ms/step - loss: 0.7302 - accuracy: 0.6806 - val_loss: 0.7374 - val_accuracy: 0.6694\n",
      "Epoch 58/100\n"
     ]
    },
    {
     "name": "stdout",
     "output_type": "stream",
     "text": [
      "184/184 [==============================] - 1s 3ms/step - loss: 0.7316 - accuracy: 0.6791 - val_loss: 0.7367 - val_accuracy: 0.6633\n",
      "Epoch 59/100\n",
      "184/184 [==============================] - 1s 3ms/step - loss: 0.7285 - accuracy: 0.6784 - val_loss: 0.7367 - val_accuracy: 0.6633\n",
      "Epoch 60/100\n",
      "184/184 [==============================] - 1s 3ms/step - loss: 0.7306 - accuracy: 0.6748 - val_loss: 0.7416 - val_accuracy: 0.6816\n",
      "Epoch 61/100\n",
      "184/184 [==============================] - 1s 3ms/step - loss: 0.7309 - accuracy: 0.6789 - val_loss: 0.7385 - val_accuracy: 0.6619\n",
      "Epoch 62/100\n",
      "184/184 [==============================] - 1s 3ms/step - loss: 0.7281 - accuracy: 0.6782 - val_loss: 0.7405 - val_accuracy: 0.6714\n",
      "Epoch 63/100\n",
      "184/184 [==============================] - 1s 3ms/step - loss: 0.7290 - accuracy: 0.6784 - val_loss: 0.7349 - val_accuracy: 0.6605\n",
      "Epoch 64/100\n",
      "184/184 [==============================] - 1s 3ms/step - loss: 0.7282 - accuracy: 0.6796 - val_loss: 0.7360 - val_accuracy: 0.6667\n",
      "Epoch 65/100\n",
      "184/184 [==============================] - 1s 3ms/step - loss: 0.7304 - accuracy: 0.6750 - val_loss: 0.7367 - val_accuracy: 0.6735\n",
      "Epoch 66/100\n",
      "184/184 [==============================] - 1s 3ms/step - loss: 0.7265 - accuracy: 0.6799 - val_loss: 0.7322 - val_accuracy: 0.6687\n",
      "Epoch 67/100\n",
      "184/184 [==============================] - 1s 3ms/step - loss: 0.7281 - accuracy: 0.6772 - val_loss: 0.7471 - val_accuracy: 0.6714\n",
      "Epoch 68/100\n",
      "184/184 [==============================] - 1s 3ms/step - loss: 0.7311 - accuracy: 0.6787 - val_loss: 0.7367 - val_accuracy: 0.6544\n",
      "Epoch 69/100\n",
      "184/184 [==============================] - 1s 3ms/step - loss: 0.7273 - accuracy: 0.6833 - val_loss: 0.7358 - val_accuracy: 0.6687\n",
      "Epoch 70/100\n",
      "184/184 [==============================] - 1s 3ms/step - loss: 0.7288 - accuracy: 0.6816 - val_loss: 0.7314 - val_accuracy: 0.6694\n",
      "Epoch 71/100\n",
      "184/184 [==============================] - 1s 3ms/step - loss: 0.7273 - accuracy: 0.6769 - val_loss: 0.7357 - val_accuracy: 0.6660\n",
      "Epoch 72/100\n",
      "184/184 [==============================] - 1s 3ms/step - loss: 0.7298 - accuracy: 0.6808 - val_loss: 0.7353 - val_accuracy: 0.6626\n",
      "Epoch 73/100\n",
      "184/184 [==============================] - 1s 3ms/step - loss: 0.7253 - accuracy: 0.6782 - val_loss: 0.7319 - val_accuracy: 0.6646\n",
      "Epoch 74/100\n",
      "184/184 [==============================] - 1s 3ms/step - loss: 0.7248 - accuracy: 0.6801 - val_loss: 0.7406 - val_accuracy: 0.6646\n",
      "Epoch 75/100\n",
      "184/184 [==============================] - 1s 3ms/step - loss: 0.7277 - accuracy: 0.6818 - val_loss: 0.7323 - val_accuracy: 0.6605\n",
      "Epoch 76/100\n",
      "184/184 [==============================] - 1s 3ms/step - loss: 0.7236 - accuracy: 0.6811 - val_loss: 0.7315 - val_accuracy: 0.6735\n",
      "Epoch 77/100\n",
      "184/184 [==============================] - 1s 3ms/step - loss: 0.7256 - accuracy: 0.6781 - val_loss: 0.7291 - val_accuracy: 0.6585\n",
      "Epoch 78/100\n",
      "184/184 [==============================] - 1s 3ms/step - loss: 0.7262 - accuracy: 0.6813 - val_loss: 0.7303 - val_accuracy: 0.6755\n",
      "Epoch 79/100\n",
      "184/184 [==============================] - 1s 3ms/step - loss: 0.7246 - accuracy: 0.6820 - val_loss: 0.7702 - val_accuracy: 0.6333\n",
      "Epoch 80/100\n",
      "184/184 [==============================] - 1s 3ms/step - loss: 0.7262 - accuracy: 0.6787 - val_loss: 0.7423 - val_accuracy: 0.6571\n",
      "Epoch 81/100\n",
      "184/184 [==============================] - 1s 3ms/step - loss: 0.7259 - accuracy: 0.6823 - val_loss: 0.7307 - val_accuracy: 0.6741\n",
      "Epoch 82/100\n",
      "184/184 [==============================] - 1s 3ms/step - loss: 0.7283 - accuracy: 0.6759 - val_loss: 0.7316 - val_accuracy: 0.6769\n",
      "Epoch 83/100\n",
      "184/184 [==============================] - 1s 3ms/step - loss: 0.7241 - accuracy: 0.6804 - val_loss: 0.7291 - val_accuracy: 0.6673\n",
      "Epoch 84/100\n",
      "184/184 [==============================] - 1s 3ms/step - loss: 0.7236 - accuracy: 0.6847 - val_loss: 0.7304 - val_accuracy: 0.6748\n",
      "Epoch 85/100\n",
      "184/184 [==============================] - 1s 3ms/step - loss: 0.7230 - accuracy: 0.6794 - val_loss: 0.7332 - val_accuracy: 0.6605\n",
      "Epoch 86/100\n",
      "184/184 [==============================] - 1s 3ms/step - loss: 0.7243 - accuracy: 0.6796 - val_loss: 0.7306 - val_accuracy: 0.6707\n",
      "Epoch 87/100\n",
      "184/184 [==============================] - 1s 3ms/step - loss: 0.7218 - accuracy: 0.6832 - val_loss: 0.7279 - val_accuracy: 0.6667\n",
      "Epoch 88/100\n",
      "184/184 [==============================] - 1s 3ms/step - loss: 0.7242 - accuracy: 0.6828 - val_loss: 0.7280 - val_accuracy: 0.6680\n",
      "Epoch 89/100\n",
      "184/184 [==============================] - 1s 3ms/step - loss: 0.7230 - accuracy: 0.6813 - val_loss: 0.7274 - val_accuracy: 0.6728\n",
      "Epoch 90/100\n",
      "184/184 [==============================] - 1s 3ms/step - loss: 0.7260 - accuracy: 0.6762 - val_loss: 0.7417 - val_accuracy: 0.6653\n",
      "Epoch 91/100\n",
      "184/184 [==============================] - 1s 3ms/step - loss: 0.7267 - accuracy: 0.6823 - val_loss: 0.7263 - val_accuracy: 0.6626\n",
      "Epoch 92/100\n",
      "184/184 [==============================] - 1s 4ms/step - loss: 0.7222 - accuracy: 0.6801 - val_loss: 0.7281 - val_accuracy: 0.6769\n",
      "Epoch 93/100\n",
      "184/184 [==============================] - 1s 3ms/step - loss: 0.7214 - accuracy: 0.6793 - val_loss: 0.7258 - val_accuracy: 0.6687\n",
      "Epoch 94/100\n",
      "184/184 [==============================] - 1s 3ms/step - loss: 0.7214 - accuracy: 0.6804 - val_loss: 0.7269 - val_accuracy: 0.6762\n",
      "Epoch 95/100\n",
      "184/184 [==============================] - 1s 3ms/step - loss: 0.7219 - accuracy: 0.6810 - val_loss: 0.7272 - val_accuracy: 0.6721\n",
      "Epoch 96/100\n",
      "184/184 [==============================] - 1s 3ms/step - loss: 0.7215 - accuracy: 0.6806 - val_loss: 0.7310 - val_accuracy: 0.6741\n",
      "Epoch 97/100\n",
      "184/184 [==============================] - 1s 3ms/step - loss: 0.7212 - accuracy: 0.6845 - val_loss: 0.7272 - val_accuracy: 0.6687\n",
      "Epoch 98/100\n",
      "184/184 [==============================] - 1s 3ms/step - loss: 0.7213 - accuracy: 0.6857 - val_loss: 0.7264 - val_accuracy: 0.6714\n",
      "Epoch 99/100\n",
      "184/184 [==============================] - 1s 3ms/step - loss: 0.7191 - accuracy: 0.6830 - val_loss: 0.7240 - val_accuracy: 0.6728\n",
      "Epoch 100/100\n",
      "184/184 [==============================] - 1s 3ms/step - loss: 0.7207 - accuracy: 0.6798 - val_loss: 0.7262 - val_accuracy: 0.6687\n"
     ]
    }
   ],
   "source": [
    "history_model_l2 = model_l2.fit(x_train,y_train, epochs=100, batch_size=32, shuffle=True, validation_split=0.2)"
   ]
  },
  {
   "cell_type": "code",
   "execution_count": 66,
   "metadata": {},
   "outputs": [
    {
     "data": {
      "image/png": "[encoded data removed]",
      "text/plain": [
       "<Figure size 640x480 with 1 Axes>"
      ]
     },
     "metadata": {},
     "output_type": "display_data"
    }
   ],
   "source": [
    "#plt.plot(history_mdl.history[\"val_loss\"])\n",
    "plt.plot(history_model.history[\"loss\"])\n",
    "plt.plot(history_mdl.history[\"loss\"])\n",
    "plt.title(\"Model training Loss\")\n",
    "plt.ylabel(\"Loss\")\n",
    "plt.xlabel(\"Epochs\")\n",
    "plt.legend([\"keras un-regularised big model\",\"keras small model\"], loc=\"upper right\")\n",
    "plt.show()"
   ]
  },
  {
   "cell_type": "code",
   "execution_count": 67,
   "metadata": {},
   "outputs": [
    {
     "data": {
      "image/png": "[encoded data removed]",
      "text/plain": [
       "<Figure size 640x480 with 1 Axes>"
      ]
     },
     "metadata": {},
     "output_type": "display_data"
    }
   ],
   "source": [
    "plt.plot(history_model.history[\"loss\"])\n",
    "plt.plot(history_model_l1.history[\"loss\"])\n",
    "plt.plot(history_model_l2.history[\"loss\"])\n",
    "plt.plot(history_mdl.history[\"loss\"])\n",
    "plt.title(\"Model training Loss\")\n",
    "plt.ylabel(\"Loss\")\n",
    "plt.xlabel(\"Epochs\")\n",
    "plt.legend([\"keras big un-regularised\",\"keras big l1\",\"keras big l2\",\"keras small\"], loc=\"upper right\")\n",
    "plt.show()"
   ]
  },
  {
   "cell_type": "markdown",
   "metadata": {},
   "source": [
    "The loss of the regularised models reaches a pleateau at the highest loss value, followed by the small model, with the un-regularised model having the lowest loss and no clear plateau."
   ]
  },
  {
   "cell_type": "code",
   "execution_count": 68,
   "metadata": {},
   "outputs": [
    {
     "data": {
      "image/png": "[encoded data removed]",
      "text/plain": [
       "<Figure size 640x480 with 1 Axes>"
      ]
     },
     "metadata": {},
     "output_type": "display_data"
    }
   ],
   "source": [
    "plt.plot(history_model.history[\"val_loss\"])\n",
    "plt.plot(history_model_l1.history[\"val_loss\"])\n",
    "plt.plot(history_model_l2.history[\"val_loss\"])\n",
    "plt.plot(history_mdl.history[\"val_loss\"])\n",
    "plt.title(\"Model val_loss\")\n",
    "plt.ylabel(\"val_loss\")\n",
    "plt.xlabel(\"Epochs\")\n",
    "plt.legend([\"keras big un-regularised\",\"keras big l1\",\"keras big l2\",\"keras small\"], loc=\"upper right\")\n",
    "plt.show()"
   ]
  },
  {
   "cell_type": "markdown",
   "metadata": {},
   "source": [
    "In terms of val_loss, the regularised models seem to be continuously improving, while the small model plateaus and seems to begin overfitting, with the val_loss eventually slowly rising. In contrast to the falling training loss for the un-regularised model, the un-regularised validation loss reaches a minimum very early and begins to overfit and dramatically rise in value. "
   ]
  },
  {
   "cell_type": "code",
   "execution_count": 69,
   "metadata": {},
   "outputs": [
    {
     "name": "stdout",
     "output_type": "stream",
     "text": [
      "99/99 [==============================] - 0s 2ms/step - loss: 0.6874 - accuracy: 0.6946\n"
     ]
    },
    {
     "data": {
      "text/plain": [
       "[0.687400221824646, 0.6946031451225281]"
      ]
     },
     "execution_count": 69,
     "metadata": {},
     "output_type": "execute_result"
    }
   ],
   "source": [
    "mdl.evaluate(x_test,y_test)#evaluating small keras model"
   ]
  },
  {
   "cell_type": "code",
   "execution_count": 70,
   "metadata": {},
   "outputs": [
    {
     "name": "stdout",
     "output_type": "stream",
     "text": [
      "99/99 [==============================] - 0s 2ms/step - loss: 1.2087 - accuracy: 0.6740\n"
     ]
    },
    {
     "data": {
      "text/plain": [
       "[1.2086703777313232, 0.6739682555198669]"
      ]
     },
     "execution_count": 70,
     "metadata": {},
     "output_type": "execute_result"
    }
   ],
   "source": [
    "model.evaluate(x_test,y_test)#evaluating un-regularised keras model"
   ]
  },
  {
   "cell_type": "code",
   "execution_count": 71,
   "metadata": {},
   "outputs": [
    {
     "name": "stdout",
     "output_type": "stream",
     "text": [
      "99/99 [==============================] - 0s 2ms/step - loss: 0.7291 - accuracy: 0.6889\n"
     ]
    },
    {
     "data": {
      "text/plain": [
       "[0.7291197180747986, 0.6888889074325562]"
      ]
     },
     "execution_count": 71,
     "metadata": {},
     "output_type": "execute_result"
    }
   ],
   "source": [
    "model_l1.evaluate(x_test,y_test)#evaluating l1 keras"
   ]
  },
  {
   "cell_type": "code",
   "execution_count": 72,
   "metadata": {},
   "outputs": [
    {
     "name": "stdout",
     "output_type": "stream",
     "text": [
      "99/99 [==============================] - 0s 2ms/step - loss: 0.7232 - accuracy: 0.6727\n"
     ]
    },
    {
     "data": {
      "text/plain": [
       "[0.7231905460357666, 0.672698438167572]"
      ]
     },
     "execution_count": 72,
     "metadata": {},
     "output_type": "execute_result"
    }
   ],
   "source": [
    "model_l2.evaluate(x_test,y_test)#evaluating l2 keras"
   ]
  },
  {
   "cell_type": "markdown",
   "metadata": {},
   "source": [
    "When evalauted on the testing set the small keras model has the lowest loss and the highest accuracy. The small keras model has the lowest loss as it does not have the addiditonal regularisation term included in the loss function. Therefore, it does not make much sense to compare the regularised and non-regularised loss values and the accuracy becomes the key performance comparison metric. With this in mind then in this case the small keras model performs the best out of the 4 models by having the highest accuracy. "
   ]
  },
  {
   "cell_type": "markdown",
   "metadata": {},
   "source": [
    "Out of the 4 models, the big un-regularised model suffers the most from overtraining and it has the lowest training loss and the highest testing loss. The small keras model also slightly suffers from overtraining as the training loss always goes down but the validation loss eventually begins to go up again. The two regularised models do not suffer from overtraining as their training and validation curves always decrease, with the testing set loss being similar to the the val_loss."
   ]
  },
  {
   "cell_type": "code",
   "execution_count": 73,
   "metadata": {},
   "outputs": [
    {
     "data": {
      "image/png": "[encoded data removed]",
      "text/plain": [
       "<Figure size 640x480 with 1 Axes>"
      ]
     },
     "metadata": {},
     "output_type": "display_data"
    }
   ],
   "source": [
    "plt.plot(history_model.history[\"accuracy\"])\n",
    "plt.plot(history_model_l1.history[\"accuracy\"])\n",
    "plt.plot(history_model_l2.history[\"accuracy\"])\n",
    "plt.plot(history_mdl.history[\"accuracy\"])\n",
    "plt.title(\"Model training accuracy\")\n",
    "plt.ylabel(\"Accuracy\")\n",
    "plt.xlabel(\"Epochs\")\n",
    "plt.legend([\"keras big un-regularised\",\"keras big l1\",\"keras big l2\",\"keras small\"], loc=\"upper right\")\n",
    "plt.show()"
   ]
  },
  {
   "cell_type": "code",
   "execution_count": 74,
   "metadata": {},
   "outputs": [
    {
     "data": {
      "image/png": "[encoded data removed]",
      "text/plain": [
       "<Figure size 640x480 with 1 Axes>"
      ]
     },
     "metadata": {},
     "output_type": "display_data"
    }
   ],
   "source": [
    "plt.plot(history_model.history[\"val_accuracy\"])\n",
    "plt.plot(history_model_l1.history[\"val_accuracy\"])\n",
    "plt.plot(history_model_l2.history[\"val_accuracy\"])\n",
    "plt.plot(history_mdl.history[\"val_accuracy\"])\n",
    "plt.title(\"Model val_accuracy\")\n",
    "plt.ylabel(\"val_ccuracy\")\n",
    "plt.xlabel(\"Epochs\")\n",
    "plt.legend([\"keras big un-regularised\",\"keras big l1\",\"keras big l2\",\"keras small\"], loc=\"upper right\")\n",
    "plt.show()"
   ]
  },
  {
   "cell_type": "markdown",
   "metadata": {},
   "source": [
    "The model training accuracy grows the fastest for the un-regularised keras model, followed by the small keras model, with the two regularised models plateauing the earliest."
   ]
  },
  {
   "cell_type": "markdown",
   "metadata": {},
   "source": [
    "In terms of the validation accuracy: The highest val-accuracy reached at any point is by the un-regularised big keras model, which would have had the best accuracy if the model weights were saved at that point. However, with further training the val_accuracy of the un-regularised model followed a downward trend. At the end of 100 epochs the small keras model had the highest val_accuracy which only increased with number of epochs. Both of the regularised models showed a slow but continously increasing val_accuracy with further training."
   ]
  },
  {
   "cell_type": "code",
   "execution_count": null,
   "metadata": {},
   "outputs": [],
   "source": []
  },
  {
   "cell_type": "code",
   "execution_count": null,
   "metadata": {},
   "outputs": [],
   "source": []
  }
 ],
 "metadata": {
  "kernelspec": {
   "display_name": "Python 3 (ipykernel)",
   "language": "python",
   "name": "python3"
  },
  "language_info": {
   "codemirror_mode": {
    "name": "ipython",
    "version": 3
   },
   "file_extension": ".py",
   "mimetype": "text/x-python",
   "name": "python",
   "nbconvert_exporter": "python",
   "pygments_lexer": "ipython3",
   "version": "3.9.13"
  }
 },
 "nbformat": 4,
 "nbformat_minor": 2
}
