{
 "cells": [
  {
   "cell_type": "code",
   "execution_count": 1,
   "id": "c2decc5c",
   "metadata": {},
   "outputs": [],
   "source": [
    "#Making the necessary imports\n",
    "import os\n",
    "import numpy as np\n",
    "from numpy import matrix\n",
    "import scipy.optimize as theMinimiser\n",
    "from iminuit import Minuit\n",
    "import math\n",
    "import matplotlib.pyplot as plt\n",
    "import scipy\n",
    "import scipy.integrate as integrate\n",
    "from scipy.stats import norm\n",
    "from scipy.special import erfinv\n",
    "\n",
    "%matplotlib inline"
   ]
  },
  {
   "cell_type": "markdown",
   "id": "dd0ad2fc",
   "metadata": {},
   "source": [
    "## Problem 1 (3 points):"
   ]
  },
  {
   "cell_type": "code",
   "execution_count": 2,
   "id": "b3460c51",
   "metadata": {},
   "outputs": [],
   "source": [
    "# background parameters\n",
    "XMIN = 0.\n",
    "XMAX = 20.\n",
    "intercept = 20.\n",
    "slope = -1.\n",
    "# signal parameters\n",
    "mean = 10.\n",
    "sigma = 0.5\n",
    "# chose number of bins that is appropriate for the size of the statistics sample\n",
    "NBINS = 100"
   ]
  },
  {
   "cell_type": "markdown",
   "id": "19111187",
   "metadata": {},
   "source": [
    "### Creating the background and signal classes"
   ]
  },
  {
   "cell_type": "code",
   "execution_count": 3,
   "id": "ea9bae9b",
   "metadata": {},
   "outputs": [],
   "source": [
    "class Linear:\n",
    "    def __init__(self, intercept, slope, XMIN, XMAX):\n",
    "        self.mass = []\n",
    "\n",
    "        self.intercept = intercept\n",
    "        self.slope = slope\n",
    "        self.lolimit = XMIN\n",
    "        self.hilimit = XMAX\n",
    "        \n",
    "    def maxval(self):\n",
    "        return self.intercept \n",
    "        \n",
    "    # Evaluate method (un - normalised )\n",
    "    def evaluate(self, x):\n",
    "        linear_dist = self.intercept + (self.slope * x)\n",
    "        return linear_dist\n",
    "    \n",
    "\n",
    "    def next(self):\n",
    "        doLoop = True\n",
    "        while (doLoop):\n",
    "        # start with uniform random number in [ lolimit , hilimit )\n",
    "            x = np.random.uniform(self.lolimit, self.hilimit)\n",
    "            y1 = self.evaluate(x)\n",
    "            y2 = np.random.uniform(0, self.maxval())\n",
    "            #print(self.maxval())\n",
    "            if (y2 < y1):\n",
    "                filtered_x = x\n",
    "                self.mass.append(filtered_x)\n",
    "                return filtered_x   \n",
    "            \n",
    "            "
   ]
  },
  {
   "cell_type": "code",
   "execution_count": 4,
   "id": "31ba025f",
   "metadata": {},
   "outputs": [],
   "source": [
    "class Gaussian:\n",
    "    def __init__(self, mean, sigma):\n",
    "        self.mass = []\n",
    "        \n",
    "        self.mean = mean\n",
    "        self.sigma = sigma\n",
    "        \n",
    "    def next(self):\n",
    "        gaussian_dist = np.random.normal(self.mean,self.sigma)\n",
    "        self.mass.append(gaussian_dist)\n",
    "        return gaussian_dist\n",
    "    \n",
    "    def integrate(self,lower_lim,upper_lim) :\n",
    "        gaussian = lambda x: (1/(self.sigma*np.sqrt(2*math.pi)))*np.exp((-1/2)*((x-self.mean)/self.sigma)**2)\n",
    "        integral, _ = integrate.quad(gaussian,lower_lim,upper_lim)\n",
    "        return integral"
   ]
  },
  {
   "cell_type": "markdown",
   "id": "9a80025f",
   "metadata": {},
   "source": [
    "### Creating class to sum the background and signal distributions,  weighted by the fractions of background and signal events"
   ]
  },
  {
   "cell_type": "code",
   "execution_count": 5,
   "id": "bf953c36",
   "metadata": {},
   "outputs": [],
   "source": [
    "class SignalWithBackground:\n",
    "    def __init__(self, mean, sigma, sig_fraction, intercept, slope, XMIN, XMAX):\n",
    "        self.mean = mean\n",
    "        self.sigma = sigma\n",
    "        self.sig_fraction = sig_fraction\n",
    "        self.intercept = intercept\n",
    "        self.slope = slope\n",
    "        self.XMIN = XMIN\n",
    "        self.XMAX = XMAX\n",
    "        self.signal = Gaussian(mean,sigma)\n",
    "        self.background = Linear(intercept, slope, XMIN, XMAX)\n",
    "        self.mass_sig = []\n",
    "        self.mass_bgd = []\n",
    "        self.mass = [] \n",
    "    \n",
    "    # Draw random number from distribution\n",
    "    def next(self):\n",
    "        q = np.random.uniform()\n",
    "        if(q < self.sig_fraction):\n",
    "            # if here , we will draw x from signal distribution\n",
    "            filtered_x = self.signal.next()\n",
    "            self.mass_sig.append(filtered_x)\n",
    "        else:\n",
    "            # if here , we will draw x from background distribuion\n",
    "            filtered_x = self.background.next()\n",
    "            self.mass_bgd.append(filtered_x)\n",
    "        self.mass.append(filtered_x)\n",
    "        return filtered_x"
   ]
  },
  {
   "cell_type": "markdown",
   "id": "af5cb92d",
   "metadata": {},
   "source": [
    "### Creating function to plot the distributions"
   ]
  },
  {
   "cell_type": "code",
   "execution_count": 6,
   "id": "e083168f",
   "metadata": {},
   "outputs": [],
   "source": [
    "# Main code to generate and plot a single experiment\n",
    "def singleToy(nevents_sig, nevents_bgd):\n",
    "    sig_fraction = nevents_sig/(nevents_bgd+nevents_sig)\n",
    "    \n",
    "    # Create the pdf\n",
    "    pdf = SignalWithBackground(mean, sigma, sig_fraction, intercept, slope, XMIN, XMAX)\n",
    "    for i in range (nevents_sig + nevents_bgd): pdf.next()\n",
    "        \n",
    "    # retrieve the mass values for signal, background and their sum\n",
    "    data = pdf.mass\n",
    "    sig_data = pdf.mass_sig\n",
    "    bgd_data = pdf.mass_bgd\n",
    "    \n",
    "    # plot things on same page\n",
    "    myRange = (XMIN, XMAX)\n",
    "    fig, axs = plt.subplots(3, 1, sharex =\"col\" ,figsize=(5,10))\n",
    "    axs[0].set_title(\"Signal distribution (\" + str(len(sig_data)) + \" entries)\")\n",
    "    axs[1].set_title(\"Background distribution (\" + str(len(bgd_data)) + \" entries)\")\n",
    "    axs[2].set_title(\"Total distribution (\" + str(len(data)) + \" entries)\")\n",
    "    axs[2].set_xlabel(\"X\")\n",
    "    axs[0].hist(sig_data, bins=NBINS, range=myRange)\n",
    "    axs[1].hist(bgd_data, bins=NBINS)\n",
    "    axs[2].hist(data, bins=NBINS)\n",
    "    fig.tight_layout()\n",
    "    plt.savefig(\"Signal, background and combined distributions.pdf\")"
   ]
  },
  {
   "cell_type": "code",
   "execution_count": 7,
   "id": "99b81616",
   "metadata": {},
   "outputs": [
    {
     "data": {
      "image/png": "[encoded data removed]",
      "text/plain": [
       "<Figure size 500x1000 with 3 Axes>"
      ]
     },
     "metadata": {},
     "output_type": "display_data"
    }
   ],
   "source": [
    "singleToy(nevents_sig=300, nevents_bgd=10000)"
   ]
  },
  {
   "cell_type": "markdown",
   "id": "8098feff",
   "metadata": {},
   "source": [
    "## Problem 2 (1 point):"
   ]
  },
  {
   "cell_type": "markdown",
   "id": "bcb70b40",
   "metadata": {},
   "source": [
    "The p-value corresponds to the probability of obtaining test results that are at least as extreme as the results that have been observed. "
   ]
  },
  {
   "cell_type": "code",
   "execution_count": 8,
   "id": "fc20bda2",
   "metadata": {},
   "outputs": [],
   "source": [
    "mean = 10000\n",
    "sigma = 100"
   ]
  },
  {
   "cell_type": "code",
   "execution_count": 9,
   "id": "c659f074",
   "metadata": {},
   "outputs": [],
   "source": [
    "area_of_observation = Gaussian(mean,sigma).integrate(10300,(10000+(10*sigma))) # this is normalised to is technically \n",
    "                                                                               # already the p-value\n",
    "total_area = Gaussian(mean,sigma).integrate((10000-(10*sigma)),(10000+(10*sigma)))"
   ]
  },
  {
   "cell_type": "code",
   "execution_count": 10,
   "id": "6040e37b",
   "metadata": {},
   "outputs": [
    {
     "name": "stdout",
     "output_type": "stream",
     "text": [
      "The p-value is:  0.0013498980316301115\n"
     ]
    }
   ],
   "source": [
    "pvalue = area_of_observation/total_area\n",
    "print(\"The p-value is: \",pvalue)"
   ]
  },
  {
   "cell_type": "code",
   "execution_count": 11,
   "id": "44d1f6fe",
   "metadata": {
    "scrolled": true
   },
   "outputs": [
    {
     "name": "stdout",
     "output_type": "stream",
     "text": [
      "The Z-score is:  3.2051549205989076\n"
     ]
    }
   ],
   "source": [
    "# Calcualting the Z-score\n",
    "n_sigmas = erfinv(1-pvalue)*np.sqrt(2)\n",
    "print(\"The Z-score is: \",n_sigmas)"
   ]
  },
  {
   "cell_type": "markdown",
   "id": "6f9cc095",
   "metadata": {},
   "source": [
    "## Problem 3 (1 point):"
   ]
  },
  {
   "cell_type": "markdown",
   "id": "bf6559d7",
   "metadata": {},
   "source": [
    "Confirming the total number of background events between 5<x<15 is 50% of the total"
   ]
  },
  {
   "cell_type": "code",
   "execution_count": 12,
   "id": "3d48da6b",
   "metadata": {},
   "outputs": [],
   "source": [
    "pdf = SignalWithBackground(mean, sigma, 0, intercept, slope, XMIN, XMAX)\n",
    "for i in range (10000): pdf.next()\n",
    "bgd_data = np.array(pdf.mass_bgd)"
   ]
  },
  {
   "cell_type": "code",
   "execution_count": 13,
   "id": "53fed5b6",
   "metadata": {},
   "outputs": [],
   "source": [
    "number_in_subregion = np.where((bgd_data<15) & (bgd_data>5))[0].shape[0]\n",
    "total_number_background = bgd_data.size\n",
    "fraction = number_in_subregion/total_number_background"
   ]
  },
  {
   "cell_type": "code",
   "execution_count": 14,
   "id": "ebca87ac",
   "metadata": {},
   "outputs": [
    {
     "name": "stdout",
     "output_type": "stream",
     "text": [
      "Fraction of background events in the sub-region 5<x<15 is:  0.5017\n"
     ]
    }
   ],
   "source": [
    "print(\"Fraction of background events in the sub-region 5<x<15 is: \",fraction)"
   ]
  },
  {
   "cell_type": "markdown",
   "id": "5eb5a615",
   "metadata": {},
   "source": [
    "We expect this fraction to be 50% as the distribution is linear between 0 and 20, but the spread fluctuates and the fraction is slightly different at each generation of the pdf, with it averaging to 50% over many initialisations of the distribution."
   ]
  },
  {
   "cell_type": "code",
   "execution_count": 15,
   "id": "ea4539c7",
   "metadata": {},
   "outputs": [],
   "source": [
    "mean = 5000\n",
    "sigma = np.sqrt(5000)"
   ]
  },
  {
   "cell_type": "code",
   "execution_count": 16,
   "id": "1c7ca7b9",
   "metadata": {},
   "outputs": [],
   "source": [
    "area_of_observation = Gaussian(mean,sigma).integrate(5300,(5000+(10*sigma))) # this is normalised to is technically \n",
    "                                                                               # already the p-value\n",
    "total_area = Gaussian(mean,sigma).integrate((5000-(10*sigma)),(5000+(10*sigma)))"
   ]
  },
  {
   "cell_type": "code",
   "execution_count": 17,
   "id": "de50f431",
   "metadata": {},
   "outputs": [
    {
     "name": "stdout",
     "output_type": "stream",
     "text": [
      "The p-value is:  1.1045248499292971e-05\n"
     ]
    }
   ],
   "source": [
    "pvalue = area_of_observation/total_area\n",
    "print(\"The p-value is: \",pvalue)"
   ]
  },
  {
   "cell_type": "code",
   "execution_count": 18,
   "id": "0011fc32",
   "metadata": {
    "scrolled": true
   },
   "outputs": [
    {
     "name": "stdout",
     "output_type": "stream",
     "text": [
      "The Z-score is:  4.3956289210855894\n"
     ]
    }
   ],
   "source": [
    "# Calcualting the Z-score\n",
    "n_sigmas = erfinv(1-pvalue)*np.sqrt(2)\n",
    "print(\"The Z-score is: \",n_sigmas)"
   ]
  },
  {
   "cell_type": "markdown",
   "id": "43f99860",
   "metadata": {},
   "source": [
    "Why did the number of standard deviations (Z-score) increase after we filtered the background?:"
   ]
  },
  {
   "cell_type": "markdown",
   "id": "69d81d1d",
   "metadata": {},
   "source": [
    "The deviation is a lot more significant now as the fraction of events that are observed above the expected number is now a larger portion of the expected number of events. This is because we filtered down the number of background events while the number of signal events was kept the same.\n",
    "\n",
    "This results in the number of observed events to deviate more extremely from the expected number of background events (in our case the deviation is more than 4 standard deviations away from the average results that would be expected if there was no signal). This significantly increases the likelihood of the alternate hypothesis of a signal being present which does not conform to the background distribution."
   ]
  },
  {
   "cell_type": "markdown",
   "id": "e247b39e",
   "metadata": {},
   "source": [
    "## Problem 4 (5 points):"
   ]
  },
  {
   "cell_type": "markdown",
   "id": "55dbba25",
   "metadata": {},
   "source": [
    "### Resetting the parameters"
   ]
  },
  {
   "cell_type": "code",
   "execution_count": 19,
   "id": "b3afc826",
   "metadata": {},
   "outputs": [],
   "source": [
    "# background parameters\n",
    "XMIN = 0.\n",
    "XMAX = 20.\n",
    "intercept = 20.\n",
    "slope = -1.\n",
    "# signal parameters\n",
    "mean = 10.\n",
    "sigma = 0.5\n",
    "# chose number of bins that is appropriate for the size of the statistics sample\n",
    "NBINS = 100"
   ]
  },
  {
   "cell_type": "code",
   "execution_count": 20,
   "id": "b341627a",
   "metadata": {},
   "outputs": [],
   "source": [
    "# Using the new signal count\n",
    "nevents_sig = 150\n",
    "nevents_bgd = 10000"
   ]
  },
  {
   "cell_type": "markdown",
   "id": "bbe27d8f",
   "metadata": {},
   "source": [
    "### Plotting the new distributions"
   ]
  },
  {
   "cell_type": "code",
   "execution_count": 21,
   "id": "06873d2f",
   "metadata": {},
   "outputs": [
    {
     "data": {
      "image/png": "[encoded data removed]",
      "text/plain": [
       "<Figure size 500x1000 with 3 Axes>"
      ]
     },
     "metadata": {},
     "output_type": "display_data"
    }
   ],
   "source": [
    "# Plotting the distributions again\n",
    "singleToy(nevents_sig=nevents_sig, nevents_bgd=nevents_bgd)"
   ]
  },
  {
   "cell_type": "markdown",
   "id": "96d01bd2",
   "metadata": {},
   "source": [
    "### Generating the updated datasets"
   ]
  },
  {
   "cell_type": "code",
   "execution_count": 22,
   "id": "c4b95e9b",
   "metadata": {},
   "outputs": [],
   "source": [
    "nevents_sig = 150\n",
    "nevents_bgd = 10000\n",
    "\n",
    "sig_fraction = nevents_sig/(nevents_bgd+nevents_sig)\n",
    "    \n",
    "# Create the pdf\n",
    "pdf = SignalWithBackground(mean, sigma, sig_fraction, intercept, slope, XMIN, XMAX)\n",
    "for i in range (nevents_sig + nevents_bgd): pdf.next()\n",
    "data = pdf.mass\n",
    "sig_data = pdf.mass_sig\n",
    "bgd_data = pdf.mass_bgd"
   ]
  },
  {
   "cell_type": "markdown",
   "id": "d542bc71",
   "metadata": {},
   "source": [
    "### Defining the probability density functions"
   ]
  },
  {
   "cell_type": "code",
   "execution_count": 23,
   "id": "8cb70683",
   "metadata": {},
   "outputs": [],
   "source": [
    "# Generate the normalised exponential PDF\n",
    "def Linear_PDF(x,intercept,slope,x_low,x_high):\n",
    "    linear_dist = lambda x: intercept + slope*(x)\n",
    "    area, _ = integrate.quad(linear_dist,x_low,x_high) # Calculate the normalisation constant\n",
    "    return (1/area)*(intercept + slope*(x))  # Return the normalised exponential PDF"
   ]
  },
  {
   "cell_type": "code",
   "execution_count": 24,
   "id": "18260402",
   "metadata": {},
   "outputs": [],
   "source": [
    "def gauss_PDF(x):\n",
    "    return scipy.stats.norm.pdf(x,mean,sigma)"
   ]
  },
  {
   "cell_type": "code",
   "execution_count": 25,
   "id": "5ee751ea",
   "metadata": {},
   "outputs": [],
   "source": [
    "def combined_PDF(x,intercept,slope,F,x_low,x_high):\n",
    "    PDF1 = Linear_PDF(x,intercept,slope,x_low,x_high)\n",
    "    PDF2 = gauss_PDF(x)\n",
    "    \n",
    "    return ((1-F) * PDF1) + (F * PDF2)"
   ]
  },
  {
   "cell_type": "code",
   "execution_count": 26,
   "id": "3c5b85db",
   "metadata": {},
   "outputs": [],
   "source": [
    "bin_width = XMAX/NBINS"
   ]
  },
  {
   "cell_type": "markdown",
   "id": "2cba1fab",
   "metadata": {},
   "source": [
    "### Fitting assuming no signal"
   ]
  },
  {
   "cell_type": "code",
   "execution_count": 40,
   "id": "586a6f5d",
   "metadata": {},
   "outputs": [
    {
     "data": {
      "text/plain": [
       "10150"
      ]
     },
     "execution_count": 40,
     "metadata": {},
     "output_type": "execute_result"
    }
   ],
   "source": [
    "(np.histogram(data,bins = np.linspace(0,20,101))[0]).sum()"
   ]
  },
  {
   "cell_type": "code",
   "execution_count": 42,
   "id": "b50dad39",
   "metadata": {},
   "outputs": [
    {
     "data": {
      "text/plain": [
       "10149.999999999998"
      ]
     },
     "execution_count": 42,
     "metadata": {},
     "output_type": "execute_result"
    }
   ],
   "source": [
    "(nevents_bgd+nevents_sig)*bin_width*Linear_PDF(np.linspace(0.1,19.9,100),intercept,slope,XMIN,XMAX).sum()"
   ]
  },
  {
   "cell_type": "code",
   "execution_count": 27,
   "id": "2e5b952f",
   "metadata": {},
   "outputs": [],
   "source": [
    "#create a function for the chi squared linear fit\n",
    "def chisq_linear(slope,intercept):\n",
    "    n_observed = np.histogram(data,bins = np.linspace(0,20,101))[0]\n",
    "    n_expected = (nevents_bgd+nevents_sig)*bin_width*Linear_PDF(np.linspace(0.1,19.9,100),intercept,slope,XMIN,XMAX)\n",
    "    chi_sq_sum = 0\n",
    "    for i in range(0,NBINS):\n",
    "        if n_expected[i] < 0:\n",
    "            n_expected[i] = 1e-3\n",
    "        chi_sq_sum += (n_expected[i]-n_observed[i])+(n_observed[i]*np.log(n_observed[i]/n_expected[i]))\n",
    "    chi_sq = 2*chi_sq_sum\n",
    "    return chi_sq"
   ]
  },
  {
   "cell_type": "code",
   "execution_count": 28,
   "id": "01104132",
   "metadata": {},
   "outputs": [],
   "source": [
    "# Setting the range of our mass data for use in normalisation\n",
    "x_low = 0 \n",
    "x_high = 20.\n",
    "\n",
    "# Set the minimisation parameters\n",
    "m = Minuit(chisq_linear, intercept=19, slope=-1.1)\n",
    "m.limits[\"intercept\"] = (15,25) \n",
    "m.limits[\"slope\"] = (-1.5,-0.5)\n",
    "\n",
    "# Set the errors on the initial start values\n",
    "m.errors=[0.1,0.1]\n",
    "\n",
    "# Set the increase in Chi squared for the 1-SD error calculation\n",
    "m.errordef=1.0\n",
    "\n",
    "# Run the minimisation\n",
    "m = m.migrad()"
   ]
  },
  {
   "cell_type": "code",
   "execution_count": 29,
   "id": "4fd5ff86",
   "metadata": {},
   "outputs": [
    {
     "name": "stdout",
     "output_type": "stream",
     "text": [
      "intercept =   20.3489  +/-  0.3937\n",
      "\n",
      "\n",
      "slope =   -1.0197  +/-  0.0197\n"
     ]
    }
   ],
   "source": [
    "# Printing the final results and their error\n",
    "fstr = \"{0:2.4f}\"\n",
    "val = m.values[\"intercept\",\"slope\"]\n",
    "err = m.errors[\"intercept\",\"slope\"]\n",
    "print(\"{:2s}\".format(\"intercept\"), \"=  \", fstr.format(val[0]), \" +/- \", fstr.format(err[0]))\n",
    "print(\"\\n\")\n",
    "print(\"{:2s}\".format(\"slope\"), \"=  \", fstr.format(val[1]), \" +/- \", fstr.format(err[1]))"
   ]
  },
  {
   "cell_type": "code",
   "execution_count": 30,
   "id": "1db75c3c",
   "metadata": {},
   "outputs": [
    {
     "name": "stdout",
     "output_type": "stream",
     "text": [
      "Actual intercept: 20.0\n",
      "Actual slope: -1.0\n"
     ]
    }
   ],
   "source": [
    "print(\"Actual intercept:\", intercept)\n",
    "print(\"Actual slope:\", slope)"
   ]
  },
  {
   "cell_type": "markdown",
   "id": "b2374f6d",
   "metadata": {},
   "source": [
    "All of the fitted values are correct to within the error margin, showing that a good fit was made"
   ]
  },
  {
   "cell_type": "code",
   "execution_count": 31,
   "id": "d5bed42b",
   "metadata": {},
   "outputs": [],
   "source": [
    "# Collecting the final fit values\n",
    "h0_fit_values = m.values[\"intercept\",\"slope\"]"
   ]
  },
  {
   "cell_type": "markdown",
   "id": "d1a02973",
   "metadata": {},
   "source": [
    "### Fitting assuming a gaussian signal"
   ]
  },
  {
   "cell_type": "code",
   "execution_count": 32,
   "id": "b14405d4",
   "metadata": {},
   "outputs": [],
   "source": [
    "# Create function for chi squared combined fit\n",
    "def chisq_combined(slope,intercept,F):\n",
    "    n_observed = np.histogram(data,bins = np.linspace(0,20,101))[0]\n",
    "    n_expected = (nevents_bgd+nevents_sig)*bin_width*combined_PDF(np.linspace(0.1,19.9,100),intercept,slope,F,XMIN,XMAX)\n",
    "    chi_sq_sum = 0\n",
    "    for i in range(0,NBINS):\n",
    "        if n_expected[i] <= 0:\n",
    "            n_expected[i] = 1e-3\n",
    "        chi_sq_sum += (n_expected[i]-n_observed[i])+(n_observed[i]*np.log(n_observed[i]/n_expected[i]))\n",
    "    chi_sq = 2*chi_sq_sum\n",
    "    return chi_sq"
   ]
  },
  {
   "cell_type": "code",
   "execution_count": 33,
   "id": "dd3b4ac5",
   "metadata": {},
   "outputs": [],
   "source": [
    "# Setting the range of our mass data for use in normalisation\n",
    "x_low = 0 \n",
    "x_high = 20.\n",
    "\n",
    "# Set the minimisation parameters\n",
    "m = Minuit(chisq_combined, intercept=19, slope=-1.1,F=0.01)\n",
    "m.limits[\"intercept\"] = (15,25) \n",
    "m.limits[\"slope\"] = (-1.5,-0.5)\n",
    "m.limits[\"F\"] = (0.0,0.1)\n",
    "\n",
    "# Set the errors on the initial start values\n",
    "m.errors=[0.1,0.1,0.1]\n",
    "\n",
    "# Set the increase in Chi squared for the 1-SD error calculation\n",
    "m.errordef=1.0\n",
    "\n",
    "# Run the minimisation\n",
    "m = m.migrad()"
   ]
  },
  {
   "cell_type": "code",
   "execution_count": 34,
   "id": "4a2654e1",
   "metadata": {
    "scrolled": true
   },
   "outputs": [
    {
     "name": "stdout",
     "output_type": "stream",
     "text": [
      "intercept =   20.4529  +/-  1.4304\n",
      "\n",
      "\n",
      "slope =   -1.0160  +/-  0.0718\n",
      "\n",
      "\n",
      "signal fraction =   0.0159  +/-  0.0033\n"
     ]
    }
   ],
   "source": [
    "# Printing the final results and their error\n",
    "fstr = \"{0:2.4f}\"\n",
    "val = m.values[\"intercept\",\"slope\",\"F\"]\n",
    "err = m.errors[\"intercept\",\"slope\",\"F\"]\n",
    "print(\"{:2s}\".format(\"intercept\"), \"=  \", fstr.format(val[0]), \" +/- \", fstr.format(err[0]))\n",
    "print(\"\\n\")\n",
    "print(\"{:2s}\".format(\"slope\"), \"=  \", fstr.format(val[1]), \" +/- \", fstr.format(err[1]))\n",
    "print(\"\\n\")\n",
    "print(\"{:2s}\".format(\"signal fraction\"), \"=  \", fstr.format(val[2]), \" +/- \", fstr.format(err[2]))"
   ]
  },
  {
   "cell_type": "code",
   "execution_count": 35,
   "id": "8d75c581",
   "metadata": {
    "scrolled": true
   },
   "outputs": [
    {
     "name": "stdout",
     "output_type": "stream",
     "text": [
      "Actual intercept: 20.0\n",
      "Actual slope: -1.0\n",
      "Actual signal fraction: 0.013694581280788177\n"
     ]
    }
   ],
   "source": [
    "print(\"Actual intercept:\", intercept)\n",
    "print(\"Actual slope:\", slope)\n",
    "print(\"Actual signal fraction:\", (len(sig_data)/(len(sig_data)+len(bgd_data))))"
   ]
  },
  {
   "cell_type": "markdown",
   "id": "e7f7b01b",
   "metadata": {},
   "source": [
    "All of the fitted values are correct to within the error margin, showing that a good fit was made"
   ]
  },
  {
   "cell_type": "code",
   "execution_count": 36,
   "id": "b3dfb35a",
   "metadata": {},
   "outputs": [],
   "source": [
    "# Collecting the final fit values\n",
    "h1_fit_values = m.values[\"intercept\",\"slope\",\"F\"]"
   ]
  },
  {
   "cell_type": "markdown",
   "id": "ce48c7ce",
   "metadata": {},
   "source": [
    "### Calculating the chi-squared difference between the two hypotheses"
   ]
  },
  {
   "cell_type": "code",
   "execution_count": 37,
   "id": "36d5799b",
   "metadata": {},
   "outputs": [],
   "source": [
    "# Using the combined \"nested\" hypothesis to determine chi-squared for h0 and h1\n",
    "h0_chi_squared = chisq_combined(intercept=h0_fit_values[0], slope=h0_fit_values[1], F=0)\n",
    "h1_chi_squared = chisq_combined(intercept=h1_fit_values[0], slope=h1_fit_values[1], F=h1_fit_values[2])"
   ]
  },
  {
   "cell_type": "code",
   "execution_count": 38,
   "id": "bf35ba92",
   "metadata": {},
   "outputs": [
    {
     "name": "stdout",
     "output_type": "stream",
     "text": [
      "Chi-squared for h0:  114.91716261389219\n"
     ]
    }
   ],
   "source": [
    "print(\"Chi-squared for h0: \",h0_chi_squared)"
   ]
  },
  {
   "cell_type": "code",
   "execution_count": 39,
   "id": "59693436",
   "metadata": {},
   "outputs": [
    {
     "name": "stdout",
     "output_type": "stream",
     "text": [
      "Chi-squared for h1:  89.57851539337628\n"
     ]
    }
   ],
   "source": [
    "print(\"Chi-squared for h1: \",h1_chi_squared)"
   ]
  },
  {
   "cell_type": "code",
   "execution_count": 40,
   "id": "9499c323",
   "metadata": {},
   "outputs": [
    {
     "name": "stdout",
     "output_type": "stream",
     "text": [
      "Chi-squared difference between the two hypotheses:  25.33864722051591\n"
     ]
    }
   ],
   "source": [
    "chi_squared_diff = h0_chi_squared - h1_chi_squared\n",
    "print(\"Chi-squared difference between the two hypotheses: \",chi_squared_diff)"
   ]
  },
  {
   "cell_type": "markdown",
   "id": "957f619d",
   "metadata": {},
   "source": [
    "### Finding the p-value"
   ]
  },
  {
   "cell_type": "code",
   "execution_count": 41,
   "id": "d1c2836b",
   "metadata": {},
   "outputs": [
    {
     "name": "stdout",
     "output_type": "stream",
     "text": [
      "The p-value is:  4.809748138656644e-07\n"
     ]
    }
   ],
   "source": [
    "pvalue = 1 - scipy.stats.chi2.cdf(chi_squared_diff,1) \n",
    "print(\"The p-value is: \",pvalue)"
   ]
  },
  {
   "cell_type": "markdown",
   "id": "1dde68ce",
   "metadata": {},
   "source": [
    "### Finding the Z-score"
   ]
  },
  {
   "cell_type": "code",
   "execution_count": 42,
   "id": "32febf63",
   "metadata": {},
   "outputs": [
    {
     "name": "stdout",
     "output_type": "stream",
     "text": [
      "The Z-score is:  5.033750810370506\n"
     ]
    }
   ],
   "source": [
    "n_sigmas = erfinv(1 - pvalue )* np.sqrt(2)\n",
    "print(\"The Z-score is: \",n_sigmas)"
   ]
  },
  {
   "cell_type": "markdown",
   "id": "5a115d77",
   "metadata": {},
   "source": [
    "These results show that for this signal to be a fluctuation, this fluction would occur over 4 standard deviations away from the average results that would be expected if there was no signal. This means the hypothesis that there is a signal is strongly favoured as such a fluctuation is highly improbable."
   ]
  },
  {
   "cell_type": "code",
   "execution_count": null,
   "id": "641f5646",
   "metadata": {},
   "outputs": [],
   "source": []
  }
 ],
 "metadata": {
  "kernelspec": {
   "display_name": "Python 3 (ipykernel)",
   "language": "python",
   "name": "python3"
  },
  "language_info": {
   "codemirror_mode": {
    "name": "ipython",
    "version": 3
   },
   "file_extension": ".py",
   "mimetype": "text/x-python",
   "name": "python",
   "nbconvert_exporter": "python",
   "pygments_lexer": "ipython3",
   "version": "3.9.13"
  }
 },
 "nbformat": 4,
 "nbformat_minor": 5
}
