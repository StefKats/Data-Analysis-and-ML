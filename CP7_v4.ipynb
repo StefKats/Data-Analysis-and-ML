{
 "cells": [
  {
   "cell_type": "code",
   "execution_count": 1,
   "id": "ad9d8e3f",
   "metadata": {},
   "outputs": [],
   "source": [
    "#Making the necessary imports\n",
    "import os\n",
    "import numpy as np\n",
    "from numpy import matrix\n",
    "import scipy.optimize as theMinimiser\n",
    "from iminuit import Minuit\n",
    "import math\n",
    "import matplotlib.pyplot as plt\n",
    "import scipy\n",
    "import scipy.integrate as integrate\n",
    "from scipy.stats import norm\n",
    "from scipy.special import erfinv\n",
    "from scipy.stats import binom\n",
    "from scipy.stats import norm\n",
    "from scipy.stats import poisson\n",
    "from scipy.special import erfinv, erf\n",
    "\n",
    "%matplotlib inline"
   ]
  },
  {
   "cell_type": "markdown",
   "id": "dd0ad2fc",
   "metadata": {},
   "source": [
    "## Problem 1 (2 points):"
   ]
  },
  {
   "cell_type": "markdown",
   "id": "7777dde0",
   "metadata": {},
   "source": [
    "### a)"
   ]
  },
  {
   "cell_type": "markdown",
   "id": "86fbef67",
   "metadata": {},
   "source": [
    "H null corresponds to the manufacturer telling the truth and having 5% of manufactured monitors being faulty.\n",
    "\n",
    "We want to find the probability of there being more faulty monitors than our threshold value given that the the null hypothesis is true. \n",
    "\n",
    "This means we want to find probability of there being 10 or more faulty monitors out of 100 given that the probability of there being a faulty monitor is 5%."
   ]
  },
  {
   "cell_type": "code",
   "execution_count": 2,
   "id": "2601ab0d",
   "metadata": {
    "scrolled": false
   },
   "outputs": [],
   "source": [
    "prob_t1 = 0\n",
    "for i in range(10,101):\n",
    "    prob_t1 += binom.pmf(i,100,0.05)"
   ]
  },
  {
   "cell_type": "code",
   "execution_count": 3,
   "id": "b64122d1",
   "metadata": {},
   "outputs": [
    {
     "name": "stdout",
     "output_type": "stream",
     "text": [
      "Probability of type 1 error at our threshold is:  2.819 %\n"
     ]
    }
   ],
   "source": [
    "print(\"Probability of type 1 error at our threshold is: \",100*round(prob_t1,5),\"%\")"
   ]
  },
  {
   "cell_type": "markdown",
   "id": "6fdb50c7",
   "metadata": {},
   "source": [
    "### b)"
   ]
  },
  {
   "cell_type": "markdown",
   "id": "fda65b71",
   "metadata": {},
   "source": [
    "H1 corresponds to the manufacturer not telling the truth and the actual rate of faulty monitors being 15%.\n",
    "\n",
    "To calculate the probability of a type 2 error we want to find the probability of rejecting H1 at our threshold value given that H1 is correct.\n",
    "\n",
    "This means we want to find the probability of accepting H0 given that H1 is true.\n",
    "\n",
    "We want to find the probability of there being 9 or less faulty monitors given that the true faulty rate is 15%"
   ]
  },
  {
   "cell_type": "code",
   "execution_count": 4,
   "id": "3055d148",
   "metadata": {},
   "outputs": [],
   "source": [
    "prob_t2 = 0\n",
    "for i in range(0,10):\n",
    "    #print(i,binom.pmf(i,100,0.15))\n",
    "    prob_t2 += binom.pmf(i,100,0.15)"
   ]
  },
  {
   "cell_type": "code",
   "execution_count": 5,
   "id": "8e2b960f",
   "metadata": {},
   "outputs": [
    {
     "name": "stdout",
     "output_type": "stream",
     "text": [
      "Probability of type 2 error at our threshold is:  5.509 %\n"
     ]
    }
   ],
   "source": [
    "print(\"Probability of type 2 error at our threshold is: \", 100*round(prob_t2,5),\"%\")"
   ]
  },
  {
   "cell_type": "markdown",
   "id": "5a67acba",
   "metadata": {},
   "source": [
    "## Problem 2 (3 points):"
   ]
  },
  {
   "cell_type": "code",
   "execution_count": 6,
   "id": "ccdd89c8",
   "metadata": {},
   "outputs": [],
   "source": [
    "class Gaussian:\n",
    "    def __init__(self, mean, sigma):\n",
    "        self.mean = mean\n",
    "        self.sigma = sigma\n",
    "    \n",
    "    def integralAbove(self,xval) :\n",
    "        gaussian = lambda x: (1/(self.sigma*np.sqrt(2*math.pi)))*np.exp((-1/2)*((x-self.mean)/self.sigma)**2)\n",
    "        integral, _ = integrate.quad(gaussian,xval,self.mean+(self.sigma*10))\n",
    "        return integral\n",
    "    \n",
    "    def integralBelow(self,xval) :\n",
    "        gaussian = lambda x: (1/(self.sigma*np.sqrt(2*math.pi)))*np.exp((-1/2)*((x-self.mean)/self.sigma)**2)\n",
    "        integral, _ = integrate.quad(gaussian,self.mean-(self.sigma*10),xval)\n",
    "        return integral"
   ]
  },
  {
   "cell_type": "code",
   "execution_count": 7,
   "id": "4c147e6d",
   "metadata": {},
   "outputs": [],
   "source": [
    "class ROC():\n",
    "    def __init__(self, t_cut):\n",
    "        self.t_cut = t_cut\n",
    "        \n",
    "    def mean_t(length, mass, p):\n",
    "        t = (length/1.98e-16)*np.sqrt(1+(mass/p)**2) # Converting length to natural units of GeV^{-1}\n",
    "        return t\n",
    "    \n",
    "    def calc_alpha(self, t_pion, sigma):\n",
    "        alpha = Gaussian(t_pion,sigma).integralAbove(self.t_cut)\n",
    "        return alpha\n",
    "\n",
    "    def calc_beta(self, t_kaon, sigma):   \n",
    "        beta = Gaussian(t_kaon,sigma).integralBelow(self.t_cut)\n",
    "        return beta"
   ]
  },
  {
   "cell_type": "code",
   "execution_count": 8,
   "id": "3019f451",
   "metadata": {},
   "outputs": [],
   "source": [
    "def performance_with_momentum(p,n_points):\n",
    "    t_pion = ROC.mean_t(20,193.6e6,p)\n",
    "    t_kaon = ROC.mean_t(20,493.7e6,p)\n",
    "    sigma = 400e-12/6.58e-25 # Converting time to natural units of GeV^{-1}\n",
    "    errors = np.array([])\n",
    "    for t_cut in np.linspace(t_pion,t_kaon,n_points):\n",
    "        alpha = ROC(t_cut).calc_alpha(t_pion,sigma)\n",
    "        beta = ROC(t_cut).calc_beta(t_kaon,sigma)\n",
    "        errors = np.append(errors,[alpha,beta])\n",
    "    return errors.reshape(n_points,2)"
   ]
  },
  {
   "cell_type": "code",
   "execution_count": 9,
   "id": "f5394296",
   "metadata": {},
   "outputs": [],
   "source": [
    "errors_3 = performance_with_momentum(3e9,100)\n",
    "errors_4 = performance_with_momentum(4e9,100)\n",
    "errors_6 = performance_with_momentum(6e9,100)"
   ]
  },
  {
   "cell_type": "code",
   "execution_count": 10,
   "id": "fd398c9c",
   "metadata": {},
   "outputs": [
    {
     "data": {
      "image/png": "[encoded data removed]",
      "text/plain": [
       "<Figure size 640x480 with 1 Axes>"
      ]
     },
     "metadata": {},
     "output_type": "display_data"
    }
   ],
   "source": [
    "plt.plot(errors_3[:,0],errors_3[:,1],label=\"p= 3 GeV/c\")\n",
    "plt.plot(errors_4[:,0],errors_4[:,1],label=\"p= 4 GeV/c\")\n",
    "plt.plot(errors_6[:,0],errors_6[:,1],label=\"p= 6 GeV/c\")\n",
    "plt.legend()\n",
    "plt.title(\"Beta vs alpha\")\n",
    "plt.xlabel(\"alpha\")\n",
    "plt.ylabel(\"beta\")\n",
    "plt.show()"
   ]
  },
  {
   "cell_type": "markdown",
   "id": "7c3a7377",
   "metadata": {},
   "source": [
    "### Which momentum value gives better performance and why?"
   ]
  },
  {
   "cell_type": "markdown",
   "id": "981f0fd3",
   "metadata": {},
   "source": [
    "In an ROC plot curves which pass closer to the origin show better performance. \n",
    "\n",
    "This is because closer to the origin alpha values can remain small while also keeping beta small. In other words, in this case type I and type II error can both remain small without the need for large tradeoffs in either type of error.\n",
    "\n",
    "For curves that are further from the origin, reducing one error greatly increases the other, which means poor performance.  \n",
    "\n",
    "In our results we can see the trend that lower momentum values have curves closer to the origin and hence have better performance. Precisely, we can see p= 6 GeV/c having the worst performance, p= 4 GeV/c having better performance and p= 3 GeV/c having the best performance. "
   ]
  },
  {
   "cell_type": "markdown",
   "id": "daf513e4",
   "metadata": {},
   "source": [
    "This can be explained in the following way:\n",
    "\n",
    "The speed of pions and kaons is lower at smaller values of momentum. This means at smaller values of momentum pions and kaons take a longer time to travel between the two scintillation counters. This also means that the absolute time difference between the pion and kaon travelling between the counters is amplified. \n",
    "\n",
    "This results in two gaussian measurements with the same width but with means a larger distance apart. Therefore the likelihood of type I and type II errors is reduced for threshold values between the gaussian means as the gaussians overlap less. "
   ]
  },
  {
   "cell_type": "code",
   "execution_count": null,
   "id": "b43ac09c",
   "metadata": {},
   "outputs": [],
   "source": []
  },
  {
   "cell_type": "markdown",
   "id": "34d62905",
   "metadata": {},
   "source": [
    "## Problem 3.1 (2 points):"
   ]
  },
  {
   "cell_type": "code",
   "execution_count": 53,
   "id": "37ed568e",
   "metadata": {},
   "outputs": [
    {
     "name": "stdout",
     "output_type": "stream",
     "text": [
      " total # of events = 43.0 # of bins = 50\n"
     ]
    },
    {
     "data": {
      "image/png": "[encoded data removed]",
      "text/plain": [
       "<Figure size 640x480 with 1 Axes>"
      ]
     },
     "metadata": {},
     "output_type": "display_data"
    }
   ],
   "source": [
    "nbins = 50\n",
    "XMIN = 2.4 # in GeV\n",
    "XMAX = 3.0 # in GeV\n",
    "bins = np.linspace(XMIN ,XMAX, nbins)\n",
    "counts = np.array([0, 0, 1, 2, 0, 1, 1, 0, 0, 1, 2, 1, 1, 2, 1, 0, 0, 0, 2, 1, 1,\n",
    "                  0, 1, 1, 1, 3, 3, 4, 2, 0, 1, 0, 1, 0, 1, 1, 0, 0, 0, 1, 0, 1, 0,\n",
    "                  0, 1, 2, 0, 2, 0, 0]).astype(float)\n",
    "tot = 0\n",
    "for i in counts :\n",
    "    tot += i\n",
    "print(\" total # of events =\",tot , \"# of bins =\",len(counts))\n",
    "argus_data = plt.hist(bins, bins = len(counts), weights=counts, range=(min(bins), max(bins)))\n",
    "plt.title(\"ARGUS $\\Omega_C$ signal peak\")\n",
    "plt.xlabel(\"$m(\\Xi^{-} \\mathrm{K}^{-} \\pi^{+} \\pi^{+})$ [GeV]\")\n",
    "plt.ylabel(\"entries\")\n",
    "plt.show()"
   ]
  },
  {
   "cell_type": "markdown",
   "id": "076bff78",
   "metadata": {},
   "source": [
    "### a)"
   ]
  },
  {
   "cell_type": "markdown",
   "id": "f9d1b052",
   "metadata": {},
   "source": [
    "Assuming all events are background, calculating average number of background events per bin."
   ]
  },
  {
   "cell_type": "code",
   "execution_count": 12,
   "id": "ce1de7ea",
   "metadata": {},
   "outputs": [],
   "source": [
    "avg_b = np.sum(argus_data[0])/argus_data[0].size"
   ]
  },
  {
   "cell_type": "code",
   "execution_count": 13,
   "id": "a697898b",
   "metadata": {},
   "outputs": [
    {
     "name": "stdout",
     "output_type": "stream",
     "text": [
      "Average number of background events per bin:  0.86\n"
     ]
    }
   ],
   "source": [
    "print(\"Average number of background events per bin: \",avg_b)"
   ]
  },
  {
   "cell_type": "markdown",
   "id": "d4fd744d",
   "metadata": {},
   "source": [
    "### b)"
   ]
  },
  {
   "cell_type": "markdown",
   "id": "a1b22c85",
   "metadata": {},
   "source": [
    "Location of peak in mass spectrum given by middle of most populated bin"
   ]
  },
  {
   "cell_type": "code",
   "execution_count": 14,
   "id": "495e644f",
   "metadata": {},
   "outputs": [],
   "source": [
    "peak_bin = np.argmax(argus_data[0]) # Find bin of mass peak"
   ]
  },
  {
   "cell_type": "code",
   "execution_count": 15,
   "id": "f6029dc9",
   "metadata": {},
   "outputs": [],
   "source": [
    "mass_peak = (argus_data[1][peak_bin]+argus_data[1][peak_bin+1])/2 # Avg the bin boundaries of the peak bin"
   ]
  },
  {
   "cell_type": "code",
   "execution_count": 16,
   "id": "1daa72ce",
   "metadata": {},
   "outputs": [
    {
     "name": "stdout",
     "output_type": "stream",
     "text": [
      "Location of the mass peak is at:  2.73 Gev\n"
     ]
    }
   ],
   "source": [
    "print(\"Location of the mass peak is at: \", mass_peak,\"Gev\")"
   ]
  },
  {
   "cell_type": "markdown",
   "id": "e2e6f45f",
   "metadata": {},
   "source": [
    "### c)"
   ]
  },
  {
   "cell_type": "markdown",
   "id": "6bc73865",
   "metadata": {},
   "source": [
    "Counting total number of events around at +/-2.5 sigma window around the mass peak.\n",
    "\n",
    "+/-2.5 sigma window means counting events within 12\\*2.5=30 MeV of each side of the peak. \n",
    "\n",
    "Therefore between 2.70 GeV and 2.76 GeV, which corresponds to 5 bins in total, centered around the bin containing the mass peak."
   ]
  },
  {
   "cell_type": "code",
   "execution_count": 17,
   "id": "099416e7",
   "metadata": {},
   "outputs": [
    {
     "name": "stdout",
     "output_type": "stream",
     "text": [
      "Bin containing the peak is:  27\n"
     ]
    }
   ],
   "source": [
    "print(\"Bin containing the peak is: \",peak_bin)"
   ]
  },
  {
   "cell_type": "code",
   "execution_count": 18,
   "id": "261e0c60",
   "metadata": {},
   "outputs": [
    {
     "name": "stdout",
     "output_type": "stream",
     "text": [
      "Bin counts of the 5 bins within the +/- 2.5 sigma window:  [3. 3. 4. 2. 0.]\n"
     ]
    }
   ],
   "source": [
    "print(\"Bin counts of the 5 bins within the +/- 2.5 sigma window: \", argus_data[0][[25,26,27,28,29]])"
   ]
  },
  {
   "cell_type": "code",
   "execution_count": 19,
   "id": "5df73c3b",
   "metadata": {},
   "outputs": [
    {
     "name": "stdout",
     "output_type": "stream",
     "text": [
      "Total number of events within the +/- 2.5 sigma window:  12.0\n"
     ]
    }
   ],
   "source": [
    "print(\"Total number of events within the +/- 2.5 sigma window: \", argus_data[0][[25,26,27,28,29]].sum())"
   ]
  },
  {
   "cell_type": "markdown",
   "id": "3c0605fc",
   "metadata": {},
   "source": [
    "### d)"
   ]
  },
  {
   "cell_type": "code",
   "execution_count": 49,
   "id": "31f02104",
   "metadata": {},
   "outputs": [
    {
     "name": "stdout",
     "output_type": "stream",
     "text": [
      "Estimated number of background events within window:  4.3\n"
     ]
    }
   ],
   "source": [
    "print(\"Estimated number of background events within window: \", avg_b*5)"
   ]
  },
  {
   "cell_type": "code",
   "execution_count": 50,
   "id": "aa8f1af6",
   "metadata": {},
   "outputs": [],
   "source": [
    "prob = 0\n",
    "for i in range(0,12):\n",
    "    prob+= poisson.pmf(i,4.3)\n",
    "p_value = 1-prob"
   ]
  },
  {
   "cell_type": "code",
   "execution_count": 51,
   "id": "4e49c8a5",
   "metadata": {},
   "outputs": [
    {
     "name": "stdout",
     "output_type": "stream",
     "text": [
      "Probability of poission distribution with mean N_background to produce N_observed:  0.00166608\n"
     ]
    }
   ],
   "source": [
    "print(\"Probability of poission distribution with mean N_background to produce N_observed: \", round(p_value,8))"
   ]
  },
  {
   "cell_type": "code",
   "execution_count": 52,
   "id": "c3440912",
   "metadata": {
    "scrolled": true
   },
   "outputs": [
    {
     "name": "stdout",
     "output_type": "stream",
     "text": [
      "Number of standard deviations this corresponds to:  3.1441\n"
     ]
    }
   ],
   "source": [
    "n_sigmas = erfinv(1-p_value)*np.sqrt(2)\n",
    "print(\"Number of standard deviations this corresponds to: \",round(n_sigmas,4))"
   ]
  },
  {
   "cell_type": "code",
   "execution_count": null,
   "id": "4126da03",
   "metadata": {},
   "outputs": [],
   "source": []
  },
  {
   "cell_type": "markdown",
   "id": "af4d06c2",
   "metadata": {},
   "source": [
    "## Problem 3.2 (3 points):"
   ]
  },
  {
   "cell_type": "markdown",
   "id": "81adde49",
   "metadata": {},
   "source": [
    "### a)"
   ]
  },
  {
   "cell_type": "markdown",
   "id": "d542bc71",
   "metadata": {},
   "source": [
    "### Defining the probability density functions"
   ]
  },
  {
   "cell_type": "code",
   "execution_count": 24,
   "id": "2b500900",
   "metadata": {},
   "outputs": [],
   "source": [
    "# Generate the flat PDF\n",
    "def flat_PDF(nbins):\n",
    "    dist = (1/nbins)\n",
    "    return dist"
   ]
  },
  {
   "cell_type": "code",
   "execution_count": 25,
   "id": "3c9b9fec",
   "metadata": {},
   "outputs": [],
   "source": [
    "#Making sure the guassian is normalised when centered at the edges of the data\n",
    "def gauss_PDF(x,mean,sigma):\n",
    "    gauss_dist = lambda x: norm.pdf(x,mean,sigma) \n",
    "    area, _ = integrate.quad(gauss_dist,x_low,x_high) # Calculate the normalisation constant\n",
    "    return (1/area)*norm.pdf(x,mean,sigma)"
   ]
  },
  {
   "cell_type": "code",
   "execution_count": 26,
   "id": "d9a4590c",
   "metadata": {},
   "outputs": [],
   "source": [
    "bin_width = argus_data[1][1]-argus_data[1][0]"
   ]
  },
  {
   "cell_type": "code",
   "execution_count": 27,
   "id": "63ee172a",
   "metadata": {},
   "outputs": [],
   "source": [
    "bin_centres = np.linspace(2.4+(bin_width/2),3-(bin_width/2),50)"
   ]
  },
  {
   "cell_type": "code",
   "execution_count": 28,
   "id": "d08d6a30",
   "metadata": {},
   "outputs": [],
   "source": [
    "n_events = argus_data[0].sum()"
   ]
  },
  {
   "cell_type": "markdown",
   "id": "2cba1fab",
   "metadata": {},
   "source": [
    "### Fitting assuming no signal"
   ]
  },
  {
   "cell_type": "code",
   "execution_count": 55,
   "id": "90e2d245",
   "metadata": {},
   "outputs": [],
   "source": [
    "#create a function for the chi squared flat fit\n",
    "def chisq_flat(intercept):\n",
    "    n_observed = argus_data[0]\n",
    "    n_expected = intercept*nbins*flat_PDF(argus_data[0].size)*np.ones(nbins)\n",
    "    chi_sq_sum = 0\n",
    "    for i in range(0,nbins):\n",
    "        if n_expected[i] < 0:\n",
    "            n_expected[i] = 1e-3\n",
    "        if n_observed[i] == 0:\n",
    "            chi_sq_sum += n_expected[i]\n",
    "        else:    \n",
    "            chi_sq_sum += (n_expected[i]-n_observed[i])+(n_observed[i]*np.log(n_observed[i]/n_expected[i]))\n",
    "    chi_sq = 2*chi_sq_sum\n",
    "    return chi_sq"
   ]
  },
  {
   "cell_type": "code",
   "execution_count": 61,
   "id": "01104132",
   "metadata": {
    "scrolled": false
   },
   "outputs": [],
   "source": [
    "# Set the minimisation parameters\n",
    "m = Minuit(chisq_flat, intercept=0.86)\n",
    "m.limits[\"intercept\"] = (0,1) \n",
    "\n",
    "# Set the errors on the initial start values\n",
    "m.errors=[0.01]\n",
    "\n",
    "# Set the increase in Chi squared for the 1-SD error calculation\n",
    "m.errordef=1.0\n",
    "\n",
    "# Run the minimisation\n",
    "m = m.migrad()"
   ]
  },
  {
   "cell_type": "code",
   "execution_count": 62,
   "id": "4fd5ff86",
   "metadata": {},
   "outputs": [
    {
     "name": "stdout",
     "output_type": "stream",
     "text": [
      "intercept =   0.8600  +/-  0.1280\n"
     ]
    }
   ],
   "source": [
    "# Printing the final results and their error\n",
    "fstr = \"{0:2.4f}\"\n",
    "val = m.values[\"intercept\"]\n",
    "err = m.errors[\"intercept\"]\n",
    "print(\"{:2s}\".format(\"intercept\"), \"=  \", fstr.format(val), \" +/- \", fstr.format(err))"
   ]
  },
  {
   "cell_type": "code",
   "execution_count": 63,
   "id": "1db75c3c",
   "metadata": {},
   "outputs": [
    {
     "name": "stdout",
     "output_type": "stream",
     "text": [
      "Actual intercept: 0.86\n"
     ]
    }
   ],
   "source": [
    "print(\"Actual intercept:\", avg_b)"
   ]
  },
  {
   "cell_type": "markdown",
   "id": "b2374f6d",
   "metadata": {},
   "source": [
    "The fitted H0 intercept is correct to within the error margin, showing that a good fit was made"
   ]
  },
  {
   "cell_type": "code",
   "execution_count": 33,
   "id": "d5bed42b",
   "metadata": {},
   "outputs": [],
   "source": [
    "# Collecting the final fit values\n",
    "H0_fit_value = m.values[\"intercept\"]"
   ]
  },
  {
   "cell_type": "code",
   "execution_count": 34,
   "id": "7108f6bd",
   "metadata": {},
   "outputs": [],
   "source": [
    "# Calculating the chi_squared value for the final fit\n",
    "H0_chi_squared = chisq_flat(intercept=H0_fit_value)"
   ]
  },
  {
   "cell_type": "markdown",
   "id": "d1a02973",
   "metadata": {},
   "source": [
    "### Fitting assuming a gaussian signal"
   ]
  },
  {
   "cell_type": "code",
   "execution_count": 35,
   "id": "d72dfcc8",
   "metadata": {},
   "outputs": [],
   "source": [
    "# Create function for chi squared combined fit\n",
    "def chisq_combined(intercept,F):\n",
    "    n_observed = argus_data[0]\n",
    "    # Separately normalised counts\n",
    "    n_expected_back = intercept*nbins*flat_PDF(argus_data[0].size)*np.ones(nbins) \n",
    "    n_expected_sig = n_events*bin_width*gauss_PDF(bin_centres,mean,sigma)\n",
    "    # Combine separately normalised counts\n",
    "    n_expected = ((1-F) * n_expected_back) + (F * n_expected_sig) \n",
    "    chi_sq_sum = 0\n",
    "    for i in range(0,nbins):\n",
    "        if n_expected[i] < 0:\n",
    "            n_expected[i] = 1e-3\n",
    "        if n_observed[i] == 0:\n",
    "            chi_sq_sum += n_expected[i] # Handling log(0)\n",
    "        else:    \n",
    "            chi_sq_sum += (n_expected[i]-n_observed[i])+(n_observed[i]*np.log(n_observed[i]/n_expected[i]))\n",
    "    chi_sq = 2*chi_sq_sum\n",
    "    return chi_sq"
   ]
  },
  {
   "cell_type": "code",
   "execution_count": 36,
   "id": "dd3b4ac5",
   "metadata": {
    "scrolled": false
   },
   "outputs": [],
   "source": [
    "H1_chisq_vals = np.array([])\n",
    "sigma=0.012\n",
    "for mean in bin_centres:\n",
    "\n",
    "    # Setting the range of our mass data for use in normalisation\n",
    "    x_low = XMIN # 2.4 GeV\n",
    "    x_high = XMAX # 3.0 GeV\n",
    "    \n",
    "    # Set the minimisation parameters\n",
    "    m = Minuit(chisq_combined, intercept=0.86, F=0.1)\n",
    "    m.limits[\"intercept\"] = (0.0,1.0) \n",
    "    m.limits[\"F\"] = (0.0,1.0)\n",
    "\n",
    "    # Set the errors on the initial start values\n",
    "    m.errors=[0.1,0.1]\n",
    "\n",
    "    # Set the increase in Chi squared for the 1-SD error calculation\n",
    "    m.errordef=1.0\n",
    "\n",
    "    # Run the minimisation\n",
    "    m = m.migrad()\n",
    "    \n",
    "    # Calculating the chi squared for the final fits\n",
    "    chi_sq = chisq_combined(m.values[\"intercept\"],m.values[\"F\"])\n",
    "    H1_chisq_vals = np.append(H1_chisq_vals,chi_sq)"
   ]
  },
  {
   "cell_type": "markdown",
   "id": "ce48c7ce",
   "metadata": {},
   "source": [
    "### Calculating the chi-squared difference between the two hypotheses"
   ]
  },
  {
   "cell_type": "code",
   "execution_count": 37,
   "id": "bf35ba92",
   "metadata": {},
   "outputs": [
    {
     "name": "stdout",
     "output_type": "stream",
     "text": [
      "Chi-squared for H0:  56.6526\n"
     ]
    }
   ],
   "source": [
    "print(\"Chi-squared for H0: \",round(H0_chi_squared,4))"
   ]
  },
  {
   "cell_type": "code",
   "execution_count": 38,
   "id": "fc890b8b",
   "metadata": {},
   "outputs": [],
   "source": [
    "chi_sq_diff = H0_chi_squared-H1_chisq_vals"
   ]
  },
  {
   "cell_type": "code",
   "execution_count": 39,
   "id": "e1200b78",
   "metadata": {},
   "outputs": [
    {
     "data": {
      "image/png": "[encoded data removed]",
      "text/plain": [
       "<Figure size 640x480 with 1 Axes>"
      ]
     },
     "metadata": {},
     "output_type": "display_data"
    }
   ],
   "source": [
    "chi_sq_diff_hist = plt.hist(bin_centres,bins=argus_data[1],weights=chi_sq_diff)\n",
    "plt.title(\"Chi-squared difference between $H_0$ and $H_1$ vs invariant mass\")\n",
    "plt.xlabel(\"$m(\\Xi^{-} \\mathrm{K}^{-} \\pi^{+} \\pi^{+})$ [GeV]\")\n",
    "plt.ylabel(\"$\\chi^2(H_0)-\\chi^2(H_1)$\")\n",
    "plt.show()"
   ]
  },
  {
   "cell_type": "markdown",
   "id": "957f619d",
   "metadata": {},
   "source": [
    "### Finding the p-value using max chi-squared difference"
   ]
  },
  {
   "cell_type": "code",
   "execution_count": 40,
   "id": "b91b63c5",
   "metadata": {},
   "outputs": [],
   "source": [
    "max_val = np.amax(chi_sq_diff)\n",
    "max_bin = np.argmax(chi_sq_diff)\n",
    "inv_mass_peak = bin_centres[max_bin]"
   ]
  },
  {
   "cell_type": "code",
   "execution_count": 41,
   "id": "1a444901",
   "metadata": {},
   "outputs": [
    {
     "name": "stdout",
     "output_type": "stream",
     "text": [
      "Largest chi-squared difference is 14.2898 at bin 26 corresponding to 2.718 GeV\n"
     ]
    }
   ],
   "source": [
    "print(\"Largest chi-squared difference is\",round(max_val,4),\"at bin\",max_bin,\"corresponding to\",inv_mass_peak,\"GeV\")"
   ]
  },
  {
   "cell_type": "code",
   "execution_count": 42,
   "id": "d1c2836b",
   "metadata": {},
   "outputs": [
    {
     "name": "stdout",
     "output_type": "stream",
     "text": [
      "The p-value is:  0.00015671464665678592\n"
     ]
    }
   ],
   "source": [
    "pvalue = 1 - scipy.stats.chi2.cdf(np.amax(chi_sq_diff),1) \n",
    "print(\"The p-value is: \",pvalue)"
   ]
  },
  {
   "cell_type": "markdown",
   "id": "1dde68ce",
   "metadata": {},
   "source": [
    "### Finding the Z-score"
   ]
  },
  {
   "cell_type": "code",
   "execution_count": 43,
   "id": "32febf63",
   "metadata": {},
   "outputs": [
    {
     "name": "stdout",
     "output_type": "stream",
     "text": [
      "The Z-score is:  3.7801805932541326\n"
     ]
    }
   ],
   "source": [
    "n_sigmas = erfinv(1 - pvalue )* np.sqrt(2)\n",
    "print(\"The Z-score is: \",n_sigmas)"
   ]
  },
  {
   "cell_type": "markdown",
   "id": "5a115d77",
   "metadata": {},
   "source": [
    "These results show that for this signal to be a fluctuation, this fluction would occur over 3.7 standard deviations away from the average results that would be expected if there was no signal. This means the hypothesis that there is a signal is strongly favoured as such a fluctuation is highly improbable."
   ]
  },
  {
   "cell_type": "code",
   "execution_count": null,
   "id": "96734731",
   "metadata": {},
   "outputs": [],
   "source": []
  },
  {
   "cell_type": "code",
   "execution_count": null,
   "id": "b78e74cc",
   "metadata": {},
   "outputs": [],
   "source": []
  },
  {
   "cell_type": "code",
   "execution_count": null,
   "id": "03ab8e38",
   "metadata": {},
   "outputs": [],
   "source": []
  }
 ],
 "metadata": {
  "kernelspec": {
   "display_name": "Python 3 (ipykernel)",
   "language": "python",
   "name": "python3"
  },
  "language_info": {
   "codemirror_mode": {
    "name": "ipython",
    "version": 3
   },
   "file_extension": ".py",
   "mimetype": "text/x-python",
   "name": "python",
   "nbconvert_exporter": "python",
   "pygments_lexer": "ipython3",
   "version": "3.9.13"
  }
 },
 "nbformat": 4,
 "nbformat_minor": 5
}
