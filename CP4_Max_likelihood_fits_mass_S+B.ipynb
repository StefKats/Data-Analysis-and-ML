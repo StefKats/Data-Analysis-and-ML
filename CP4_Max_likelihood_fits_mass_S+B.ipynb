{
 "cells": [
  {
   "cell_type": "code",
   "execution_count": 1,
   "id": "b628e79e",
   "metadata": {},
   "outputs": [],
   "source": [
    "#Making the necessary imports\n",
    "import os\n",
    "import numpy as np\n",
    "from numpy import matrix\n",
    "import scipy.optimize as theMinimiser\n",
    "from iminuit import Minuit\n",
    "import math\n",
    "import matplotlib.pyplot as plt\n",
    "import scipy\n",
    "\n",
    "%matplotlib inline"
   ]
  },
  {
   "cell_type": "markdown",
   "id": "72410695",
   "metadata": {},
   "source": [
    "## Part 1"
   ]
  },
  {
   "cell_type": "markdown",
   "id": "28cbf3f8",
   "metadata": {},
   "source": [
    "### Plotting the data"
   ]
  },
  {
   "cell_type": "code",
   "execution_count": 2,
   "id": "da3e1b93",
   "metadata": {},
   "outputs": [],
   "source": [
    "#Load the muon decay times\n",
    "decay_times = np.loadtxt(\"datafile-exp.txt\", dtype=float)"
   ]
  },
  {
   "cell_type": "code",
   "execution_count": 3,
   "id": "444c7c70",
   "metadata": {},
   "outputs": [
    {
     "data": {
      "image/png": "[encoded data removed]",
      "text/plain": [
       "<Figure size 640x480 with 1 Axes>"
      ]
     },
     "metadata": {},
     "output_type": "display_data"
    }
   ],
   "source": [
    "plt.hist(decay_times, bins=100)\n",
    "plt.title(\"Muon lifetimes\")\n",
    "plt.xlabel(\"Lifetime ($\\mu$s)\")\n",
    "plt.ylabel(\"Count\")\n",
    "plt.show()"
   ]
  },
  {
   "cell_type": "markdown",
   "id": "4d7dd926",
   "metadata": {},
   "source": [
    "### Maximum likelihood fit to the data"
   ]
  },
  {
   "cell_type": "markdown",
   "id": "0b698f0a",
   "metadata": {},
   "source": [
    "Throughout part 1:\n",
    "\n",
    "\"tau\" = the lifetime of muons"
   ]
  },
  {
   "cell_type": "code",
   "execution_count": 4,
   "id": "db44afd1",
   "metadata": {},
   "outputs": [],
   "source": [
    "# Generate the normalised exponential PDF\n",
    "def Generate_PDF(decay_times,tau,t_low,t_high):\n",
    "    C = np.exp(-t_low/tau)-np.exp(-t_high/tau) # Calculate the normalisation constant\n",
    "    return (1/(tau*C))*np.exp(-decay_times/tau) # Return the normalised exponential PDF"
   ]
  },
  {
   "cell_type": "code",
   "execution_count": 5,
   "id": "01611799",
   "metadata": {},
   "outputs": [],
   "source": [
    "# Calculate the negative of the log of the joint likelihood\n",
    "# This is the function we are trying to minimise with the minimiser, given different values of tau\n",
    "def NLL(tau):\n",
    "    P = Generate_PDF(decay_times,tau,t_low,t_high)\n",
    "    return -np.sum(np.log(P))"
   ]
  },
  {
   "cell_type": "markdown",
   "id": "88be08c4",
   "metadata": {},
   "source": [
    "#### Using the correct PDF normalisation (range 0-10)"
   ]
  },
  {
   "cell_type": "code",
   "execution_count": 6,
   "id": "8fa49cda",
   "metadata": {},
   "outputs": [],
   "source": [
    "# Using the correctly normalised pdf\n",
    "\n",
    "# Setting the range of our time data for use in normalisation\n",
    "t_low = 0\n",
    "t_high = 10\n",
    "\n",
    "# Set the minimisation parameters\n",
    "m = Minuit(NLL, tau=1)\n",
    "\n",
    "# Set the errors on the initial start values\n",
    "m.errors=[0.1]\n",
    "\n",
    "# Set the increase in NLL for the 1-SD error calculation\n",
    "m.errordef=0.5\n",
    "\n",
    "# Run the minimisation\n",
    "m = m.migrad()"
   ]
  },
  {
   "cell_type": "code",
   "execution_count": 7,
   "id": "c72bc1b6",
   "metadata": {},
   "outputs": [],
   "source": [
    "#C = np.exp(0)-np.exp(-10/2.2)"
   ]
  },
  {
   "cell_type": "code",
   "execution_count": 8,
   "id": "7cc4e88c",
   "metadata": {},
   "outputs": [
    {
     "name": "stdout",
     "output_type": "stream",
     "text": [
      "tau =   2.2043  +/-  0.0250\n"
     ]
    }
   ],
   "source": [
    "# Printing the final result and its error\n",
    "fstr = \"{0:2.4f}\"\n",
    "val = m.values[\"tau\"]\n",
    "err = m.errors[\"tau\"]\n",
    "print(\"{:2s}\".format(\"tau\"), \"=  \", fstr.format(val), \" +/- \", fstr.format(err))"
   ]
  },
  {
   "cell_type": "markdown",
   "id": "fe8a3f9e",
   "metadata": {},
   "source": [
    "#### Without using PDF normalisation (range 0-inf)"
   ]
  },
  {
   "cell_type": "code",
   "execution_count": 9,
   "id": "d0e5750b",
   "metadata": {},
   "outputs": [],
   "source": [
    "# Using the un-normalised pdf\n",
    "\n",
    "# Not using the same range as our time data\n",
    "t_low = 0\n",
    "t_high = np.inf\n",
    "\n",
    "# Set the minimisation parameters\n",
    "m = Minuit(NLL, tau=1)\n",
    "\n",
    "# Set the errors on the initial start values\n",
    "m.errors=[0.1]\n",
    "\n",
    "# Set the increase in NLL for the 1-SD error calculation\n",
    "m.errordef=0.5\n",
    "\n",
    "# Run the minimisation\n",
    "m = m.migrad()"
   ]
  },
  {
   "cell_type": "code",
   "execution_count": 10,
   "id": "0343f1f5",
   "metadata": {},
   "outputs": [
    {
     "name": "stdout",
     "output_type": "stream",
     "text": [
      "tau =   2.0961  +/-  0.0210\n"
     ]
    }
   ],
   "source": [
    "# Printing the final result and its error\n",
    "fstr = \"{0:2.4f}\"\n",
    "val = m.values[\"tau\"]\n",
    "err = m.errors[\"tau\"]\n",
    "print(\"{:2s}\".format(\"tau\"), \"=  \", fstr.format(val), \" +/- \", fstr.format(err))"
   ]
  },
  {
   "cell_type": "markdown",
   "id": "6108952e",
   "metadata": {},
   "source": [
    "### Interpretation of the results"
   ]
  },
  {
   "cell_type": "markdown",
   "id": "2ab91460",
   "metadata": {},
   "source": [
    "When we perform maximum likelihood fitting to the correctly normalised PDF, in the range of our data, we obtain a muon life time that is correct within the error margin.\n",
    "\n",
    "When we perform maximum likelihood fitting to the un-normalised PDF, which assumes a data range that extends beyond the recorded data range, we obtain an underestimate for the muon life time that cannot be explained by the error. \n",
    "\n",
    "In the first case we correctly normalise the PDF to have unit area over our data range. This allows the lifetime to be determined accurately as the minimiser only fits the exponential distribution to the range of data that we have taken.\n",
    "\n",
    "In the latter case the underestimate for the muon lifetime comes from not taking into account that we have limited data to fit. Due to the limit in our number of data samples we do not have a representative distribution of the real exponential distribution which underlies this process. Instead we effectively have a cropped exponential distribution which has the tail missing. This means we do not account for the rare decay samples that would decay with much longer lifetimes and so we underestimate the muon lifetime when fitting in this way."
   ]
  },
  {
   "cell_type": "markdown",
   "id": "ea31dc34",
   "metadata": {},
   "source": [
    "## Part 2"
   ]
  },
  {
   "cell_type": "markdown",
   "id": "564648a2",
   "metadata": {},
   "source": [
    "Throughout part 2:\n",
    "\n",
    "\"tau\" = the \"lifetime\" of the exponential mass distribution\n",
    "\n",
    "\"mu\" = the mean of the gaussian distribution\n",
    "\n",
    "\"F\" = the fraction of the samples that belong to the exponential distribution"
   ]
  },
  {
   "cell_type": "markdown",
   "id": "f0291d9e",
   "metadata": {},
   "source": [
    "### Plotting the data"
   ]
  },
  {
   "cell_type": "code",
   "execution_count": 11,
   "id": "f0830fe0",
   "metadata": {},
   "outputs": [],
   "source": [
    "# Load the invariant masses\n",
    "mass_samples = np.loadtxt(\"datafile-expresonance.txt\", dtype=float)"
   ]
  },
  {
   "cell_type": "code",
   "execution_count": 12,
   "id": "654d2c23",
   "metadata": {},
   "outputs": [
    {
     "data": {
      "image/png": "[encoded data removed]",
      "text/plain": [
       "<Figure size 640x480 with 1 Axes>"
      ]
     },
     "metadata": {},
     "output_type": "display_data"
    }
   ],
   "source": [
    "plt.hist(mass_samples, bins=100)\n",
    "plt.title(\"Mass distribution\")\n",
    "plt.xlabel(\"Mass\")\n",
    "plt.ylabel(\"Count\")\n",
    "plt.show()"
   ]
  },
  {
   "cell_type": "markdown",
   "id": "20470343",
   "metadata": {},
   "source": [
    "### Maximum likelihood fit to the data"
   ]
  },
  {
   "cell_type": "code",
   "execution_count": 13,
   "id": "e3b32f42",
   "metadata": {},
   "outputs": [],
   "source": [
    "# Generate the normalised exponential PDF\n",
    "def Generate_exp_PDF(mass_samples,tau,mass_low,mass_high):\n",
    "    C = np.exp(-mass_low/tau)-np.exp(-mass_high/tau) # Calculate the normalisation constant\n",
    "    return (1/(tau*C))*np.exp(-mass_samples/tau) # Return the normalised exponential PDF"
   ]
  },
  {
   "cell_type": "code",
   "execution_count": 14,
   "id": "9f80f3d8",
   "metadata": {},
   "outputs": [],
   "source": [
    "# Generate the guassian PDF\n",
    "# No need to normalise the guassian PDF as the range of data on each side of the mean is many standard deviations away\n",
    "# and therefore the data range can be accurately approximated as infinite\n",
    "def Generate_gauss_PDF(mass_samples, mu):\n",
    "    return scipy.stats.norm.pdf(mass_samples,mu,sigma) # Return the normalised gaussian PDF"
   ]
  },
  {
   "cell_type": "code",
   "execution_count": 15,
   "id": "164b08a1",
   "metadata": {},
   "outputs": [],
   "source": [
    "# Generate the combined PDF of the normalised exponential and normalised gaussian PDFs\n",
    "# This PDF is also normalised as the fraction it takes of the normalised gaussian and exponential PDFs adds up to 1\n",
    "def PDF_combined(mass_samples,tau,mu,F,mass_low,mass_high):\n",
    "    PDF1 = Generate_exp_PDF(mass_samples,tau,mass_low,mass_high)\n",
    "    PDF2 = Generate_gauss_PDF(mass_samples,mu)\n",
    "    \n",
    "    return (F * PDF1) + ((1-F) * PDF2)"
   ]
  },
  {
   "cell_type": "code",
   "execution_count": 16,
   "id": "aa9cf4f2",
   "metadata": {},
   "outputs": [],
   "source": [
    "# Calculate the negative of the log of the joint likelihood\n",
    "# This is the function we are trying to minimise with the minimiser, given different values of tau, mu and F\n",
    "def NLL(tau,mu,F):\n",
    "    P = PDF_combined(mass_samples,tau,mu,F,mass_low,mass_high)\n",
    "    return -np.sum(np.log(P))"
   ]
  },
  {
   "cell_type": "code",
   "execution_count": 17,
   "id": "6cc1a27c",
   "metadata": {},
   "outputs": [],
   "source": [
    "sigma = 0.2 # Using a fixed gaussian width of 0.2\n",
    "\n",
    "# Setting the range of our mass data for use in normalisation\n",
    "mass_low = 0 \n",
    "mass_high = 10\n",
    "\n",
    "# Set the minimisation parameters\n",
    "m = Minuit(NLL, tau=3, mu=2, F=0.5)\n",
    "m.limits[\"F\"] = (0.0,1.0) \n",
    "m.limits[\"tau\"] = (0.0,10.0) \n",
    "m.limits[\"mu\"] = (1.0,9.0) # Limits on mu set many standard deviations away from data boundaries to accurately\n",
    "                           # approximate infinite data range \n",
    "\n",
    "# Set the errors on the initial start values\n",
    "m.errors=[0.1,0.1,0.1]\n",
    "\n",
    "# Set the increase in NLL for the 1-SD error calculation\n",
    "m.errordef=0.5\n",
    "\n",
    "# Run the minimisation\n",
    "m = m.migrad()"
   ]
  },
  {
   "cell_type": "code",
   "execution_count": 18,
   "id": "03f21bc7",
   "metadata": {},
   "outputs": [
    {
     "name": "stdout",
     "output_type": "stream",
     "text": [
      "tau =   5.0434  +/-  0.1027\n",
      "\n",
      "\n",
      "mu =   2.4998  +/-  0.0118\n",
      "\n",
      "\n",
      "F  =   0.9029  +/-  0.0045\n"
     ]
    }
   ],
   "source": [
    "# Printing the final results and their error\n",
    "fstr = \"{0:2.4f}\"\n",
    "val = m.values[\"tau\",\"mu\",\"F\"]\n",
    "err = m.errors[\"tau\",\"mu\",\"F\"]\n",
    "print(\"{:2s}\".format(\"tau\"), \"=  \", fstr.format(val[0]), \" +/- \", fstr.format(err[0]))\n",
    "print(\"\\n\")\n",
    "print(\"{:2s}\".format(\"mu\"), \"=  \", fstr.format(val[1]), \" +/- \", fstr.format(err[1]))\n",
    "print(\"\\n\")\n",
    "print(\"{:2s}\".format(\"F\"), \"=  \", fstr.format(val[2]), \" +/- \", fstr.format(err[2]))"
   ]
  },
  {
   "cell_type": "markdown",
   "id": "1829f9e8",
   "metadata": {},
   "source": [
    "### Discussion of the results"
   ]
  },
  {
   "cell_type": "markdown",
   "id": "f26c60e5",
   "metadata": {},
   "source": [
    "First, separate PDFs were generated for the exponential and guassian distributions. The exponential PDF was explicitly normalised. The gaussian PDF was ensured to be normalised by restraining its mean from going less than 5 standard deviations away from the data boundaries and having its width fixed.\n",
    "\n",
    "Secondly, reasonable initial parameter values and errors were provided to the minimizer and the error definition was adjusted.\n",
    "\n",
    "Finally, the minimization was ran to produce the fitted values of tau, mu and F and their errors."
   ]
  },
  {
   "cell_type": "markdown",
   "id": "47c66305",
   "metadata": {},
   "source": [
    "### Interpretation of the results"
   ]
  },
  {
   "cell_type": "markdown",
   "id": "e7196d07",
   "metadata": {},
   "source": [
    "All three values that were obtained for tau, mu and F are, within their error margins, accurate to the true values that were used to generate the distribution that was used in the fitting.\n",
    "\n",
    "The errors which are quoted for each value are of reasonable size.\n",
    "\n",
    "Altogether, this indicates that the parameter fitting was successful."
   ]
  },
  {
   "cell_type": "code",
   "execution_count": null,
   "id": "a7652909",
   "metadata": {},
   "outputs": [],
   "source": []
  },
  {
   "cell_type": "code",
   "execution_count": null,
   "id": "02232101",
   "metadata": {},
   "outputs": [],
   "source": []
  },
  {
   "cell_type": "code",
   "execution_count": null,
   "id": "4dd178b4",
   "metadata": {},
   "outputs": [],
   "source": []
  }
 ],
 "metadata": {
  "kernelspec": {
   "display_name": "Python 3 (ipykernel)",
   "language": "python",
   "name": "python3"
  },
  "language_info": {
   "codemirror_mode": {
    "name": "ipython",
    "version": 3
   },
   "file_extension": ".py",
   "mimetype": "text/x-python",
   "name": "python",
   "nbconvert_exporter": "python",
   "pygments_lexer": "ipython3",
   "version": "3.9.13"
  }
 },
 "nbformat": 4,
 "nbformat_minor": 5
}
